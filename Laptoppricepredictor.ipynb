{
 "cells": [
  {
   "cell_type": "code",
   "execution_count": 2,
   "metadata": {
    "id": "yrAzgyoz0VUI"
   },
   "outputs": [],
   "source": [
    "import pandas as pd\n",
    "import numpy as np"
   ]
  },
  {
   "cell_type": "markdown",
   "metadata": {
    "id": "qOmll3it3TYb"
   },
   "source": [
    "#Overview:\n",
    "   This project is about to predict and give the user price of laptops on the basis of given input features;  \n",
    "  \n",
    "*  Data Cleaning\n",
    "*  EDA\n",
    "*   Feature Enginnering\n",
    "*    Model building\n",
    "              Using these Algorithms:\n",
    "\n",
    "              \n",
    "              LinearRegression, Ridge, Lasso\n",
    "              SVR\n",
    "              GradientBoostingRegressor, AdaBoostRegressor, RandomForestRegressor\n",
    "              DecisionTreeRegressor\n",
    "              KNeighborsRegressor\n",
    "              XGBRegressor\n",
    "\n",
    "\n",
    "\n",
    "\n",
    "*   convert Into streamlit based website\n",
    "*   Deploye\n",
    "\n"
   ]
  },
  {
   "cell_type": "code",
   "execution_count": 3,
   "metadata": {
    "colab": {
     "base_uri": "https://localhost:8080/"
    },
    "id": "k8aXzA7O0rPX",
    "outputId": "7aea6f2a-3e1c-46f5-d161-b84396dcee32"
   },
   "outputs": [
    {
     "name": "stdout",
     "output_type": "stream",
     "text": [
      "Warning: Looks like you're using an outdated `kagglehub` version (installed: 0.3.7), please consider upgrading to the latest version (0.3.10).\n"
     ]
    }
   ],
   "source": [
    "# Install dependencies as needed:\n",
    "# pip install kagglehub[pandas-datasets]\n",
    "import kagglehub\n",
    "from kagglehub import KaggleDatasetAdapter\n",
    "\n",
    "# **Change this line to point to the correct file within the dataset:**\n",
    "file_path = \"laptop_data.csv\"\n",
    "\n",
    "# Load the latest version\n",
    "df = kagglehub.load_dataset(\n",
    "  KaggleDatasetAdapter.PANDAS,\n",
    "  \"ganeshmohane/laptop-datacsv\",\n",
    "  file_path,\n",
    "  # Provide any additional arguments like\n",
    "  # sql_query or pandas_kwargs. See the\n",
    "  # documenation for more information:\n",
    "  # https://github.com/Kaggle/kagglehub/blob/main/README.md#kaggledatasetadapterpandas\n",
    ")\n"
   ]
  },
  {
   "cell_type": "code",
   "execution_count": 4,
   "metadata": {
    "colab": {
     "base_uri": "https://localhost:8080/",
     "height": 206
    },
    "id": "Yu78laUA0rRv",
    "outputId": "3b855015-d23e-45e4-e72e-7677a4e66070"
   },
   "outputs": [
    {
     "data": {
      "text/html": [
       "<div>\n",
       "<style scoped>\n",
       "    .dataframe tbody tr th:only-of-type {\n",
       "        vertical-align: middle;\n",
       "    }\n",
       "\n",
       "    .dataframe tbody tr th {\n",
       "        vertical-align: top;\n",
       "    }\n",
       "\n",
       "    .dataframe thead th {\n",
       "        text-align: right;\n",
       "    }\n",
       "</style>\n",
       "<table border=\"1\" class=\"dataframe\">\n",
       "  <thead>\n",
       "    <tr style=\"text-align: right;\">\n",
       "      <th></th>\n",
       "      <th>Unnamed: 0</th>\n",
       "      <th>Company</th>\n",
       "      <th>TypeName</th>\n",
       "      <th>Inches</th>\n",
       "      <th>ScreenResolution</th>\n",
       "      <th>Cpu</th>\n",
       "      <th>Ram</th>\n",
       "      <th>Memory</th>\n",
       "      <th>Gpu</th>\n",
       "      <th>OpSys</th>\n",
       "      <th>Weight</th>\n",
       "      <th>Price</th>\n",
       "    </tr>\n",
       "  </thead>\n",
       "  <tbody>\n",
       "    <tr>\n",
       "      <th>0</th>\n",
       "      <td>0</td>\n",
       "      <td>Apple</td>\n",
       "      <td>Ultrabook</td>\n",
       "      <td>13.3</td>\n",
       "      <td>IPS Panel Retina Display 2560x1600</td>\n",
       "      <td>Intel Core i5 2.3GHz</td>\n",
       "      <td>8GB</td>\n",
       "      <td>128GB SSD</td>\n",
       "      <td>Intel Iris Plus Graphics 640</td>\n",
       "      <td>macOS</td>\n",
       "      <td>1.37kg</td>\n",
       "      <td>71378.6832</td>\n",
       "    </tr>\n",
       "    <tr>\n",
       "      <th>1</th>\n",
       "      <td>1</td>\n",
       "      <td>Apple</td>\n",
       "      <td>Ultrabook</td>\n",
       "      <td>13.3</td>\n",
       "      <td>1440x900</td>\n",
       "      <td>Intel Core i5 1.8GHz</td>\n",
       "      <td>8GB</td>\n",
       "      <td>128GB Flash Storage</td>\n",
       "      <td>Intel HD Graphics 6000</td>\n",
       "      <td>macOS</td>\n",
       "      <td>1.34kg</td>\n",
       "      <td>47895.5232</td>\n",
       "    </tr>\n",
       "    <tr>\n",
       "      <th>2</th>\n",
       "      <td>2</td>\n",
       "      <td>HP</td>\n",
       "      <td>Notebook</td>\n",
       "      <td>15.6</td>\n",
       "      <td>Full HD 1920x1080</td>\n",
       "      <td>Intel Core i5 7200U 2.5GHz</td>\n",
       "      <td>8GB</td>\n",
       "      <td>256GB SSD</td>\n",
       "      <td>Intel HD Graphics 620</td>\n",
       "      <td>No OS</td>\n",
       "      <td>1.86kg</td>\n",
       "      <td>30636.0000</td>\n",
       "    </tr>\n",
       "    <tr>\n",
       "      <th>3</th>\n",
       "      <td>3</td>\n",
       "      <td>Apple</td>\n",
       "      <td>Ultrabook</td>\n",
       "      <td>15.4</td>\n",
       "      <td>IPS Panel Retina Display 2880x1800</td>\n",
       "      <td>Intel Core i7 2.7GHz</td>\n",
       "      <td>16GB</td>\n",
       "      <td>512GB SSD</td>\n",
       "      <td>AMD Radeon Pro 455</td>\n",
       "      <td>macOS</td>\n",
       "      <td>1.83kg</td>\n",
       "      <td>135195.3360</td>\n",
       "    </tr>\n",
       "    <tr>\n",
       "      <th>4</th>\n",
       "      <td>4</td>\n",
       "      <td>Apple</td>\n",
       "      <td>Ultrabook</td>\n",
       "      <td>13.3</td>\n",
       "      <td>IPS Panel Retina Display 2560x1600</td>\n",
       "      <td>Intel Core i5 3.1GHz</td>\n",
       "      <td>8GB</td>\n",
       "      <td>256GB SSD</td>\n",
       "      <td>Intel Iris Plus Graphics 650</td>\n",
       "      <td>macOS</td>\n",
       "      <td>1.37kg</td>\n",
       "      <td>96095.8080</td>\n",
       "    </tr>\n",
       "  </tbody>\n",
       "</table>\n",
       "</div>"
      ],
      "text/plain": [
       "   Unnamed: 0 Company   TypeName  Inches                    ScreenResolution  \\\n",
       "0           0   Apple  Ultrabook    13.3  IPS Panel Retina Display 2560x1600   \n",
       "1           1   Apple  Ultrabook    13.3                            1440x900   \n",
       "2           2      HP   Notebook    15.6                   Full HD 1920x1080   \n",
       "3           3   Apple  Ultrabook    15.4  IPS Panel Retina Display 2880x1800   \n",
       "4           4   Apple  Ultrabook    13.3  IPS Panel Retina Display 2560x1600   \n",
       "\n",
       "                          Cpu   Ram               Memory  \\\n",
       "0        Intel Core i5 2.3GHz   8GB            128GB SSD   \n",
       "1        Intel Core i5 1.8GHz   8GB  128GB Flash Storage   \n",
       "2  Intel Core i5 7200U 2.5GHz   8GB            256GB SSD   \n",
       "3        Intel Core i7 2.7GHz  16GB            512GB SSD   \n",
       "4        Intel Core i5 3.1GHz   8GB            256GB SSD   \n",
       "\n",
       "                            Gpu  OpSys  Weight        Price  \n",
       "0  Intel Iris Plus Graphics 640  macOS  1.37kg   71378.6832  \n",
       "1        Intel HD Graphics 6000  macOS  1.34kg   47895.5232  \n",
       "2         Intel HD Graphics 620  No OS  1.86kg   30636.0000  \n",
       "3            AMD Radeon Pro 455  macOS  1.83kg  135195.3360  \n",
       "4  Intel Iris Plus Graphics 650  macOS  1.37kg   96095.8080  "
      ]
     },
     "execution_count": 4,
     "metadata": {},
     "output_type": "execute_result"
    }
   ],
   "source": [
    "df.head()"
   ]
  },
  {
   "cell_type": "code",
   "execution_count": 5,
   "metadata": {
    "colab": {
     "base_uri": "https://localhost:8080/",
     "height": 580
    },
    "id": "s_icwKg9189J",
    "outputId": "f891b6df-fa23-494c-d7f5-cef632d61ce7"
   },
   "outputs": [
    {
     "data": {
      "text/html": [
       "<div>\n",
       "<style scoped>\n",
       "    .dataframe tbody tr th:only-of-type {\n",
       "        vertical-align: middle;\n",
       "    }\n",
       "\n",
       "    .dataframe tbody tr th {\n",
       "        vertical-align: top;\n",
       "    }\n",
       "\n",
       "    .dataframe thead th {\n",
       "        text-align: right;\n",
       "    }\n",
       "</style>\n",
       "<table border=\"1\" class=\"dataframe\">\n",
       "  <thead>\n",
       "    <tr style=\"text-align: right;\">\n",
       "      <th></th>\n",
       "      <th>Unnamed: 0</th>\n",
       "      <th>Company</th>\n",
       "      <th>TypeName</th>\n",
       "      <th>Inches</th>\n",
       "      <th>ScreenResolution</th>\n",
       "      <th>Cpu</th>\n",
       "      <th>Ram</th>\n",
       "      <th>Memory</th>\n",
       "      <th>Gpu</th>\n",
       "      <th>OpSys</th>\n",
       "      <th>Weight</th>\n",
       "      <th>Price</th>\n",
       "    </tr>\n",
       "  </thead>\n",
       "  <tbody>\n",
       "    <tr>\n",
       "      <th>0</th>\n",
       "      <td>0</td>\n",
       "      <td>Apple</td>\n",
       "      <td>Ultrabook</td>\n",
       "      <td>13.3</td>\n",
       "      <td>IPS Panel Retina Display 2560x1600</td>\n",
       "      <td>Intel Core i5 2.3GHz</td>\n",
       "      <td>8GB</td>\n",
       "      <td>128GB SSD</td>\n",
       "      <td>Intel Iris Plus Graphics 640</td>\n",
       "      <td>macOS</td>\n",
       "      <td>1.37kg</td>\n",
       "      <td>71378.6832</td>\n",
       "    </tr>\n",
       "    <tr>\n",
       "      <th>1</th>\n",
       "      <td>1</td>\n",
       "      <td>Apple</td>\n",
       "      <td>Ultrabook</td>\n",
       "      <td>13.3</td>\n",
       "      <td>1440x900</td>\n",
       "      <td>Intel Core i5 1.8GHz</td>\n",
       "      <td>8GB</td>\n",
       "      <td>128GB Flash Storage</td>\n",
       "      <td>Intel HD Graphics 6000</td>\n",
       "      <td>macOS</td>\n",
       "      <td>1.34kg</td>\n",
       "      <td>47895.5232</td>\n",
       "    </tr>\n",
       "    <tr>\n",
       "      <th>2</th>\n",
       "      <td>2</td>\n",
       "      <td>HP</td>\n",
       "      <td>Notebook</td>\n",
       "      <td>15.6</td>\n",
       "      <td>Full HD 1920x1080</td>\n",
       "      <td>Intel Core i5 7200U 2.5GHz</td>\n",
       "      <td>8GB</td>\n",
       "      <td>256GB SSD</td>\n",
       "      <td>Intel HD Graphics 620</td>\n",
       "      <td>No OS</td>\n",
       "      <td>1.86kg</td>\n",
       "      <td>30636.0000</td>\n",
       "    </tr>\n",
       "    <tr>\n",
       "      <th>3</th>\n",
       "      <td>3</td>\n",
       "      <td>Apple</td>\n",
       "      <td>Ultrabook</td>\n",
       "      <td>15.4</td>\n",
       "      <td>IPS Panel Retina Display 2880x1800</td>\n",
       "      <td>Intel Core i7 2.7GHz</td>\n",
       "      <td>16GB</td>\n",
       "      <td>512GB SSD</td>\n",
       "      <td>AMD Radeon Pro 455</td>\n",
       "      <td>macOS</td>\n",
       "      <td>1.83kg</td>\n",
       "      <td>135195.3360</td>\n",
       "    </tr>\n",
       "    <tr>\n",
       "      <th>4</th>\n",
       "      <td>4</td>\n",
       "      <td>Apple</td>\n",
       "      <td>Ultrabook</td>\n",
       "      <td>13.3</td>\n",
       "      <td>IPS Panel Retina Display 2560x1600</td>\n",
       "      <td>Intel Core i5 3.1GHz</td>\n",
       "      <td>8GB</td>\n",
       "      <td>256GB SSD</td>\n",
       "      <td>Intel Iris Plus Graphics 650</td>\n",
       "      <td>macOS</td>\n",
       "      <td>1.37kg</td>\n",
       "      <td>96095.8080</td>\n",
       "    </tr>\n",
       "    <tr>\n",
       "      <th>...</th>\n",
       "      <td>...</td>\n",
       "      <td>...</td>\n",
       "      <td>...</td>\n",
       "      <td>...</td>\n",
       "      <td>...</td>\n",
       "      <td>...</td>\n",
       "      <td>...</td>\n",
       "      <td>...</td>\n",
       "      <td>...</td>\n",
       "      <td>...</td>\n",
       "      <td>...</td>\n",
       "      <td>...</td>\n",
       "    </tr>\n",
       "    <tr>\n",
       "      <th>1298</th>\n",
       "      <td>1298</td>\n",
       "      <td>Lenovo</td>\n",
       "      <td>2 in 1 Convertible</td>\n",
       "      <td>14.0</td>\n",
       "      <td>IPS Panel Full HD / Touchscreen 1920x1080</td>\n",
       "      <td>Intel Core i7 6500U 2.5GHz</td>\n",
       "      <td>4GB</td>\n",
       "      <td>128GB SSD</td>\n",
       "      <td>Intel HD Graphics 520</td>\n",
       "      <td>Windows 10</td>\n",
       "      <td>1.8kg</td>\n",
       "      <td>33992.6400</td>\n",
       "    </tr>\n",
       "    <tr>\n",
       "      <th>1299</th>\n",
       "      <td>1299</td>\n",
       "      <td>Lenovo</td>\n",
       "      <td>2 in 1 Convertible</td>\n",
       "      <td>13.3</td>\n",
       "      <td>IPS Panel Quad HD+ / Touchscreen 3200x1800</td>\n",
       "      <td>Intel Core i7 6500U 2.5GHz</td>\n",
       "      <td>16GB</td>\n",
       "      <td>512GB SSD</td>\n",
       "      <td>Intel HD Graphics 520</td>\n",
       "      <td>Windows 10</td>\n",
       "      <td>1.3kg</td>\n",
       "      <td>79866.7200</td>\n",
       "    </tr>\n",
       "    <tr>\n",
       "      <th>1300</th>\n",
       "      <td>1300</td>\n",
       "      <td>Lenovo</td>\n",
       "      <td>Notebook</td>\n",
       "      <td>14.0</td>\n",
       "      <td>1366x768</td>\n",
       "      <td>Intel Celeron Dual Core N3050 1.6GHz</td>\n",
       "      <td>2GB</td>\n",
       "      <td>64GB Flash Storage</td>\n",
       "      <td>Intel HD Graphics</td>\n",
       "      <td>Windows 10</td>\n",
       "      <td>1.5kg</td>\n",
       "      <td>12201.1200</td>\n",
       "    </tr>\n",
       "    <tr>\n",
       "      <th>1301</th>\n",
       "      <td>1301</td>\n",
       "      <td>HP</td>\n",
       "      <td>Notebook</td>\n",
       "      <td>15.6</td>\n",
       "      <td>1366x768</td>\n",
       "      <td>Intel Core i7 6500U 2.5GHz</td>\n",
       "      <td>6GB</td>\n",
       "      <td>1TB HDD</td>\n",
       "      <td>AMD Radeon R5 M330</td>\n",
       "      <td>Windows 10</td>\n",
       "      <td>2.19kg</td>\n",
       "      <td>40705.9200</td>\n",
       "    </tr>\n",
       "    <tr>\n",
       "      <th>1302</th>\n",
       "      <td>1302</td>\n",
       "      <td>Asus</td>\n",
       "      <td>Notebook</td>\n",
       "      <td>15.6</td>\n",
       "      <td>1366x768</td>\n",
       "      <td>Intel Celeron Dual Core N3050 1.6GHz</td>\n",
       "      <td>4GB</td>\n",
       "      <td>500GB HDD</td>\n",
       "      <td>Intel HD Graphics</td>\n",
       "      <td>Windows 10</td>\n",
       "      <td>2.2kg</td>\n",
       "      <td>19660.3200</td>\n",
       "    </tr>\n",
       "  </tbody>\n",
       "</table>\n",
       "<p>1303 rows × 12 columns</p>\n",
       "</div>"
      ],
      "text/plain": [
       "      Unnamed: 0 Company            TypeName  Inches  \\\n",
       "0              0   Apple           Ultrabook    13.3   \n",
       "1              1   Apple           Ultrabook    13.3   \n",
       "2              2      HP            Notebook    15.6   \n",
       "3              3   Apple           Ultrabook    15.4   \n",
       "4              4   Apple           Ultrabook    13.3   \n",
       "...          ...     ...                 ...     ...   \n",
       "1298        1298  Lenovo  2 in 1 Convertible    14.0   \n",
       "1299        1299  Lenovo  2 in 1 Convertible    13.3   \n",
       "1300        1300  Lenovo            Notebook    14.0   \n",
       "1301        1301      HP            Notebook    15.6   \n",
       "1302        1302    Asus            Notebook    15.6   \n",
       "\n",
       "                                ScreenResolution  \\\n",
       "0             IPS Panel Retina Display 2560x1600   \n",
       "1                                       1440x900   \n",
       "2                              Full HD 1920x1080   \n",
       "3             IPS Panel Retina Display 2880x1800   \n",
       "4             IPS Panel Retina Display 2560x1600   \n",
       "...                                          ...   \n",
       "1298   IPS Panel Full HD / Touchscreen 1920x1080   \n",
       "1299  IPS Panel Quad HD+ / Touchscreen 3200x1800   \n",
       "1300                                    1366x768   \n",
       "1301                                    1366x768   \n",
       "1302                                    1366x768   \n",
       "\n",
       "                                       Cpu   Ram               Memory  \\\n",
       "0                     Intel Core i5 2.3GHz   8GB            128GB SSD   \n",
       "1                     Intel Core i5 1.8GHz   8GB  128GB Flash Storage   \n",
       "2               Intel Core i5 7200U 2.5GHz   8GB            256GB SSD   \n",
       "3                     Intel Core i7 2.7GHz  16GB            512GB SSD   \n",
       "4                     Intel Core i5 3.1GHz   8GB            256GB SSD   \n",
       "...                                    ...   ...                  ...   \n",
       "1298            Intel Core i7 6500U 2.5GHz   4GB            128GB SSD   \n",
       "1299            Intel Core i7 6500U 2.5GHz  16GB            512GB SSD   \n",
       "1300  Intel Celeron Dual Core N3050 1.6GHz   2GB   64GB Flash Storage   \n",
       "1301            Intel Core i7 6500U 2.5GHz   6GB              1TB HDD   \n",
       "1302  Intel Celeron Dual Core N3050 1.6GHz   4GB            500GB HDD   \n",
       "\n",
       "                               Gpu       OpSys  Weight        Price  \n",
       "0     Intel Iris Plus Graphics 640       macOS  1.37kg   71378.6832  \n",
       "1           Intel HD Graphics 6000       macOS  1.34kg   47895.5232  \n",
       "2            Intel HD Graphics 620       No OS  1.86kg   30636.0000  \n",
       "3               AMD Radeon Pro 455       macOS  1.83kg  135195.3360  \n",
       "4     Intel Iris Plus Graphics 650       macOS  1.37kg   96095.8080  \n",
       "...                            ...         ...     ...          ...  \n",
       "1298         Intel HD Graphics 520  Windows 10   1.8kg   33992.6400  \n",
       "1299         Intel HD Graphics 520  Windows 10   1.3kg   79866.7200  \n",
       "1300             Intel HD Graphics  Windows 10   1.5kg   12201.1200  \n",
       "1301            AMD Radeon R5 M330  Windows 10  2.19kg   40705.9200  \n",
       "1302             Intel HD Graphics  Windows 10   2.2kg   19660.3200  \n",
       "\n",
       "[1303 rows x 12 columns]"
      ]
     },
     "execution_count": 5,
     "metadata": {},
     "output_type": "execute_result"
    }
   ],
   "source": [
    "df"
   ]
  },
  {
   "cell_type": "code",
   "execution_count": null,
   "metadata": {
    "id": "9cc5Ka0c5NFB"
   },
   "outputs": [],
   "source": []
  },
  {
   "cell_type": "markdown",
   "metadata": {
    "id": "WK5dikX55OFq"
   },
   "source": [
    "# Data Cleaning"
   ]
  },
  {
   "cell_type": "code",
   "execution_count": 6,
   "metadata": {
    "colab": {
     "base_uri": "https://localhost:8080/"
    },
    "id": "ZmxlXSnE5H30",
    "outputId": "0a56b40c-8777-4cb0-e0f4-2fe53524fe55"
   },
   "outputs": [
    {
     "data": {
      "text/plain": [
       "(1303, 12)"
      ]
     },
     "execution_count": 6,
     "metadata": {},
     "output_type": "execute_result"
    }
   ],
   "source": [
    "df.shape"
   ]
  },
  {
   "cell_type": "code",
   "execution_count": 7,
   "metadata": {
    "colab": {
     "base_uri": "https://localhost:8080/",
     "height": 460
    },
    "id": "C1JRRZ_Y1948",
    "outputId": "aa1977e0-19b2-4c83-aacc-3a50ea55bac9"
   },
   "outputs": [
    {
     "data": {
      "text/plain": [
       "Unnamed: 0          0\n",
       "Company             0\n",
       "TypeName            0\n",
       "Inches              0\n",
       "ScreenResolution    0\n",
       "Cpu                 0\n",
       "Ram                 0\n",
       "Memory              0\n",
       "Gpu                 0\n",
       "OpSys               0\n",
       "Weight              0\n",
       "Price               0\n",
       "dtype: int64"
      ]
     },
     "execution_count": 7,
     "metadata": {},
     "output_type": "execute_result"
    }
   ],
   "source": [
    "df.isnull().sum()"
   ]
  },
  {
   "cell_type": "code",
   "execution_count": 8,
   "metadata": {
    "colab": {
     "base_uri": "https://localhost:8080/"
    },
    "id": "88JWHDl15TlB",
    "outputId": "ee849607-cbd6-4cc0-b0c7-7357d9ee46a7"
   },
   "outputs": [
    {
     "data": {
      "text/plain": [
       "0"
      ]
     },
     "execution_count": 8,
     "metadata": {},
     "output_type": "execute_result"
    }
   ],
   "source": [
    "df.duplicated().sum()"
   ]
  },
  {
   "cell_type": "code",
   "execution_count": 9,
   "metadata": {
    "colab": {
     "base_uri": "https://localhost:8080/"
    },
    "id": "yusdZo6s5bms",
    "outputId": "bd1c9cea-dc6c-4e69-fd9f-68555d1bbd49"
   },
   "outputs": [
    {
     "name": "stdout",
     "output_type": "stream",
     "text": [
      "<class 'pandas.core.frame.DataFrame'>\n",
      "RangeIndex: 1303 entries, 0 to 1302\n",
      "Data columns (total 12 columns):\n",
      " #   Column            Non-Null Count  Dtype  \n",
      "---  ------            --------------  -----  \n",
      " 0   Unnamed: 0        1303 non-null   int64  \n",
      " 1   Company           1303 non-null   object \n",
      " 2   TypeName          1303 non-null   object \n",
      " 3   Inches            1303 non-null   float64\n",
      " 4   ScreenResolution  1303 non-null   object \n",
      " 5   Cpu               1303 non-null   object \n",
      " 6   Ram               1303 non-null   object \n",
      " 7   Memory            1303 non-null   object \n",
      " 8   Gpu               1303 non-null   object \n",
      " 9   OpSys             1303 non-null   object \n",
      " 10  Weight            1303 non-null   object \n",
      " 11  Price             1303 non-null   float64\n",
      "dtypes: float64(2), int64(1), object(9)\n",
      "memory usage: 122.3+ KB\n"
     ]
    }
   ],
   "source": [
    "df.info()"
   ]
  },
  {
   "cell_type": "markdown",
   "metadata": {
    "id": "_OjjeRmv_3bF"
   },
   "source": [
    "\n",
    "\n",
    "*   Removing unnamed col\n",
    "*   removing GB from ram col\n",
    "*   removing KG from weight colm\n",
    "\n",
    "\n",
    "\n",
    "\n"
   ]
  },
  {
   "cell_type": "code",
   "execution_count": 10,
   "metadata": {
    "id": "znE5oQ4cAIOD"
   },
   "outputs": [],
   "source": [
    "# removing column\n",
    "df.drop(columns=['Unnamed: 0'], inplace= True)\n",
    "#df=df.drop(columns=['Unnamed: 0'], axis=1)  both are same"
   ]
  },
  {
   "cell_type": "code",
   "execution_count": 11,
   "metadata": {
    "id": "fIy1SuepCTSq"
   },
   "outputs": [],
   "source": [
    "# Removing GB and KG from columns\n",
    "\n",
    "df['Ram']=df['Ram'].str.replace('GB','')\n",
    "df['Weight']=df['Weight'].str.replace('kg','')\n",
    "\n",
    "# changing datatype\n",
    "df['Ram']=df['Ram'].astype('int32')\n",
    "df['Weight']=df['Weight'].astype('float32')"
   ]
  },
  {
   "cell_type": "code",
   "execution_count": 12,
   "metadata": {
    "id": "S0MWImNUAVaC"
   },
   "outputs": [],
   "source": [
    "df=df.drop_duplicates()"
   ]
  },
  {
   "cell_type": "code",
   "execution_count": 13,
   "metadata": {
    "colab": {
     "base_uri": "https://localhost:8080/"
    },
    "id": "r_7jai6dJ_G6",
    "outputId": "2578c124-d45b-44cd-db30-22a8f42bc6d4"
   },
   "outputs": [
    {
     "data": {
      "text/plain": [
       "0"
      ]
     },
     "execution_count": 13,
     "metadata": {},
     "output_type": "execute_result"
    }
   ],
   "source": [
    "df.duplicated().sum()"
   ]
  },
  {
   "cell_type": "code",
   "execution_count": 14,
   "metadata": {
    "colab": {
     "base_uri": "https://localhost:8080/"
    },
    "id": "Cuo0Tkx5Aa7P",
    "outputId": "61aee4c2-1816-4c7e-f7d3-9f0da33046f7"
   },
   "outputs": [
    {
     "name": "stdout",
     "output_type": "stream",
     "text": [
      "<class 'pandas.core.frame.DataFrame'>\n",
      "Index: 1274 entries, 0 to 1273\n",
      "Data columns (total 11 columns):\n",
      " #   Column            Non-Null Count  Dtype  \n",
      "---  ------            --------------  -----  \n",
      " 0   Company           1274 non-null   object \n",
      " 1   TypeName          1274 non-null   object \n",
      " 2   Inches            1274 non-null   float64\n",
      " 3   ScreenResolution  1274 non-null   object \n",
      " 4   Cpu               1274 non-null   object \n",
      " 5   Ram               1274 non-null   int32  \n",
      " 6   Memory            1274 non-null   object \n",
      " 7   Gpu               1274 non-null   object \n",
      " 8   OpSys             1274 non-null   object \n",
      " 9   Weight            1274 non-null   float32\n",
      " 10  Price             1274 non-null   float64\n",
      "dtypes: float32(1), float64(2), int32(1), object(7)\n",
      "memory usage: 109.5+ KB\n"
     ]
    }
   ],
   "source": [
    "df.info()"
   ]
  },
  {
   "cell_type": "code",
   "execution_count": 15,
   "metadata": {
    "colab": {
     "base_uri": "https://localhost:8080/"
    },
    "id": "XVSQT5rMDYqi",
    "outputId": "7204b120-d2f4-4de0-cf9d-41a452286a78"
   },
   "outputs": [
    {
     "name": "stderr",
     "output_type": "stream",
     "text": [
      "C:\\Users\\wasid\\AppData\\Local\\Temp\\ipykernel_3856\\633490910.py:3: SettingWithCopyWarning: \n",
      "A value is trying to be set on a copy of a slice from a DataFrame.\n",
      "Try using .loc[row_indexer,col_indexer] = value instead\n",
      "\n",
      "See the caveats in the documentation: https://pandas.pydata.org/pandas-docs/stable/user_guide/indexing.html#returning-a-view-versus-a-copy\n",
      "  df['Price']= df['Price'].astype(int)\n"
     ]
    }
   ],
   "source": [
    "# df['Price'] into Int\n",
    "\n",
    "df['Price']= df['Price'].astype(int)"
   ]
  },
  {
   "cell_type": "code",
   "execution_count": 16,
   "metadata": {
    "colab": {
     "base_uri": "https://localhost:8080/",
     "height": 563
    },
    "id": "8_Z529ERCb-m",
    "outputId": "ca9ea36d-7e62-4530-fbaf-63981d83ef6e"
   },
   "outputs": [
    {
     "data": {
      "text/html": [
       "<div>\n",
       "<style scoped>\n",
       "    .dataframe tbody tr th:only-of-type {\n",
       "        vertical-align: middle;\n",
       "    }\n",
       "\n",
       "    .dataframe tbody tr th {\n",
       "        vertical-align: top;\n",
       "    }\n",
       "\n",
       "    .dataframe thead th {\n",
       "        text-align: right;\n",
       "    }\n",
       "</style>\n",
       "<table border=\"1\" class=\"dataframe\">\n",
       "  <thead>\n",
       "    <tr style=\"text-align: right;\">\n",
       "      <th></th>\n",
       "      <th>Company</th>\n",
       "      <th>TypeName</th>\n",
       "      <th>Inches</th>\n",
       "      <th>ScreenResolution</th>\n",
       "      <th>Cpu</th>\n",
       "      <th>Ram</th>\n",
       "      <th>Memory</th>\n",
       "      <th>Gpu</th>\n",
       "      <th>OpSys</th>\n",
       "      <th>Weight</th>\n",
       "      <th>Price</th>\n",
       "    </tr>\n",
       "  </thead>\n",
       "  <tbody>\n",
       "    <tr>\n",
       "      <th>0</th>\n",
       "      <td>Apple</td>\n",
       "      <td>Ultrabook</td>\n",
       "      <td>13.3</td>\n",
       "      <td>IPS Panel Retina Display 2560x1600</td>\n",
       "      <td>Intel Core i5 2.3GHz</td>\n",
       "      <td>8</td>\n",
       "      <td>128GB SSD</td>\n",
       "      <td>Intel Iris Plus Graphics 640</td>\n",
       "      <td>macOS</td>\n",
       "      <td>1.37</td>\n",
       "      <td>71378</td>\n",
       "    </tr>\n",
       "    <tr>\n",
       "      <th>1</th>\n",
       "      <td>Apple</td>\n",
       "      <td>Ultrabook</td>\n",
       "      <td>13.3</td>\n",
       "      <td>1440x900</td>\n",
       "      <td>Intel Core i5 1.8GHz</td>\n",
       "      <td>8</td>\n",
       "      <td>128GB Flash Storage</td>\n",
       "      <td>Intel HD Graphics 6000</td>\n",
       "      <td>macOS</td>\n",
       "      <td>1.34</td>\n",
       "      <td>47895</td>\n",
       "    </tr>\n",
       "    <tr>\n",
       "      <th>2</th>\n",
       "      <td>HP</td>\n",
       "      <td>Notebook</td>\n",
       "      <td>15.6</td>\n",
       "      <td>Full HD 1920x1080</td>\n",
       "      <td>Intel Core i5 7200U 2.5GHz</td>\n",
       "      <td>8</td>\n",
       "      <td>256GB SSD</td>\n",
       "      <td>Intel HD Graphics 620</td>\n",
       "      <td>No OS</td>\n",
       "      <td>1.86</td>\n",
       "      <td>30636</td>\n",
       "    </tr>\n",
       "    <tr>\n",
       "      <th>3</th>\n",
       "      <td>Apple</td>\n",
       "      <td>Ultrabook</td>\n",
       "      <td>15.4</td>\n",
       "      <td>IPS Panel Retina Display 2880x1800</td>\n",
       "      <td>Intel Core i7 2.7GHz</td>\n",
       "      <td>16</td>\n",
       "      <td>512GB SSD</td>\n",
       "      <td>AMD Radeon Pro 455</td>\n",
       "      <td>macOS</td>\n",
       "      <td>1.83</td>\n",
       "      <td>135195</td>\n",
       "    </tr>\n",
       "    <tr>\n",
       "      <th>4</th>\n",
       "      <td>Apple</td>\n",
       "      <td>Ultrabook</td>\n",
       "      <td>13.3</td>\n",
       "      <td>IPS Panel Retina Display 2560x1600</td>\n",
       "      <td>Intel Core i5 3.1GHz</td>\n",
       "      <td>8</td>\n",
       "      <td>256GB SSD</td>\n",
       "      <td>Intel Iris Plus Graphics 650</td>\n",
       "      <td>macOS</td>\n",
       "      <td>1.37</td>\n",
       "      <td>96095</td>\n",
       "    </tr>\n",
       "    <tr>\n",
       "      <th>...</th>\n",
       "      <td>...</td>\n",
       "      <td>...</td>\n",
       "      <td>...</td>\n",
       "      <td>...</td>\n",
       "      <td>...</td>\n",
       "      <td>...</td>\n",
       "      <td>...</td>\n",
       "      <td>...</td>\n",
       "      <td>...</td>\n",
       "      <td>...</td>\n",
       "      <td>...</td>\n",
       "    </tr>\n",
       "    <tr>\n",
       "      <th>1269</th>\n",
       "      <td>Asus</td>\n",
       "      <td>Notebook</td>\n",
       "      <td>15.6</td>\n",
       "      <td>1366x768</td>\n",
       "      <td>Intel Core i7 6500U 2.5GHz</td>\n",
       "      <td>4</td>\n",
       "      <td>500GB HDD</td>\n",
       "      <td>Nvidia GeForce 920M</td>\n",
       "      <td>Windows 10</td>\n",
       "      <td>2.20</td>\n",
       "      <td>38378</td>\n",
       "    </tr>\n",
       "    <tr>\n",
       "      <th>1270</th>\n",
       "      <td>Lenovo</td>\n",
       "      <td>2 in 1 Convertible</td>\n",
       "      <td>14.0</td>\n",
       "      <td>IPS Panel Full HD / Touchscreen 1920x1080</td>\n",
       "      <td>Intel Core i7 6500U 2.5GHz</td>\n",
       "      <td>4</td>\n",
       "      <td>128GB SSD</td>\n",
       "      <td>Intel HD Graphics 520</td>\n",
       "      <td>Windows 10</td>\n",
       "      <td>1.80</td>\n",
       "      <td>33992</td>\n",
       "    </tr>\n",
       "    <tr>\n",
       "      <th>1271</th>\n",
       "      <td>Lenovo</td>\n",
       "      <td>2 in 1 Convertible</td>\n",
       "      <td>13.3</td>\n",
       "      <td>IPS Panel Quad HD+ / Touchscreen 3200x1800</td>\n",
       "      <td>Intel Core i7 6500U 2.5GHz</td>\n",
       "      <td>16</td>\n",
       "      <td>512GB SSD</td>\n",
       "      <td>Intel HD Graphics 520</td>\n",
       "      <td>Windows 10</td>\n",
       "      <td>1.30</td>\n",
       "      <td>79866</td>\n",
       "    </tr>\n",
       "    <tr>\n",
       "      <th>1272</th>\n",
       "      <td>Lenovo</td>\n",
       "      <td>Notebook</td>\n",
       "      <td>14.0</td>\n",
       "      <td>1366x768</td>\n",
       "      <td>Intel Celeron Dual Core N3050 1.6GHz</td>\n",
       "      <td>2</td>\n",
       "      <td>64GB Flash Storage</td>\n",
       "      <td>Intel HD Graphics</td>\n",
       "      <td>Windows 10</td>\n",
       "      <td>1.50</td>\n",
       "      <td>12201</td>\n",
       "    </tr>\n",
       "    <tr>\n",
       "      <th>1273</th>\n",
       "      <td>HP</td>\n",
       "      <td>Notebook</td>\n",
       "      <td>15.6</td>\n",
       "      <td>1366x768</td>\n",
       "      <td>Intel Core i7 6500U 2.5GHz</td>\n",
       "      <td>6</td>\n",
       "      <td>1TB HDD</td>\n",
       "      <td>AMD Radeon R5 M330</td>\n",
       "      <td>Windows 10</td>\n",
       "      <td>2.19</td>\n",
       "      <td>40705</td>\n",
       "    </tr>\n",
       "  </tbody>\n",
       "</table>\n",
       "<p>1274 rows × 11 columns</p>\n",
       "</div>"
      ],
      "text/plain": [
       "     Company            TypeName  Inches  \\\n",
       "0      Apple           Ultrabook    13.3   \n",
       "1      Apple           Ultrabook    13.3   \n",
       "2         HP            Notebook    15.6   \n",
       "3      Apple           Ultrabook    15.4   \n",
       "4      Apple           Ultrabook    13.3   \n",
       "...      ...                 ...     ...   \n",
       "1269    Asus            Notebook    15.6   \n",
       "1270  Lenovo  2 in 1 Convertible    14.0   \n",
       "1271  Lenovo  2 in 1 Convertible    13.3   \n",
       "1272  Lenovo            Notebook    14.0   \n",
       "1273      HP            Notebook    15.6   \n",
       "\n",
       "                                ScreenResolution  \\\n",
       "0             IPS Panel Retina Display 2560x1600   \n",
       "1                                       1440x900   \n",
       "2                              Full HD 1920x1080   \n",
       "3             IPS Panel Retina Display 2880x1800   \n",
       "4             IPS Panel Retina Display 2560x1600   \n",
       "...                                          ...   \n",
       "1269                                    1366x768   \n",
       "1270   IPS Panel Full HD / Touchscreen 1920x1080   \n",
       "1271  IPS Panel Quad HD+ / Touchscreen 3200x1800   \n",
       "1272                                    1366x768   \n",
       "1273                                    1366x768   \n",
       "\n",
       "                                       Cpu  Ram               Memory  \\\n",
       "0                     Intel Core i5 2.3GHz    8            128GB SSD   \n",
       "1                     Intel Core i5 1.8GHz    8  128GB Flash Storage   \n",
       "2               Intel Core i5 7200U 2.5GHz    8            256GB SSD   \n",
       "3                     Intel Core i7 2.7GHz   16            512GB SSD   \n",
       "4                     Intel Core i5 3.1GHz    8            256GB SSD   \n",
       "...                                    ...  ...                  ...   \n",
       "1269            Intel Core i7 6500U 2.5GHz    4            500GB HDD   \n",
       "1270            Intel Core i7 6500U 2.5GHz    4            128GB SSD   \n",
       "1271            Intel Core i7 6500U 2.5GHz   16            512GB SSD   \n",
       "1272  Intel Celeron Dual Core N3050 1.6GHz    2   64GB Flash Storage   \n",
       "1273            Intel Core i7 6500U 2.5GHz    6              1TB HDD   \n",
       "\n",
       "                               Gpu       OpSys  Weight   Price  \n",
       "0     Intel Iris Plus Graphics 640       macOS    1.37   71378  \n",
       "1           Intel HD Graphics 6000       macOS    1.34   47895  \n",
       "2            Intel HD Graphics 620       No OS    1.86   30636  \n",
       "3               AMD Radeon Pro 455       macOS    1.83  135195  \n",
       "4     Intel Iris Plus Graphics 650       macOS    1.37   96095  \n",
       "...                            ...         ...     ...     ...  \n",
       "1269           Nvidia GeForce 920M  Windows 10    2.20   38378  \n",
       "1270         Intel HD Graphics 520  Windows 10    1.80   33992  \n",
       "1271         Intel HD Graphics 520  Windows 10    1.30   79866  \n",
       "1272             Intel HD Graphics  Windows 10    1.50   12201  \n",
       "1273            AMD Radeon R5 M330  Windows 10    2.19   40705  \n",
       "\n",
       "[1274 rows x 11 columns]"
      ]
     },
     "execution_count": 16,
     "metadata": {},
     "output_type": "execute_result"
    }
   ],
   "source": [
    "df"
   ]
  },
  {
   "cell_type": "code",
   "execution_count": 17,
   "metadata": {
    "colab": {
     "base_uri": "https://localhost:8080/"
    },
    "id": "9BkxJKlgCrqU",
    "outputId": "10b226ad-39f5-4ba6-ab33-4a8a562dee86"
   },
   "outputs": [
    {
     "name": "stdout",
     "output_type": "stream",
     "text": [
      "<class 'pandas.core.frame.DataFrame'>\n",
      "Index: 1274 entries, 0 to 1273\n",
      "Data columns (total 11 columns):\n",
      " #   Column            Non-Null Count  Dtype  \n",
      "---  ------            --------------  -----  \n",
      " 0   Company           1274 non-null   object \n",
      " 1   TypeName          1274 non-null   object \n",
      " 2   Inches            1274 non-null   float64\n",
      " 3   ScreenResolution  1274 non-null   object \n",
      " 4   Cpu               1274 non-null   object \n",
      " 5   Ram               1274 non-null   int32  \n",
      " 6   Memory            1274 non-null   object \n",
      " 7   Gpu               1274 non-null   object \n",
      " 8   OpSys             1274 non-null   object \n",
      " 9   Weight            1274 non-null   float32\n",
      " 10  Price             1274 non-null   int32  \n",
      "dtypes: float32(1), float64(1), int32(2), object(7)\n",
      "memory usage: 104.5+ KB\n"
     ]
    }
   ],
   "source": [
    "df.info()"
   ]
  },
  {
   "cell_type": "markdown",
   "metadata": {
    "id": "zCSJYIe4HXAw"
   },
   "source": [
    "# EDA"
   ]
  },
  {
   "cell_type": "code",
   "execution_count": 18,
   "metadata": {
    "id": "RKyM-3oDGx1V"
   },
   "outputs": [],
   "source": [
    "import seaborn as sns\n",
    "import matplotlib.pyplot as plt"
   ]
  },
  {
   "cell_type": "code",
   "execution_count": 19,
   "metadata": {
    "colab": {
     "base_uri": "https://localhost:8080/",
     "height": 656
    },
    "id": "gAT6DNLKHiA8",
    "outputId": "fcbc7ae9-e1aa-4c62-f274-0aea2c88ff64"
   },
   "outputs": [
    {
     "name": "stderr",
     "output_type": "stream",
     "text": [
      "C:\\Users\\wasid\\AppData\\Local\\Temp\\ipykernel_3856\\708458291.py:1: UserWarning: \n",
      "\n",
      "`distplot` is a deprecated function and will be removed in seaborn v0.14.0.\n",
      "\n",
      "Please adapt your code to use either `displot` (a figure-level function with\n",
      "similar flexibility) or `histplot` (an axes-level function for histograms).\n",
      "\n",
      "For a guide to updating your code to use the new functions, please see\n",
      "https://gist.github.com/mwaskom/de44147ed2974457ad6372750bbe5751\n",
      "\n",
      "  sns.distplot(df['Price'])\n"
     ]
    },
    {
     "data": {
      "image/png": "[encoded data removed]",
      "text/plain": [
       "<Figure size 640x480 with 1 Axes>"
      ]
     },
     "metadata": {},
     "output_type": "display_data"
    }
   ],
   "source": [
    "sns.distplot(df['Price'])\n",
    "plt.show()"
   ]
  },
  {
   "cell_type": "code",
   "execution_count": 20,
   "metadata": {
    "colab": {
     "base_uri": "https://localhost:8080/",
     "height": 524
    },
    "id": "bUQ7l1fRHvYO",
    "outputId": "22f3fe48-ece9-4957-f43f-000a1216523d"
   },
   "outputs": [
    {
     "data": {
      "text/plain": [
       "<Axes: xlabel='Company'>"
      ]
     },
     "execution_count": 20,
     "metadata": {},
     "output_type": "execute_result"
    },
    {
     "data": {
      "image/png": "[encoded data removed]",
      "text/plain": [
       "<Figure size 640x480 with 1 Axes>"
      ]
     },
     "metadata": {},
     "output_type": "display_data"
    }
   ],
   "source": [
    "# No. of companies Vs no of Laptops\n",
    "df['Company'].value_counts().plot(kind='bar')"
   ]
  },
  {
   "cell_type": "code",
   "execution_count": 21,
   "metadata": {
    "colab": {
     "base_uri": "https://localhost:8080/",
     "height": 711
    },
    "id": "fy9XH87YIa9I",
    "outputId": "8e29a688-cbfa-45e9-df01-88805b875aed"
   },
   "outputs": [
    {
     "data": {
      "text/plain": [
       "Company\n",
       "Razer        178281.857143\n",
       "LG           111834.000000\n",
       "MSI           92115.722222\n",
       "Google        89385.666667\n",
       "Microsoft     85903.166667\n",
       "Apple         83340.047619\n",
       "Huawei        75870.000000\n",
       "Samsung       75307.666667\n",
       "Toshiba       67548.604167\n",
       "Dell          63894.213058\n",
       "Xiaomi        60390.250000\n",
       "Asus          60143.509934\n",
       "Lenovo        58280.463668\n",
       "HP            57558.664179\n",
       "Fujitsu       38840.333333\n",
       "Acer          33750.485149\n",
       "Chuwi         16745.333333\n",
       "Mediacom      15717.000000\n",
       "Vero          11583.750000\n",
       "Name: Price, dtype: float64"
      ]
     },
     "execution_count": 21,
     "metadata": {},
     "output_type": "execute_result"
    }
   ],
   "source": [
    "# i want to check average price of each company laptop\n",
    "avg_price=df.groupby('Company')['Price'].mean().sort_values(ascending=False)\n",
    "avg_price"
   ]
  },
  {
   "cell_type": "code",
   "execution_count": 22,
   "metadata": {
    "colab": {
     "base_uri": "https://localhost:8080/",
     "height": 524
    },
    "id": "HQmlOQ2g7Enm",
    "outputId": "2bacae73-7833-49c5-acca-2892c960c49c"
   },
   "outputs": [
    {
     "data": {
      "text/plain": [
       "<Axes: xlabel='Company'>"
      ]
     },
     "execution_count": 22,
     "metadata": {},
     "output_type": "execute_result"
    },
    {
     "data": {
      "image/png": "[encoded data removed]",
      "text/plain": [
       "<Figure size 640x480 with 1 Axes>"
      ]
     },
     "metadata": {},
     "output_type": "display_data"
    }
   ],
   "source": [
    "avg_price.plot(kind='bar')"
   ]
  },
  {
   "cell_type": "code",
   "execution_count": 23,
   "metadata": {
    "colab": {
     "base_uri": "https://localhost:8080/",
     "height": 576
    },
    "id": "-huHchKX7WuC",
    "outputId": "704b3597-9086-43e9-bf93-c05d49e375ab"
   },
   "outputs": [
    {
     "data": {
      "text/plain": [
       "<Axes: xlabel='TypeName'>"
      ]
     },
     "execution_count": 23,
     "metadata": {},
     "output_type": "execute_result"
    },
    {
     "data": {
      "image/png": "[encoded data removed]",
      "text/plain": [
       "<Figure size 640x480 with 1 Axes>"
      ]
     },
     "metadata": {},
     "output_type": "display_data"
    }
   ],
   "source": [
    "# types of laptops\n",
    "df['TypeName'].value_counts().plot(kind='bar')"
   ]
  },
  {
   "cell_type": "code",
   "execution_count": 24,
   "metadata": {
    "colab": {
     "base_uri": "https://localhost:8080/",
     "height": 655
    },
    "id": "mBFkz3lP8biE",
    "outputId": "32c2882d-3a73-415f-ff47-8b455fbda197"
   },
   "outputs": [
    {
     "data": {
      "text/plain": [
       "(array([0, 1, 2, 3, 4, 5]),\n",
       " [Text(0, 0, 'Ultrabook'),\n",
       "  Text(1, 0, 'Notebook'),\n",
       "  Text(2, 0, 'Netbook'),\n",
       "  Text(3, 0, 'Gaming'),\n",
       "  Text(4, 0, '2 in 1 Convertible'),\n",
       "  Text(5, 0, 'Workstation')])"
      ]
     },
     "execution_count": 24,
     "metadata": {},
     "output_type": "execute_result"
    },
    {
     "data": {
      "image/png": "[encoded data removed]",
      "text/plain": [
       "<Figure size 640x480 with 1 Axes>"
      ]
     },
     "metadata": {},
     "output_type": "display_data"
    }
   ],
   "source": [
    "# types of laptop with avg price\n",
    "\n",
    "sns.barplot(x=df['TypeName'],y=df['Price'])\n",
    "plt.xticks(rotation=45)"
   ]
  },
  {
   "cell_type": "code",
   "execution_count": 25,
   "metadata": {
    "colab": {
     "base_uri": "https://localhost:8080/",
     "height": 466
    },
    "id": "strH3HEc8_Sm",
    "outputId": "563428ff-e6a0-474e-a051-b45c3de9e7e2"
   },
   "outputs": [
    {
     "data": {
      "text/plain": [
       "<Axes: xlabel='Inches', ylabel='Price'>"
      ]
     },
     "execution_count": 25,
     "metadata": {},
     "output_type": "execute_result"
    },
    {
     "data": {
      "image/png": "[encoded data removed]",
      "text/plain": [
       "<Figure size 640x480 with 1 Axes>"
      ]
     },
     "metadata": {},
     "output_type": "display_data"
    }
   ],
   "source": [
    "# relation between size of laptop(inches) & Price\n",
    "\n",
    "sns.scatterplot(x=df['Inches'] , y=df['Price'] )\n",
    "# positive relationship"
   ]
  },
  {
   "cell_type": "code",
   "execution_count": 26,
   "metadata": {
    "colab": {
     "base_uri": "https://localhost:8080/",
     "height": 1000
    },
    "id": "5CnWTuRb_Xvl",
    "outputId": "d74b5f0c-5871-44f3-8d38-dd9587860920"
   },
   "outputs": [
    {
     "data": {
      "text/plain": [
       "ScreenResolution\n",
       "Full HD 1920x1080                                505\n",
       "1366x768                                         262\n",
       "IPS Panel Full HD 1920x1080                      226\n",
       "IPS Panel Full HD / Touchscreen 1920x1080         51\n",
       "Full HD / Touchscreen 1920x1080                   47\n",
       "1600x900                                          23\n",
       "Touchscreen 1366x768                              16\n",
       "Quad HD+ / Touchscreen 3200x1800                  15\n",
       "IPS Panel 4K Ultra HD 3840x2160                   12\n",
       "IPS Panel 4K Ultra HD / Touchscreen 3840x2160     11\n",
       "4K Ultra HD / Touchscreen 3840x2160               10\n",
       "4K Ultra HD 3840x2160                              7\n",
       "Touchscreen 2560x1440                              7\n",
       "IPS Panel 1366x768                                 7\n",
       "IPS Panel Retina Display 2560x1600                 6\n",
       "IPS Panel Retina Display 2304x1440                 6\n",
       "Touchscreen 2256x1504                              6\n",
       "IPS Panel Touchscreen 2560x1440                    5\n",
       "IPS Panel Quad HD+ / Touchscreen 3200x1800         4\n",
       "IPS Panel Touchscreen 1920x1200                    4\n",
       "1440x900                                           4\n",
       "IPS Panel Retina Display 2880x1800                 4\n",
       "IPS Panel 2560x1440                                4\n",
       "2560x1440                                          3\n",
       "Quad HD+ 3200x1800                                 3\n",
       "1920x1080                                          3\n",
       "Touchscreen 2400x1600                              3\n",
       "IPS Panel Quad HD+ 2560x1440                       3\n",
       "IPS Panel Touchscreen 1366x768                     3\n",
       "IPS Panel Touchscreen / 4K Ultra HD 3840x2160      2\n",
       "IPS Panel Full HD 2160x1440                        2\n",
       "IPS Panel Quad HD+ 3200x1800                       2\n",
       "IPS Panel Retina Display 2736x1824                 1\n",
       "IPS Panel Full HD 1920x1200                        1\n",
       "IPS Panel Full HD 2560x1440                        1\n",
       "IPS Panel Full HD 1366x768                         1\n",
       "Touchscreen / Full HD 1920x1080                    1\n",
       "Touchscreen / Quad HD+ 3200x1800                   1\n",
       "Touchscreen / 4K Ultra HD 3840x2160                1\n",
       "IPS Panel Touchscreen 2400x1600                    1\n",
       "Name: count, dtype: int64"
      ]
     },
     "execution_count": 26,
     "metadata": {},
     "output_type": "execute_result"
    }
   ],
   "source": [
    "# screen resoltion vs Price\n",
    "df['ScreenResolution'].value_counts()"
   ]
  },
  {
   "cell_type": "code",
   "execution_count": null,
   "metadata": {
    "id": "qTkOfrntGJPt"
   },
   "outputs": [],
   "source": []
  },
  {
   "cell_type": "markdown",
   "metadata": {
    "id": "fS8Q_9r0GJrY"
   },
   "source": [
    "### Feature engg"
   ]
  },
  {
   "cell_type": "code",
   "execution_count": 27,
   "metadata": {
    "id": "4qWe2Lsa_mxr"
   },
   "outputs": [],
   "source": [
    "# with the help of feature engg, i need to extract some information from ScreenResolution column\n"
   ]
  },
  {
   "cell_type": "code",
   "execution_count": 28,
   "metadata": {
    "colab": {
     "base_uri": "https://localhost:8080/"
    },
    "id": "cyBb90c3_m0e",
    "outputId": "d1285d49-6c29-4bd3-bd9d-d3e07ba1d2c0"
   },
   "outputs": [
    {
     "name": "stderr",
     "output_type": "stream",
     "text": [
      "C:\\Users\\wasid\\AppData\\Local\\Temp\\ipykernel_3856\\3168240284.py:1: SettingWithCopyWarning: \n",
      "A value is trying to be set on a copy of a slice from a DataFrame.\n",
      "Try using .loc[row_indexer,col_indexer] = value instead\n",
      "\n",
      "See the caveats in the documentation: https://pandas.pydata.org/pandas-docs/stable/user_guide/indexing.html#returning-a-view-versus-a-copy\n",
      "  df['Touchscreen']=df['ScreenResolution'].apply(lambda x: 1 if \"Touchscreen\" in x else 0 )\n"
     ]
    }
   ],
   "source": [
    "df['Touchscreen']=df['ScreenResolution'].apply(lambda x: 1 if \"Touchscreen\" in x else 0 )"
   ]
  },
  {
   "cell_type": "code",
   "execution_count": 29,
   "metadata": {
    "colab": {
     "base_uri": "https://localhost:8080/",
     "height": 206
    },
    "id": "CS-AZJId_m2y",
    "outputId": "fbfe9542-27e6-4a25-9bf1-5f13dd27dca0"
   },
   "outputs": [
    {
     "data": {
      "text/html": [
       "<div>\n",
       "<style scoped>\n",
       "    .dataframe tbody tr th:only-of-type {\n",
       "        vertical-align: middle;\n",
       "    }\n",
       "\n",
       "    .dataframe tbody tr th {\n",
       "        vertical-align: top;\n",
       "    }\n",
       "\n",
       "    .dataframe thead th {\n",
       "        text-align: right;\n",
       "    }\n",
       "</style>\n",
       "<table border=\"1\" class=\"dataframe\">\n",
       "  <thead>\n",
       "    <tr style=\"text-align: right;\">\n",
       "      <th></th>\n",
       "      <th>Company</th>\n",
       "      <th>TypeName</th>\n",
       "      <th>Inches</th>\n",
       "      <th>ScreenResolution</th>\n",
       "      <th>Cpu</th>\n",
       "      <th>Ram</th>\n",
       "      <th>Memory</th>\n",
       "      <th>Gpu</th>\n",
       "      <th>OpSys</th>\n",
       "      <th>Weight</th>\n",
       "      <th>Price</th>\n",
       "      <th>Touchscreen</th>\n",
       "    </tr>\n",
       "  </thead>\n",
       "  <tbody>\n",
       "    <tr>\n",
       "      <th>624</th>\n",
       "      <td>HP</td>\n",
       "      <td>Notebook</td>\n",
       "      <td>15.6</td>\n",
       "      <td>1366x768</td>\n",
       "      <td>Intel Core i5 6200U 2.3GHz</td>\n",
       "      <td>4</td>\n",
       "      <td>500GB HDD</td>\n",
       "      <td>Intel HD Graphics 520</td>\n",
       "      <td>Windows 7</td>\n",
       "      <td>1.88</td>\n",
       "      <td>49656</td>\n",
       "      <td>0</td>\n",
       "    </tr>\n",
       "    <tr>\n",
       "      <th>264</th>\n",
       "      <td>Dell</td>\n",
       "      <td>Notebook</td>\n",
       "      <td>15.6</td>\n",
       "      <td>Full HD 1920x1080</td>\n",
       "      <td>Intel Core i5 7200U 2.5GHz</td>\n",
       "      <td>8</td>\n",
       "      <td>1TB HDD</td>\n",
       "      <td>AMD Radeon R5 M430</td>\n",
       "      <td>Windows 10</td>\n",
       "      <td>2.24</td>\n",
       "      <td>30103</td>\n",
       "      <td>0</td>\n",
       "    </tr>\n",
       "    <tr>\n",
       "      <th>388</th>\n",
       "      <td>Dell</td>\n",
       "      <td>Workstation</td>\n",
       "      <td>15.6</td>\n",
       "      <td>IPS Panel Full HD 1920x1080</td>\n",
       "      <td>Intel Core i7 6820HQ 2.7GHz</td>\n",
       "      <td>8</td>\n",
       "      <td>256GB SSD</td>\n",
       "      <td>Nvidia Quadro M1200</td>\n",
       "      <td>Windows 10</td>\n",
       "      <td>2.00</td>\n",
       "      <td>113752</td>\n",
       "      <td>0</td>\n",
       "    </tr>\n",
       "    <tr>\n",
       "      <th>186</th>\n",
       "      <td>Dell</td>\n",
       "      <td>Notebook</td>\n",
       "      <td>15.6</td>\n",
       "      <td>4K Ultra HD / Touchscreen 3840x2160</td>\n",
       "      <td>Intel Core i7 7700HQ 2.8GHz</td>\n",
       "      <td>16</td>\n",
       "      <td>512GB SSD</td>\n",
       "      <td>Nvidia GeForce GTX 1050</td>\n",
       "      <td>Windows 10</td>\n",
       "      <td>2.06</td>\n",
       "      <td>127712</td>\n",
       "      <td>1</td>\n",
       "    </tr>\n",
       "    <tr>\n",
       "      <th>243</th>\n",
       "      <td>Dell</td>\n",
       "      <td>Gaming</td>\n",
       "      <td>15.6</td>\n",
       "      <td>Full HD 1920x1080</td>\n",
       "      <td>Intel Core i5 7300HQ 2.5GHz</td>\n",
       "      <td>8</td>\n",
       "      <td>256GB SSD</td>\n",
       "      <td>Nvidia GeForce GTX 1050</td>\n",
       "      <td>Windows 10</td>\n",
       "      <td>2.56</td>\n",
       "      <td>46833</td>\n",
       "      <td>0</td>\n",
       "    </tr>\n",
       "  </tbody>\n",
       "</table>\n",
       "</div>"
      ],
      "text/plain": [
       "    Company     TypeName  Inches                     ScreenResolution  \\\n",
       "624      HP     Notebook    15.6                             1366x768   \n",
       "264    Dell     Notebook    15.6                    Full HD 1920x1080   \n",
       "388    Dell  Workstation    15.6          IPS Panel Full HD 1920x1080   \n",
       "186    Dell     Notebook    15.6  4K Ultra HD / Touchscreen 3840x2160   \n",
       "243    Dell       Gaming    15.6                    Full HD 1920x1080   \n",
       "\n",
       "                             Cpu  Ram     Memory                      Gpu  \\\n",
       "624   Intel Core i5 6200U 2.3GHz    4  500GB HDD    Intel HD Graphics 520   \n",
       "264   Intel Core i5 7200U 2.5GHz    8    1TB HDD       AMD Radeon R5 M430   \n",
       "388  Intel Core i7 6820HQ 2.7GHz    8  256GB SSD      Nvidia Quadro M1200   \n",
       "186  Intel Core i7 7700HQ 2.8GHz   16  512GB SSD  Nvidia GeForce GTX 1050   \n",
       "243  Intel Core i5 7300HQ 2.5GHz    8  256GB SSD  Nvidia GeForce GTX 1050   \n",
       "\n",
       "          OpSys  Weight   Price  Touchscreen  \n",
       "624   Windows 7    1.88   49656            0  \n",
       "264  Windows 10    2.24   30103            0  \n",
       "388  Windows 10    2.00  113752            0  \n",
       "186  Windows 10    2.06  127712            1  \n",
       "243  Windows 10    2.56   46833            0  "
      ]
     },
     "execution_count": 29,
     "metadata": {},
     "output_type": "execute_result"
    }
   ],
   "source": [
    "df.sample(5)"
   ]
  },
  {
   "cell_type": "code",
   "execution_count": 30,
   "metadata": {
    "colab": {
     "base_uri": "https://localhost:8080/",
     "height": 461
    },
    "id": "2B0BJyoX_m5c",
    "outputId": "7dda0834-f88d-4adb-e1e4-76115a721cc0"
   },
   "outputs": [
    {
     "data": {
      "text/plain": [
       "<Axes: xlabel='Touchscreen'>"
      ]
     },
     "execution_count": 30,
     "metadata": {},
     "output_type": "execute_result"
    },
    {
     "data": {
      "image/png": "[encoded data removed]",
      "text/plain": [
       "<Figure size 640x480 with 1 Axes>"
      ]
     },
     "metadata": {},
     "output_type": "display_data"
    }
   ],
   "source": [
    "df['Touchscreen'].value_counts().plot(kind='bar')\n",
    "# non touchscreen laptops are more in No."
   ]
  },
  {
   "cell_type": "code",
   "execution_count": 31,
   "metadata": {
    "colab": {
     "base_uri": "https://localhost:8080/",
     "height": 466
    },
    "id": "aIVkuappD3tH",
    "outputId": "e6ae5428-f280-4231-c5e7-8bb14766537d"
   },
   "outputs": [
    {
     "data": {
      "text/plain": [
       "<Axes: xlabel='Touchscreen', ylabel='Price'>"
      ]
     },
     "execution_count": 31,
     "metadata": {},
     "output_type": "execute_result"
    },
    {
     "data": {
      "image/png": "[encoded data removed]",
      "text/plain": [
       "<Figure size 640x480 with 1 Axes>"
      ]
     },
     "metadata": {},
     "output_type": "display_data"
    }
   ],
   "source": [
    "# touchscreen price\n",
    "\n",
    "sns.barplot(x=df['Touchscreen'], y=df['Price'] , color='green')\n",
    "# touchscreen laptops are expensive"
   ]
  },
  {
   "cell_type": "code",
   "execution_count": 32,
   "metadata": {
    "colab": {
     "base_uri": "https://localhost:8080/"
    },
    "id": "zOAsGG3REP9g",
    "outputId": "248259b7-08d1-4e07-b4d9-ab64a9921d07"
   },
   "outputs": [
    {
     "name": "stderr",
     "output_type": "stream",
     "text": [
      "C:\\Users\\wasid\\AppData\\Local\\Temp\\ipykernel_3856\\4010946868.py:3: SettingWithCopyWarning: \n",
      "A value is trying to be set on a copy of a slice from a DataFrame.\n",
      "Try using .loc[row_indexer,col_indexer] = value instead\n",
      "\n",
      "See the caveats in the documentation: https://pandas.pydata.org/pandas-docs/stable/user_guide/indexing.html#returning-a-view-versus-a-copy\n",
      "  df['IPSpanel']=df['ScreenResolution'].apply(lambda x: 1 if 'IPS Panel' in x else 0)\n"
     ]
    }
   ],
   "source": [
    "# now checking for IPS panel\n",
    "\n",
    "df['IPSpanel']=df['ScreenResolution'].apply(lambda x: 1 if 'IPS Panel' in x else 0)"
   ]
  },
  {
   "cell_type": "code",
   "execution_count": 33,
   "metadata": {
    "colab": {
     "base_uri": "https://localhost:8080/",
     "height": 206
    },
    "id": "HDn-FT79FO-n",
    "outputId": "29142417-b802-44a7-91c4-d23033821572"
   },
   "outputs": [
    {
     "data": {
      "text/html": [
       "<div>\n",
       "<style scoped>\n",
       "    .dataframe tbody tr th:only-of-type {\n",
       "        vertical-align: middle;\n",
       "    }\n",
       "\n",
       "    .dataframe tbody tr th {\n",
       "        vertical-align: top;\n",
       "    }\n",
       "\n",
       "    .dataframe thead th {\n",
       "        text-align: right;\n",
       "    }\n",
       "</style>\n",
       "<table border=\"1\" class=\"dataframe\">\n",
       "  <thead>\n",
       "    <tr style=\"text-align: right;\">\n",
       "      <th></th>\n",
       "      <th>Company</th>\n",
       "      <th>TypeName</th>\n",
       "      <th>Inches</th>\n",
       "      <th>ScreenResolution</th>\n",
       "      <th>Cpu</th>\n",
       "      <th>Ram</th>\n",
       "      <th>Memory</th>\n",
       "      <th>Gpu</th>\n",
       "      <th>OpSys</th>\n",
       "      <th>Weight</th>\n",
       "      <th>Price</th>\n",
       "      <th>Touchscreen</th>\n",
       "      <th>IPSpanel</th>\n",
       "    </tr>\n",
       "  </thead>\n",
       "  <tbody>\n",
       "    <tr>\n",
       "      <th>147</th>\n",
       "      <td>Asus</td>\n",
       "      <td>Notebook</td>\n",
       "      <td>15.6</td>\n",
       "      <td>Full HD 1920x1080</td>\n",
       "      <td>Intel Celeron Dual Core N3350 1.1GHz</td>\n",
       "      <td>4</td>\n",
       "      <td>1TB HDD</td>\n",
       "      <td>Intel HD Graphics 500</td>\n",
       "      <td>Windows 10</td>\n",
       "      <td>2.00</td>\n",
       "      <td>18328</td>\n",
       "      <td>0</td>\n",
       "      <td>0</td>\n",
       "    </tr>\n",
       "    <tr>\n",
       "      <th>735</th>\n",
       "      <td>Lenovo</td>\n",
       "      <td>Notebook</td>\n",
       "      <td>15.6</td>\n",
       "      <td>Full HD 1920x1080</td>\n",
       "      <td>Intel Core i7 7500U 2.7GHz</td>\n",
       "      <td>4</td>\n",
       "      <td>1TB HDD</td>\n",
       "      <td>Intel HD Graphics 620</td>\n",
       "      <td>Windows 10</td>\n",
       "      <td>1.85</td>\n",
       "      <td>41505</td>\n",
       "      <td>0</td>\n",
       "      <td>0</td>\n",
       "    </tr>\n",
       "    <tr>\n",
       "      <th>717</th>\n",
       "      <td>Lenovo</td>\n",
       "      <td>Notebook</td>\n",
       "      <td>15.6</td>\n",
       "      <td>1366x768</td>\n",
       "      <td>AMD A6-Series 7310 2GHz</td>\n",
       "      <td>4</td>\n",
       "      <td>500GB HDD</td>\n",
       "      <td>AMD Radeon R4</td>\n",
       "      <td>Windows 10</td>\n",
       "      <td>2.19</td>\n",
       "      <td>15877</td>\n",
       "      <td>0</td>\n",
       "      <td>0</td>\n",
       "    </tr>\n",
       "    <tr>\n",
       "      <th>1172</th>\n",
       "      <td>Asus</td>\n",
       "      <td>Notebook</td>\n",
       "      <td>15.6</td>\n",
       "      <td>1366x768</td>\n",
       "      <td>Intel Celeron Dual Core N3050 1.6GHz</td>\n",
       "      <td>4</td>\n",
       "      <td>500GB HDD</td>\n",
       "      <td>Intel HD Graphics</td>\n",
       "      <td>Windows 10</td>\n",
       "      <td>2.20</td>\n",
       "      <td>19660</td>\n",
       "      <td>0</td>\n",
       "      <td>0</td>\n",
       "    </tr>\n",
       "    <tr>\n",
       "      <th>292</th>\n",
       "      <td>HP</td>\n",
       "      <td>Notebook</td>\n",
       "      <td>17.3</td>\n",
       "      <td>1600x900</td>\n",
       "      <td>Intel Core i3 6006U 2GHz</td>\n",
       "      <td>8</td>\n",
       "      <td>1TB HDD</td>\n",
       "      <td>Intel HD Graphics 520</td>\n",
       "      <td>Windows 10</td>\n",
       "      <td>2.54</td>\n",
       "      <td>26053</td>\n",
       "      <td>0</td>\n",
       "      <td>0</td>\n",
       "    </tr>\n",
       "  </tbody>\n",
       "</table>\n",
       "</div>"
      ],
      "text/plain": [
       "     Company  TypeName  Inches   ScreenResolution  \\\n",
       "147     Asus  Notebook    15.6  Full HD 1920x1080   \n",
       "735   Lenovo  Notebook    15.6  Full HD 1920x1080   \n",
       "717   Lenovo  Notebook    15.6           1366x768   \n",
       "1172    Asus  Notebook    15.6           1366x768   \n",
       "292       HP  Notebook    17.3           1600x900   \n",
       "\n",
       "                                       Cpu  Ram     Memory  \\\n",
       "147   Intel Celeron Dual Core N3350 1.1GHz    4    1TB HDD   \n",
       "735             Intel Core i7 7500U 2.7GHz    4    1TB HDD   \n",
       "717                AMD A6-Series 7310 2GHz    4  500GB HDD   \n",
       "1172  Intel Celeron Dual Core N3050 1.6GHz    4  500GB HDD   \n",
       "292               Intel Core i3 6006U 2GHz    8    1TB HDD   \n",
       "\n",
       "                        Gpu       OpSys  Weight  Price  Touchscreen  IPSpanel  \n",
       "147   Intel HD Graphics 500  Windows 10    2.00  18328            0         0  \n",
       "735   Intel HD Graphics 620  Windows 10    1.85  41505            0         0  \n",
       "717           AMD Radeon R4  Windows 10    2.19  15877            0         0  \n",
       "1172      Intel HD Graphics  Windows 10    2.20  19660            0         0  \n",
       "292   Intel HD Graphics 520  Windows 10    2.54  26053            0         0  "
      ]
     },
     "execution_count": 33,
     "metadata": {},
     "output_type": "execute_result"
    }
   ],
   "source": [
    "df.sample(5)"
   ]
  },
  {
   "cell_type": "code",
   "execution_count": 34,
   "metadata": {
    "colab": {
     "base_uri": "https://localhost:8080/",
     "height": 466
    },
    "id": "N3EzRFP8FQtc",
    "outputId": "628b9a1d-a1e7-459f-a31a-34aee193ee8b"
   },
   "outputs": [
    {
     "data": {
      "text/plain": [
       "<Axes: xlabel='IPSpanel', ylabel='Price'>"
      ]
     },
     "execution_count": 34,
     "metadata": {},
     "output_type": "execute_result"
    },
    {
     "data": {
      "image/png": "[encoded data removed]",
      "text/plain": [
       "<Figure size 640x480 with 1 Axes>"
      ]
     },
     "metadata": {},
     "output_type": "display_data"
    }
   ],
   "source": [
    "# Ips panel vs price\n",
    "\n",
    "sns.barplot(x=df['IPSpanel'], y=df['Price'] , color='yellow')\n",
    "\n",
    "# IPs panel laptops are expensive"
   ]
  },
  {
   "cell_type": "code",
   "execution_count": 35,
   "metadata": {
    "colab": {
     "base_uri": "https://localhost:8080/"
    },
    "id": "3ybRTAZmFhQs",
    "outputId": "30777952-e7a4-4c68-8b9c-ff6b5d1b60ce"
   },
   "outputs": [
    {
     "name": "stderr",
     "output_type": "stream",
     "text": [
      "C:\\Users\\wasid\\AppData\\Local\\Temp\\ipykernel_3856\\1017516171.py:3: SettingWithCopyWarning: \n",
      "A value is trying to be set on a copy of a slice from a DataFrame.\n",
      "Try using .loc[row_indexer,col_indexer] = value instead\n",
      "\n",
      "See the caveats in the documentation: https://pandas.pydata.org/pandas-docs/stable/user_guide/indexing.html#returning-a-view-versus-a-copy\n",
      "  df['Resolution'] = df['ScreenResolution'].str.extract(r'(\\d{3,4}x\\d{3,4})')\n"
     ]
    }
   ],
   "source": [
    "# creating new column for resultion\n",
    "\n",
    "df['Resolution'] = df['ScreenResolution'].str.extract(r'(\\d{3,4}x\\d{3,4})')"
   ]
  },
  {
   "cell_type": "code",
   "execution_count": 36,
   "metadata": {
    "colab": {
     "base_uri": "https://localhost:8080/",
     "height": 293
    },
    "id": "A1dzClRHIcfF",
    "outputId": "645bd0e5-6bef-4b59-b23c-b0725865bfad"
   },
   "outputs": [
    {
     "data": {
      "text/html": [
       "<div>\n",
       "<style scoped>\n",
       "    .dataframe tbody tr th:only-of-type {\n",
       "        vertical-align: middle;\n",
       "    }\n",
       "\n",
       "    .dataframe tbody tr th {\n",
       "        vertical-align: top;\n",
       "    }\n",
       "\n",
       "    .dataframe thead th {\n",
       "        text-align: right;\n",
       "    }\n",
       "</style>\n",
       "<table border=\"1\" class=\"dataframe\">\n",
       "  <thead>\n",
       "    <tr style=\"text-align: right;\">\n",
       "      <th></th>\n",
       "      <th>Company</th>\n",
       "      <th>TypeName</th>\n",
       "      <th>Inches</th>\n",
       "      <th>ScreenResolution</th>\n",
       "      <th>Cpu</th>\n",
       "      <th>Ram</th>\n",
       "      <th>Memory</th>\n",
       "      <th>Gpu</th>\n",
       "      <th>OpSys</th>\n",
       "      <th>Weight</th>\n",
       "      <th>Price</th>\n",
       "      <th>Touchscreen</th>\n",
       "      <th>IPSpanel</th>\n",
       "      <th>Resolution</th>\n",
       "    </tr>\n",
       "  </thead>\n",
       "  <tbody>\n",
       "    <tr>\n",
       "      <th>760</th>\n",
       "      <td>Lenovo</td>\n",
       "      <td>Gaming</td>\n",
       "      <td>15.6</td>\n",
       "      <td>IPS Panel Full HD 1920x1080</td>\n",
       "      <td>Intel Core i7 7700HQ 2.8GHz</td>\n",
       "      <td>8</td>\n",
       "      <td>128GB SSD +  1TB HDD</td>\n",
       "      <td>Nvidia GeForce GTX 1050</td>\n",
       "      <td>Windows 10</td>\n",
       "      <td>2.50</td>\n",
       "      <td>55837</td>\n",
       "      <td>0</td>\n",
       "      <td>1</td>\n",
       "      <td>1920x1080</td>\n",
       "    </tr>\n",
       "    <tr>\n",
       "      <th>48</th>\n",
       "      <td>Dell</td>\n",
       "      <td>Notebook</td>\n",
       "      <td>15.6</td>\n",
       "      <td>Full HD 1920x1080</td>\n",
       "      <td>Intel Core i5 7200U 2.5GHz</td>\n",
       "      <td>4</td>\n",
       "      <td>256GB SSD</td>\n",
       "      <td>AMD Radeon R5 M430</td>\n",
       "      <td>Windows 10</td>\n",
       "      <td>2.30</td>\n",
       "      <td>34045</td>\n",
       "      <td>0</td>\n",
       "      <td>0</td>\n",
       "      <td>1920x1080</td>\n",
       "    </tr>\n",
       "    <tr>\n",
       "      <th>150</th>\n",
       "      <td>Dell</td>\n",
       "      <td>Gaming</td>\n",
       "      <td>15.6</td>\n",
       "      <td>Full HD 1920x1080</td>\n",
       "      <td>Intel Core i7 7700HQ 2.8GHz</td>\n",
       "      <td>16</td>\n",
       "      <td>512GB SSD</td>\n",
       "      <td>Nvidia GeForce GTX 1050</td>\n",
       "      <td>Windows 10</td>\n",
       "      <td>2.56</td>\n",
       "      <td>66560</td>\n",
       "      <td>0</td>\n",
       "      <td>0</td>\n",
       "      <td>1920x1080</td>\n",
       "    </tr>\n",
       "    <tr>\n",
       "      <th>863</th>\n",
       "      <td>Lenovo</td>\n",
       "      <td>Gaming</td>\n",
       "      <td>15.6</td>\n",
       "      <td>IPS Panel Full HD 1920x1080</td>\n",
       "      <td>Intel Core i5 7300HQ 2.5GHz</td>\n",
       "      <td>8</td>\n",
       "      <td>1TB HDD</td>\n",
       "      <td>Nvidia GeForce GTX 1050</td>\n",
       "      <td>No OS</td>\n",
       "      <td>2.50</td>\n",
       "      <td>54185</td>\n",
       "      <td>0</td>\n",
       "      <td>1</td>\n",
       "      <td>1920x1080</td>\n",
       "    </tr>\n",
       "    <tr>\n",
       "      <th>669</th>\n",
       "      <td>Acer</td>\n",
       "      <td>Notebook</td>\n",
       "      <td>15.6</td>\n",
       "      <td>1366x768</td>\n",
       "      <td>Intel Core i3 6006U 2GHz</td>\n",
       "      <td>4</td>\n",
       "      <td>128GB SSD</td>\n",
       "      <td>Intel HD Graphics 520</td>\n",
       "      <td>Linux</td>\n",
       "      <td>2.10</td>\n",
       "      <td>21951</td>\n",
       "      <td>0</td>\n",
       "      <td>0</td>\n",
       "      <td>1366x768</td>\n",
       "    </tr>\n",
       "  </tbody>\n",
       "</table>\n",
       "</div>"
      ],
      "text/plain": [
       "    Company  TypeName  Inches             ScreenResolution  \\\n",
       "760  Lenovo    Gaming    15.6  IPS Panel Full HD 1920x1080   \n",
       "48     Dell  Notebook    15.6            Full HD 1920x1080   \n",
       "150    Dell    Gaming    15.6            Full HD 1920x1080   \n",
       "863  Lenovo    Gaming    15.6  IPS Panel Full HD 1920x1080   \n",
       "669    Acer  Notebook    15.6                     1366x768   \n",
       "\n",
       "                             Cpu  Ram                Memory  \\\n",
       "760  Intel Core i7 7700HQ 2.8GHz    8  128GB SSD +  1TB HDD   \n",
       "48    Intel Core i5 7200U 2.5GHz    4             256GB SSD   \n",
       "150  Intel Core i7 7700HQ 2.8GHz   16             512GB SSD   \n",
       "863  Intel Core i5 7300HQ 2.5GHz    8               1TB HDD   \n",
       "669     Intel Core i3 6006U 2GHz    4             128GB SSD   \n",
       "\n",
       "                         Gpu       OpSys  Weight  Price  Touchscreen  \\\n",
       "760  Nvidia GeForce GTX 1050  Windows 10    2.50  55837            0   \n",
       "48        AMD Radeon R5 M430  Windows 10    2.30  34045            0   \n",
       "150  Nvidia GeForce GTX 1050  Windows 10    2.56  66560            0   \n",
       "863  Nvidia GeForce GTX 1050       No OS    2.50  54185            0   \n",
       "669    Intel HD Graphics 520       Linux    2.10  21951            0   \n",
       "\n",
       "     IPSpanel Resolution  \n",
       "760         1  1920x1080  \n",
       "48          0  1920x1080  \n",
       "150         0  1920x1080  \n",
       "863         1  1920x1080  \n",
       "669         0   1366x768  "
      ]
     },
     "execution_count": 36,
     "metadata": {},
     "output_type": "execute_result"
    }
   ],
   "source": [
    "df.sample(5)"
   ]
  },
  {
   "cell_type": "code",
   "execution_count": 37,
   "metadata": {
    "colab": {
     "base_uri": "https://localhost:8080/"
    },
    "id": "156SwjGUIeh8",
    "outputId": "f78e56af-6707-452d-bd69-9baa5fe6889a"
   },
   "outputs": [
    {
     "name": "stdout",
     "output_type": "stream",
     "text": [
      "<class 'pandas.core.frame.DataFrame'>\n",
      "Index: 1274 entries, 0 to 1273\n",
      "Data columns (total 14 columns):\n",
      " #   Column            Non-Null Count  Dtype  \n",
      "---  ------            --------------  -----  \n",
      " 0   Company           1274 non-null   object \n",
      " 1   TypeName          1274 non-null   object \n",
      " 2   Inches            1274 non-null   float64\n",
      " 3   ScreenResolution  1274 non-null   object \n",
      " 4   Cpu               1274 non-null   object \n",
      " 5   Ram               1274 non-null   int32  \n",
      " 6   Memory            1274 non-null   object \n",
      " 7   Gpu               1274 non-null   object \n",
      " 8   OpSys             1274 non-null   object \n",
      " 9   Weight            1274 non-null   float32\n",
      " 10  Price             1274 non-null   int32  \n",
      " 11  Touchscreen       1274 non-null   int64  \n",
      " 12  IPSpanel          1274 non-null   int64  \n",
      " 13  Resolution        1274 non-null   object \n",
      "dtypes: float32(1), float64(1), int32(2), int64(2), object(8)\n",
      "memory usage: 134.4+ KB\n"
     ]
    }
   ],
   "source": [
    "df.info()"
   ]
  },
  {
   "cell_type": "code",
   "execution_count": 38,
   "metadata": {
    "id": "vTQElD2YI3cz"
   },
   "outputs": [],
   "source": [
    "corr=df.corr(numeric_only=True)"
   ]
  },
  {
   "cell_type": "code",
   "execution_count": 39,
   "metadata": {
    "colab": {
     "base_uri": "https://localhost:8080/",
     "height": 524
    },
    "id": "NJzs58suJH9a",
    "outputId": "bde0b12d-0039-4ede-d1c5-3bcbe5059cb7"
   },
   "outputs": [
    {
     "data": {
      "text/plain": [
       "<Axes: >"
      ]
     },
     "execution_count": 39,
     "metadata": {},
     "output_type": "execute_result"
    },
    {
     "data": {
      "image/png": "[encoded data removed]",
      "text/plain": [
       "<Figure size 640x480 with 2 Axes>"
      ]
     },
     "metadata": {},
     "output_type": "display_data"
    }
   ],
   "source": [
    "sns.heatmap(corr, xticklabels=corr.columns,yticklabels=corr.columns, annot=True)"
   ]
  },
  {
   "cell_type": "code",
   "execution_count": 40,
   "metadata": {
    "colab": {
     "base_uri": "https://localhost:8080/",
     "height": 293
    },
    "id": "CBvQklCkuFc9",
    "outputId": "db4e5d0f-83bf-4adb-c087-6ffdbc69eb26"
   },
   "outputs": [
    {
     "data": {
      "text/html": [
       "<div>\n",
       "<style scoped>\n",
       "    .dataframe tbody tr th:only-of-type {\n",
       "        vertical-align: middle;\n",
       "    }\n",
       "\n",
       "    .dataframe tbody tr th {\n",
       "        vertical-align: top;\n",
       "    }\n",
       "\n",
       "    .dataframe thead th {\n",
       "        text-align: right;\n",
       "    }\n",
       "</style>\n",
       "<table border=\"1\" class=\"dataframe\">\n",
       "  <thead>\n",
       "    <tr style=\"text-align: right;\">\n",
       "      <th></th>\n",
       "      <th>Company</th>\n",
       "      <th>TypeName</th>\n",
       "      <th>Inches</th>\n",
       "      <th>ScreenResolution</th>\n",
       "      <th>Cpu</th>\n",
       "      <th>Ram</th>\n",
       "      <th>Memory</th>\n",
       "      <th>Gpu</th>\n",
       "      <th>OpSys</th>\n",
       "      <th>Weight</th>\n",
       "      <th>Price</th>\n",
       "      <th>Touchscreen</th>\n",
       "      <th>IPSpanel</th>\n",
       "      <th>Resolution</th>\n",
       "    </tr>\n",
       "  </thead>\n",
       "  <tbody>\n",
       "    <tr>\n",
       "      <th>0</th>\n",
       "      <td>Apple</td>\n",
       "      <td>Ultrabook</td>\n",
       "      <td>13.3</td>\n",
       "      <td>IPS Panel Retina Display 2560x1600</td>\n",
       "      <td>Intel Core i5 2.3GHz</td>\n",
       "      <td>8</td>\n",
       "      <td>128GB SSD</td>\n",
       "      <td>Intel Iris Plus Graphics 640</td>\n",
       "      <td>macOS</td>\n",
       "      <td>1.37</td>\n",
       "      <td>71378</td>\n",
       "      <td>0</td>\n",
       "      <td>1</td>\n",
       "      <td>2560x1600</td>\n",
       "    </tr>\n",
       "    <tr>\n",
       "      <th>1</th>\n",
       "      <td>Apple</td>\n",
       "      <td>Ultrabook</td>\n",
       "      <td>13.3</td>\n",
       "      <td>1440x900</td>\n",
       "      <td>Intel Core i5 1.8GHz</td>\n",
       "      <td>8</td>\n",
       "      <td>128GB Flash Storage</td>\n",
       "      <td>Intel HD Graphics 6000</td>\n",
       "      <td>macOS</td>\n",
       "      <td>1.34</td>\n",
       "      <td>47895</td>\n",
       "      <td>0</td>\n",
       "      <td>0</td>\n",
       "      <td>1440x900</td>\n",
       "    </tr>\n",
       "    <tr>\n",
       "      <th>2</th>\n",
       "      <td>HP</td>\n",
       "      <td>Notebook</td>\n",
       "      <td>15.6</td>\n",
       "      <td>Full HD 1920x1080</td>\n",
       "      <td>Intel Core i5 7200U 2.5GHz</td>\n",
       "      <td>8</td>\n",
       "      <td>256GB SSD</td>\n",
       "      <td>Intel HD Graphics 620</td>\n",
       "      <td>No OS</td>\n",
       "      <td>1.86</td>\n",
       "      <td>30636</td>\n",
       "      <td>0</td>\n",
       "      <td>0</td>\n",
       "      <td>1920x1080</td>\n",
       "    </tr>\n",
       "    <tr>\n",
       "      <th>3</th>\n",
       "      <td>Apple</td>\n",
       "      <td>Ultrabook</td>\n",
       "      <td>15.4</td>\n",
       "      <td>IPS Panel Retina Display 2880x1800</td>\n",
       "      <td>Intel Core i7 2.7GHz</td>\n",
       "      <td>16</td>\n",
       "      <td>512GB SSD</td>\n",
       "      <td>AMD Radeon Pro 455</td>\n",
       "      <td>macOS</td>\n",
       "      <td>1.83</td>\n",
       "      <td>135195</td>\n",
       "      <td>0</td>\n",
       "      <td>1</td>\n",
       "      <td>2880x1800</td>\n",
       "    </tr>\n",
       "    <tr>\n",
       "      <th>4</th>\n",
       "      <td>Apple</td>\n",
       "      <td>Ultrabook</td>\n",
       "      <td>13.3</td>\n",
       "      <td>IPS Panel Retina Display 2560x1600</td>\n",
       "      <td>Intel Core i5 3.1GHz</td>\n",
       "      <td>8</td>\n",
       "      <td>256GB SSD</td>\n",
       "      <td>Intel Iris Plus Graphics 650</td>\n",
       "      <td>macOS</td>\n",
       "      <td>1.37</td>\n",
       "      <td>96095</td>\n",
       "      <td>0</td>\n",
       "      <td>1</td>\n",
       "      <td>2560x1600</td>\n",
       "    </tr>\n",
       "  </tbody>\n",
       "</table>\n",
       "</div>"
      ],
      "text/plain": [
       "  Company   TypeName  Inches                    ScreenResolution  \\\n",
       "0   Apple  Ultrabook    13.3  IPS Panel Retina Display 2560x1600   \n",
       "1   Apple  Ultrabook    13.3                            1440x900   \n",
       "2      HP   Notebook    15.6                   Full HD 1920x1080   \n",
       "3   Apple  Ultrabook    15.4  IPS Panel Retina Display 2880x1800   \n",
       "4   Apple  Ultrabook    13.3  IPS Panel Retina Display 2560x1600   \n",
       "\n",
       "                          Cpu  Ram               Memory  \\\n",
       "0        Intel Core i5 2.3GHz    8            128GB SSD   \n",
       "1        Intel Core i5 1.8GHz    8  128GB Flash Storage   \n",
       "2  Intel Core i5 7200U 2.5GHz    8            256GB SSD   \n",
       "3        Intel Core i7 2.7GHz   16            512GB SSD   \n",
       "4        Intel Core i5 3.1GHz    8            256GB SSD   \n",
       "\n",
       "                            Gpu  OpSys  Weight   Price  Touchscreen  IPSpanel  \\\n",
       "0  Intel Iris Plus Graphics 640  macOS    1.37   71378            0         1   \n",
       "1        Intel HD Graphics 6000  macOS    1.34   47895            0         0   \n",
       "2         Intel HD Graphics 620  No OS    1.86   30636            0         0   \n",
       "3            AMD Radeon Pro 455  macOS    1.83  135195            0         1   \n",
       "4  Intel Iris Plus Graphics 650  macOS    1.37   96095            0         1   \n",
       "\n",
       "  Resolution  \n",
       "0  2560x1600  \n",
       "1   1440x900  \n",
       "2  1920x1080  \n",
       "3  2880x1800  \n",
       "4  2560x1600  "
      ]
     },
     "execution_count": 40,
     "metadata": {},
     "output_type": "execute_result"
    }
   ],
   "source": [
    "df.head(5)"
   ]
  },
  {
   "cell_type": "code",
   "execution_count": 41,
   "metadata": {
    "colab": {
     "base_uri": "https://localhost:8080/"
    },
    "id": "y0LGBAcKJxvA",
    "outputId": "eb9c3508-0d6a-450b-a9fe-891921d6529e"
   },
   "outputs": [
    {
     "name": "stderr",
     "output_type": "stream",
     "text": [
      "C:\\Users\\wasid\\AppData\\Local\\Temp\\ipykernel_3856\\1121131261.py:4: SettingWithCopyWarning: \n",
      "A value is trying to be set on a copy of a slice from a DataFrame.\n",
      "Try using .loc[row_indexer,col_indexer] = value instead\n",
      "\n",
      "See the caveats in the documentation: https://pandas.pydata.org/pandas-docs/stable/user_guide/indexing.html#returning-a-view-versus-a-copy\n",
      "  df['Xresol']=df['Resolution'].str.split('x').str[0].astype('int32')\n",
      "C:\\Users\\wasid\\AppData\\Local\\Temp\\ipykernel_3856\\1121131261.py:7: SettingWithCopyWarning: \n",
      "A value is trying to be set on a copy of a slice from a DataFrame.\n",
      "Try using .loc[row_indexer,col_indexer] = value instead\n",
      "\n",
      "See the caveats in the documentation: https://pandas.pydata.org/pandas-docs/stable/user_guide/indexing.html#returning-a-view-versus-a-copy\n",
      "  df['Yresol']=df['Resolution'].str.split('x').str[1].astype('int32')\n"
     ]
    }
   ],
   "source": [
    "#Creating PPI(pixel per inches) column from resolution and Inches Column\n",
    "\n",
    "# Creating X column\n",
    "df['Xresol']=df['Resolution'].str.split('x').str[0].astype('int32')\n",
    "\n",
    "#creating Y column\n",
    "df['Yresol']=df['Resolution'].str.split('x').str[1].astype('int32')"
   ]
  },
  {
   "cell_type": "code",
   "execution_count": 42,
   "metadata": {
    "colab": {
     "base_uri": "https://localhost:8080/",
     "height": 293
    },
    "id": "TmDjkuulwl1j",
    "outputId": "55e87cb6-ddbe-46aa-f945-77485b679670"
   },
   "outputs": [
    {
     "data": {
      "text/html": [
       "<div>\n",
       "<style scoped>\n",
       "    .dataframe tbody tr th:only-of-type {\n",
       "        vertical-align: middle;\n",
       "    }\n",
       "\n",
       "    .dataframe tbody tr th {\n",
       "        vertical-align: top;\n",
       "    }\n",
       "\n",
       "    .dataframe thead th {\n",
       "        text-align: right;\n",
       "    }\n",
       "</style>\n",
       "<table border=\"1\" class=\"dataframe\">\n",
       "  <thead>\n",
       "    <tr style=\"text-align: right;\">\n",
       "      <th></th>\n",
       "      <th>Company</th>\n",
       "      <th>TypeName</th>\n",
       "      <th>Inches</th>\n",
       "      <th>ScreenResolution</th>\n",
       "      <th>Cpu</th>\n",
       "      <th>Ram</th>\n",
       "      <th>Memory</th>\n",
       "      <th>Gpu</th>\n",
       "      <th>OpSys</th>\n",
       "      <th>Weight</th>\n",
       "      <th>Price</th>\n",
       "      <th>Touchscreen</th>\n",
       "      <th>IPSpanel</th>\n",
       "      <th>Resolution</th>\n",
       "      <th>Xresol</th>\n",
       "      <th>Yresol</th>\n",
       "    </tr>\n",
       "  </thead>\n",
       "  <tbody>\n",
       "    <tr>\n",
       "      <th>0</th>\n",
       "      <td>Apple</td>\n",
       "      <td>Ultrabook</td>\n",
       "      <td>13.3</td>\n",
       "      <td>IPS Panel Retina Display 2560x1600</td>\n",
       "      <td>Intel Core i5 2.3GHz</td>\n",
       "      <td>8</td>\n",
       "      <td>128GB SSD</td>\n",
       "      <td>Intel Iris Plus Graphics 640</td>\n",
       "      <td>macOS</td>\n",
       "      <td>1.37</td>\n",
       "      <td>71378</td>\n",
       "      <td>0</td>\n",
       "      <td>1</td>\n",
       "      <td>2560x1600</td>\n",
       "      <td>2560</td>\n",
       "      <td>1600</td>\n",
       "    </tr>\n",
       "    <tr>\n",
       "      <th>1</th>\n",
       "      <td>Apple</td>\n",
       "      <td>Ultrabook</td>\n",
       "      <td>13.3</td>\n",
       "      <td>1440x900</td>\n",
       "      <td>Intel Core i5 1.8GHz</td>\n",
       "      <td>8</td>\n",
       "      <td>128GB Flash Storage</td>\n",
       "      <td>Intel HD Graphics 6000</td>\n",
       "      <td>macOS</td>\n",
       "      <td>1.34</td>\n",
       "      <td>47895</td>\n",
       "      <td>0</td>\n",
       "      <td>0</td>\n",
       "      <td>1440x900</td>\n",
       "      <td>1440</td>\n",
       "      <td>900</td>\n",
       "    </tr>\n",
       "    <tr>\n",
       "      <th>2</th>\n",
       "      <td>HP</td>\n",
       "      <td>Notebook</td>\n",
       "      <td>15.6</td>\n",
       "      <td>Full HD 1920x1080</td>\n",
       "      <td>Intel Core i5 7200U 2.5GHz</td>\n",
       "      <td>8</td>\n",
       "      <td>256GB SSD</td>\n",
       "      <td>Intel HD Graphics 620</td>\n",
       "      <td>No OS</td>\n",
       "      <td>1.86</td>\n",
       "      <td>30636</td>\n",
       "      <td>0</td>\n",
       "      <td>0</td>\n",
       "      <td>1920x1080</td>\n",
       "      <td>1920</td>\n",
       "      <td>1080</td>\n",
       "    </tr>\n",
       "    <tr>\n",
       "      <th>3</th>\n",
       "      <td>Apple</td>\n",
       "      <td>Ultrabook</td>\n",
       "      <td>15.4</td>\n",
       "      <td>IPS Panel Retina Display 2880x1800</td>\n",
       "      <td>Intel Core i7 2.7GHz</td>\n",
       "      <td>16</td>\n",
       "      <td>512GB SSD</td>\n",
       "      <td>AMD Radeon Pro 455</td>\n",
       "      <td>macOS</td>\n",
       "      <td>1.83</td>\n",
       "      <td>135195</td>\n",
       "      <td>0</td>\n",
       "      <td>1</td>\n",
       "      <td>2880x1800</td>\n",
       "      <td>2880</td>\n",
       "      <td>1800</td>\n",
       "    </tr>\n",
       "    <tr>\n",
       "      <th>4</th>\n",
       "      <td>Apple</td>\n",
       "      <td>Ultrabook</td>\n",
       "      <td>13.3</td>\n",
       "      <td>IPS Panel Retina Display 2560x1600</td>\n",
       "      <td>Intel Core i5 3.1GHz</td>\n",
       "      <td>8</td>\n",
       "      <td>256GB SSD</td>\n",
       "      <td>Intel Iris Plus Graphics 650</td>\n",
       "      <td>macOS</td>\n",
       "      <td>1.37</td>\n",
       "      <td>96095</td>\n",
       "      <td>0</td>\n",
       "      <td>1</td>\n",
       "      <td>2560x1600</td>\n",
       "      <td>2560</td>\n",
       "      <td>1600</td>\n",
       "    </tr>\n",
       "  </tbody>\n",
       "</table>\n",
       "</div>"
      ],
      "text/plain": [
       "  Company   TypeName  Inches                    ScreenResolution  \\\n",
       "0   Apple  Ultrabook    13.3  IPS Panel Retina Display 2560x1600   \n",
       "1   Apple  Ultrabook    13.3                            1440x900   \n",
       "2      HP   Notebook    15.6                   Full HD 1920x1080   \n",
       "3   Apple  Ultrabook    15.4  IPS Panel Retina Display 2880x1800   \n",
       "4   Apple  Ultrabook    13.3  IPS Panel Retina Display 2560x1600   \n",
       "\n",
       "                          Cpu  Ram               Memory  \\\n",
       "0        Intel Core i5 2.3GHz    8            128GB SSD   \n",
       "1        Intel Core i5 1.8GHz    8  128GB Flash Storage   \n",
       "2  Intel Core i5 7200U 2.5GHz    8            256GB SSD   \n",
       "3        Intel Core i7 2.7GHz   16            512GB SSD   \n",
       "4        Intel Core i5 3.1GHz    8            256GB SSD   \n",
       "\n",
       "                            Gpu  OpSys  Weight   Price  Touchscreen  IPSpanel  \\\n",
       "0  Intel Iris Plus Graphics 640  macOS    1.37   71378            0         1   \n",
       "1        Intel HD Graphics 6000  macOS    1.34   47895            0         0   \n",
       "2         Intel HD Graphics 620  No OS    1.86   30636            0         0   \n",
       "3            AMD Radeon Pro 455  macOS    1.83  135195            0         1   \n",
       "4  Intel Iris Plus Graphics 650  macOS    1.37   96095            0         1   \n",
       "\n",
       "  Resolution  Xresol  Yresol  \n",
       "0  2560x1600    2560    1600  \n",
       "1   1440x900    1440     900  \n",
       "2  1920x1080    1920    1080  \n",
       "3  2880x1800    2880    1800  \n",
       "4  2560x1600    2560    1600  "
      ]
     },
     "execution_count": 42,
     "metadata": {},
     "output_type": "execute_result"
    }
   ],
   "source": [
    "df.head(5)"
   ]
  },
  {
   "cell_type": "code",
   "execution_count": 43,
   "metadata": {
    "colab": {
     "base_uri": "https://localhost:8080/"
    },
    "id": "KKvGvtMCxiRn",
    "outputId": "a88776fe-9329-4ef2-931e-e117aa5eb915"
   },
   "outputs": [
    {
     "name": "stdout",
     "output_type": "stream",
     "text": [
      "<class 'pandas.core.frame.DataFrame'>\n",
      "Index: 1274 entries, 0 to 1273\n",
      "Data columns (total 16 columns):\n",
      " #   Column            Non-Null Count  Dtype  \n",
      "---  ------            --------------  -----  \n",
      " 0   Company           1274 non-null   object \n",
      " 1   TypeName          1274 non-null   object \n",
      " 2   Inches            1274 non-null   float64\n",
      " 3   ScreenResolution  1274 non-null   object \n",
      " 4   Cpu               1274 non-null   object \n",
      " 5   Ram               1274 non-null   int32  \n",
      " 6   Memory            1274 non-null   object \n",
      " 7   Gpu               1274 non-null   object \n",
      " 8   OpSys             1274 non-null   object \n",
      " 9   Weight            1274 non-null   float32\n",
      " 10  Price             1274 non-null   int32  \n",
      " 11  Touchscreen       1274 non-null   int64  \n",
      " 12  IPSpanel          1274 non-null   int64  \n",
      " 13  Resolution        1274 non-null   object \n",
      " 14  Xresol            1274 non-null   int32  \n",
      " 15  Yresol            1274 non-null   int32  \n",
      "dtypes: float32(1), float64(1), int32(4), int64(2), object(8)\n",
      "memory usage: 144.3+ KB\n"
     ]
    }
   ],
   "source": [
    "df.info()"
   ]
  },
  {
   "cell_type": "code",
   "execution_count": 44,
   "metadata": {
    "colab": {
     "base_uri": "https://localhost:8080/"
    },
    "id": "_ca2YWE1wnqh",
    "outputId": "18649519-1575-4e63-eb79-3e537f0970ad"
   },
   "outputs": [
    {
     "name": "stderr",
     "output_type": "stream",
     "text": [
      "C:\\Users\\wasid\\AppData\\Local\\Temp\\ipykernel_3856\\1527790240.py:2: SettingWithCopyWarning: \n",
      "A value is trying to be set on a copy of a slice from a DataFrame.\n",
      "Try using .loc[row_indexer,col_indexer] = value instead\n",
      "\n",
      "See the caveats in the documentation: https://pandas.pydata.org/pandas-docs/stable/user_guide/indexing.html#returning-a-view-versus-a-copy\n",
      "  df['PPI']= (((df['Xresol']**2) + (df['Yresol']**2) )**0.5 /df['Inches']).astype('float32')\n"
     ]
    }
   ],
   "source": [
    "# Creating PPI Column\n",
    "df['PPI']= (((df['Xresol']**2) + (df['Yresol']**2) )**0.5 /df['Inches']).astype('float32')"
   ]
  },
  {
   "cell_type": "code",
   "execution_count": 45,
   "metadata": {
    "colab": {
     "base_uri": "https://localhost:8080/",
     "height": 147
    },
    "id": "7BdM5hoSxduh",
    "outputId": "3b1c500d-fc56-48a1-f4eb-9078290191a4"
   },
   "outputs": [
    {
     "data": {
      "text/html": [
       "<div>\n",
       "<style scoped>\n",
       "    .dataframe tbody tr th:only-of-type {\n",
       "        vertical-align: middle;\n",
       "    }\n",
       "\n",
       "    .dataframe tbody tr th {\n",
       "        vertical-align: top;\n",
       "    }\n",
       "\n",
       "    .dataframe thead th {\n",
       "        text-align: right;\n",
       "    }\n",
       "</style>\n",
       "<table border=\"1\" class=\"dataframe\">\n",
       "  <thead>\n",
       "    <tr style=\"text-align: right;\">\n",
       "      <th></th>\n",
       "      <th>Company</th>\n",
       "      <th>TypeName</th>\n",
       "      <th>Inches</th>\n",
       "      <th>ScreenResolution</th>\n",
       "      <th>Cpu</th>\n",
       "      <th>Ram</th>\n",
       "      <th>Memory</th>\n",
       "      <th>Gpu</th>\n",
       "      <th>OpSys</th>\n",
       "      <th>Weight</th>\n",
       "      <th>Price</th>\n",
       "      <th>Touchscreen</th>\n",
       "      <th>IPSpanel</th>\n",
       "      <th>Resolution</th>\n",
       "      <th>Xresol</th>\n",
       "      <th>Yresol</th>\n",
       "      <th>PPI</th>\n",
       "    </tr>\n",
       "  </thead>\n",
       "  <tbody>\n",
       "    <tr>\n",
       "      <th>0</th>\n",
       "      <td>Apple</td>\n",
       "      <td>Ultrabook</td>\n",
       "      <td>13.3</td>\n",
       "      <td>IPS Panel Retina Display 2560x1600</td>\n",
       "      <td>Intel Core i5 2.3GHz</td>\n",
       "      <td>8</td>\n",
       "      <td>128GB SSD</td>\n",
       "      <td>Intel Iris Plus Graphics 640</td>\n",
       "      <td>macOS</td>\n",
       "      <td>1.37</td>\n",
       "      <td>71378</td>\n",
       "      <td>0</td>\n",
       "      <td>1</td>\n",
       "      <td>2560x1600</td>\n",
       "      <td>2560</td>\n",
       "      <td>1600</td>\n",
       "      <td>226.983002</td>\n",
       "    </tr>\n",
       "    <tr>\n",
       "      <th>1</th>\n",
       "      <td>Apple</td>\n",
       "      <td>Ultrabook</td>\n",
       "      <td>13.3</td>\n",
       "      <td>1440x900</td>\n",
       "      <td>Intel Core i5 1.8GHz</td>\n",
       "      <td>8</td>\n",
       "      <td>128GB Flash Storage</td>\n",
       "      <td>Intel HD Graphics 6000</td>\n",
       "      <td>macOS</td>\n",
       "      <td>1.34</td>\n",
       "      <td>47895</td>\n",
       "      <td>0</td>\n",
       "      <td>0</td>\n",
       "      <td>1440x900</td>\n",
       "      <td>1440</td>\n",
       "      <td>900</td>\n",
       "      <td>127.677940</td>\n",
       "    </tr>\n",
       "  </tbody>\n",
       "</table>\n",
       "</div>"
      ],
      "text/plain": [
       "  Company   TypeName  Inches                    ScreenResolution  \\\n",
       "0   Apple  Ultrabook    13.3  IPS Panel Retina Display 2560x1600   \n",
       "1   Apple  Ultrabook    13.3                            1440x900   \n",
       "\n",
       "                    Cpu  Ram               Memory  \\\n",
       "0  Intel Core i5 2.3GHz    8            128GB SSD   \n",
       "1  Intel Core i5 1.8GHz    8  128GB Flash Storage   \n",
       "\n",
       "                            Gpu  OpSys  Weight  Price  Touchscreen  IPSpanel  \\\n",
       "0  Intel Iris Plus Graphics 640  macOS    1.37  71378            0         1   \n",
       "1        Intel HD Graphics 6000  macOS    1.34  47895            0         0   \n",
       "\n",
       "  Resolution  Xresol  Yresol         PPI  \n",
       "0  2560x1600    2560    1600  226.983002  \n",
       "1   1440x900    1440     900  127.677940  "
      ]
     },
     "execution_count": 45,
     "metadata": {},
     "output_type": "execute_result"
    }
   ],
   "source": [
    "df.head(2)"
   ]
  },
  {
   "cell_type": "code",
   "execution_count": 46,
   "metadata": {
    "colab": {
     "base_uri": "https://localhost:8080/"
    },
    "id": "k7VLEYf_xz2r",
    "outputId": "1bf9f155-8ded-489c-ef56-1d8b0932a3ab"
   },
   "outputs": [
    {
     "name": "stderr",
     "output_type": "stream",
     "text": [
      "C:\\Users\\wasid\\AppData\\Local\\Temp\\ipykernel_3856\\3178731013.py:2: SettingWithCopyWarning: \n",
      "A value is trying to be set on a copy of a slice from a DataFrame\n",
      "\n",
      "See the caveats in the documentation: https://pandas.pydata.org/pandas-docs/stable/user_guide/indexing.html#returning-a-view-versus-a-copy\n",
      "  df.drop(columns=['ScreenResolution'], inplace=True)\n",
      "C:\\Users\\wasid\\AppData\\Local\\Temp\\ipykernel_3856\\3178731013.py:3: SettingWithCopyWarning: \n",
      "A value is trying to be set on a copy of a slice from a DataFrame\n",
      "\n",
      "See the caveats in the documentation: https://pandas.pydata.org/pandas-docs/stable/user_guide/indexing.html#returning-a-view-versus-a-copy\n",
      "  df.drop(columns=['Inches','Resolution','Xresol','Yresol'], inplace=True)\n"
     ]
    }
   ],
   "source": [
    "# drop ScreenResolution ,Inch , Resolution, X,YResol Columns\n",
    "df.drop(columns=['ScreenResolution'], inplace=True)\n",
    "df.drop(columns=['Inches','Resolution','Xresol','Yresol'], inplace=True)"
   ]
  },
  {
   "cell_type": "code",
   "execution_count": 47,
   "metadata": {
    "colab": {
     "base_uri": "https://localhost:8080/",
     "height": 490
    },
    "id": "izaOA9F8yLwH",
    "outputId": "0916d54f-fc8c-4d24-fdb8-8db8b8386178"
   },
   "outputs": [
    {
     "data": {
      "text/plain": [
       "Cpu\n",
       "Intel Core i5 7200U 2.5GHz     190\n",
       "Intel Core i7 7700HQ 2.8GHz    146\n",
       "Intel Core i7 7500U 2.7GHz     132\n",
       "Intel Core i7 8550U 1.8GHz      73\n",
       "Intel Core i5 8250U 1.6GHz      72\n",
       "                              ... \n",
       "Intel Core M M3-6Y30 0.9GHz      1\n",
       "AMD A9-Series 9420 2.9GHz        1\n",
       "Intel Core i5 2.9GHz             1\n",
       "AMD A6-Series 7310 2GHz          1\n",
       "AMD A9-Series 9410 2.9GHz        1\n",
       "Name: count, Length: 118, dtype: int64"
      ]
     },
     "execution_count": 47,
     "metadata": {},
     "output_type": "execute_result"
    }
   ],
   "source": [
    "# now extracting meaningful columns from Cpu column\n",
    "#Creating 5 New Columns from Cpu Column\n",
    "#1 Intel Core i3\n",
    "#2 Intel Core i5\n",
    "#3 Intel Core i7\n",
    "#4 Intel celeron,Intel plantium processor catagory\n",
    "#5 AMD\n",
    "\n",
    "\n",
    "df['Cpu'].value_counts()"
   ]
  },
  {
   "cell_type": "code",
   "execution_count": 48,
   "metadata": {
    "colab": {
     "base_uri": "https://localhost:8080/"
    },
    "id": "9MnKevSVzMk4",
    "outputId": "c10415fb-3455-4a38-a50e-f34d9f039db8"
   },
   "outputs": [
    {
     "data": {
      "text/plain": [
       "array(['Intel Core i5 2.3GHz', 'Intel Core i5 1.8GHz',\n",
       "       'Intel Core i5 7200U 2.5GHz', 'Intel Core i7 2.7GHz',\n",
       "       'Intel Core i5 3.1GHz', 'AMD A9-Series 9420 3GHz',\n",
       "       'Intel Core i7 2.2GHz', 'Intel Core i7 8550U 1.8GHz',\n",
       "       'Intel Core i5 8250U 1.6GHz', 'Intel Core i3 6006U 2GHz',\n",
       "       'Intel Core i7 2.8GHz', 'Intel Core M m3 1.2GHz',\n",
       "       'Intel Core i7 7500U 2.7GHz', 'Intel Core i7 2.9GHz',\n",
       "       'Intel Core i3 7100U 2.4GHz', 'Intel Atom x5-Z8350 1.44GHz',\n",
       "       'Intel Core i5 7300HQ 2.5GHz', 'AMD E-Series E2-9000e 1.5GHz',\n",
       "       'Intel Core i5 1.6GHz', 'Intel Core i7 8650U 1.9GHz',\n",
       "       'Intel Atom x5-Z8300 1.44GHz', 'AMD E-Series E2-6110 1.5GHz',\n",
       "       'AMD A6-Series 9220 2.5GHz',\n",
       "       'Intel Celeron Dual Core N3350 1.1GHz',\n",
       "       'Intel Core i3 7130U 2.7GHz', 'Intel Core i7 7700HQ 2.8GHz',\n",
       "       'Intel Core i5 2.0GHz', 'AMD Ryzen 1700 3GHz',\n",
       "       'Intel Pentium Quad Core N4200 1.1GHz',\n",
       "       'Intel Atom x5-Z8550 1.44GHz',\n",
       "       'Intel Celeron Dual Core N3060 1.6GHz', 'Intel Core i5 1.3GHz',\n",
       "       'AMD FX 9830P 3GHz', 'Intel Core i7 7560U 2.4GHz',\n",
       "       'AMD E-Series 6110 1.5GHz', 'Intel Core i5 6200U 2.3GHz',\n",
       "       'Intel Core M 6Y75 1.2GHz', 'Intel Core i5 7500U 2.7GHz',\n",
       "       'Intel Core i3 6006U 2.2GHz', 'AMD A6-Series 9220 2.9GHz',\n",
       "       'Intel Core i7 6920HQ 2.9GHz', 'Intel Core i5 7Y54 1.2GHz',\n",
       "       'Intel Core i7 7820HK 2.9GHz', 'Intel Xeon E3-1505M V6 3GHz',\n",
       "       'Intel Core i7 6500U 2.5GHz', 'AMD E-Series 9000e 1.5GHz',\n",
       "       'AMD A10-Series A10-9620P 2.5GHz', 'AMD A6-Series A6-9220 2.5GHz',\n",
       "       'Intel Core i5 2.9GHz', 'Intel Core i7 6600U 2.6GHz',\n",
       "       'Intel Core i3 6006U 2.0GHz',\n",
       "       'Intel Celeron Dual Core 3205U 1.5GHz',\n",
       "       'Intel Core i7 7820HQ 2.9GHz', 'AMD A10-Series 9600P 2.4GHz',\n",
       "       'Intel Core i7 7600U 2.8GHz', 'AMD A8-Series 7410 2.2GHz',\n",
       "       'Intel Celeron Dual Core 3855U 1.6GHz',\n",
       "       'Intel Pentium Quad Core N3710 1.6GHz',\n",
       "       'AMD A12-Series 9720P 2.7GHz', 'Intel Core i5 7300U 2.6GHz',\n",
       "       'AMD A12-Series 9720P 3.6GHz',\n",
       "       'Intel Celeron Quad Core N3450 1.1GHz',\n",
       "       'Intel Celeron Dual Core N3060 1.60GHz',\n",
       "       'Intel Core i5 6440HQ 2.6GHz', 'Intel Core i7 6820HQ 2.7GHz',\n",
       "       'AMD Ryzen 1600 3.2GHz', 'Intel Core i7 7Y75 1.3GHz',\n",
       "       'Intel Core i5 7440HQ 2.8GHz', 'Intel Core i7 7660U 2.5GHz',\n",
       "       'Intel Core i7 7700HQ 2.7GHz', 'Intel Core M m3-7Y30 2.2GHz',\n",
       "       'Intel Core i5 7Y57 1.2GHz', 'Intel Core i7 6700HQ 2.6GHz',\n",
       "       'Intel Core i3 6100U 2.3GHz', 'AMD A10-Series 9620P 2.5GHz',\n",
       "       'AMD E-Series 7110 1.8GHz', 'Intel Celeron Dual Core N3350 2.0GHz',\n",
       "       'AMD A9-Series A9-9420 3GHz', 'Intel Core i7 6820HK 2.7GHz',\n",
       "       'Intel Core M 7Y30 1.0GHz', 'Intel Xeon E3-1535M v6 3.1GHz',\n",
       "       'Intel Celeron Quad Core N3160 1.6GHz',\n",
       "       'Intel Core i5 6300U 2.4GHz', 'Intel Core i3 6100U 2.1GHz',\n",
       "       'AMD E-Series E2-9000 2.2GHz',\n",
       "       'Intel Celeron Dual Core N3050 1.6GHz',\n",
       "       'Intel Core M M3-6Y30 0.9GHz', 'AMD A9-Series 9420 2.9GHz',\n",
       "       'Intel Core i5 6300HQ 2.3GHz', 'AMD A6-Series 7310 2GHz',\n",
       "       'Intel Atom Z8350 1.92GHz', 'Intel Xeon E3-1535M v5 2.9GHz',\n",
       "       'Intel Core i5 6260U 1.8GHz',\n",
       "       'Intel Pentium Dual Core N4200 1.1GHz',\n",
       "       'Intel Celeron Quad Core N3710 1.6GHz', 'Intel Core M 1.2GHz',\n",
       "       'AMD A12-Series 9700P 2.5GHz', 'Intel Core i7 7500U 2.5GHz',\n",
       "       'Intel Pentium Dual Core 4405U 2.1GHz',\n",
       "       'AMD A4-Series 7210 2.2GHz', 'Intel Core i7 6560U 2.2GHz',\n",
       "       'Intel Core M m7-6Y75 1.2GHz', 'AMD FX 8800P 2.1GHz',\n",
       "       'Intel Core M M7-6Y75 1.2GHz', 'Intel Core i5 7200U 2.50GHz',\n",
       "       'Intel Core i5 7200U 2.70GHz', 'Intel Atom X5-Z8350 1.44GHz',\n",
       "       'Intel Core i5 7200U 2.7GHz', 'Intel Core M 1.1GHz',\n",
       "       'Intel Pentium Dual Core 4405Y 1.5GHz',\n",
       "       'Intel Pentium Quad Core N3700 1.6GHz', 'Intel Core M 6Y54 1.1GHz',\n",
       "       'Intel Core i7 6500U 2.50GHz',\n",
       "       'Intel Celeron Dual Core N3350 2GHz',\n",
       "       'Samsung Cortex A72&A53 2.0GHz', 'AMD E-Series 9000 2.2GHz',\n",
       "       'Intel Core M 6Y30 0.9GHz', 'AMD A9-Series 9410 2.9GHz'],\n",
       "      dtype=object)"
      ]
     },
     "execution_count": 48,
     "metadata": {},
     "output_type": "execute_result"
    }
   ],
   "source": [
    "df['Cpu'].unique()"
   ]
  },
  {
   "cell_type": "code",
   "execution_count": 49,
   "metadata": {
    "colab": {
     "base_uri": "https://localhost:8080/"
    },
    "id": "eUyKyq7yzaWq",
    "outputId": "813f5581-c899-4914-8961-863445460360"
   },
   "outputs": [
    {
     "name": "stderr",
     "output_type": "stream",
     "text": [
      "C:\\Users\\wasid\\AppData\\Local\\Temp\\ipykernel_3856\\442052894.py:1: SettingWithCopyWarning: \n",
      "A value is trying to be set on a copy of a slice from a DataFrame.\n",
      "Try using .loc[row_indexer,col_indexer] = value instead\n",
      "\n",
      "See the caveats in the documentation: https://pandas.pydata.org/pandas-docs/stable/user_guide/indexing.html#returning-a-view-versus-a-copy\n",
      "  df['Cpu Name'] = df['Cpu'].apply(lambda x: ' '.join(x.split()[0:3]))\n"
     ]
    }
   ],
   "source": [
    "df['Cpu Name'] = df['Cpu'].apply(lambda x: ' '.join(x.split()[0:3]))"
   ]
  },
  {
   "cell_type": "code",
   "execution_count": 50,
   "metadata": {
    "colab": {
     "base_uri": "https://localhost:8080/",
     "height": 458
    },
    "id": "q3XA8HdI17Mn",
    "outputId": "d4510d4e-3901-40dd-dad9-228a2578eca8"
   },
   "outputs": [
    {
     "data": {
      "text/plain": [
       "0            Intel Core i5\n",
       "1            Intel Core i5\n",
       "2            Intel Core i5\n",
       "3            Intel Core i7\n",
       "4            Intel Core i5\n",
       "               ...        \n",
       "1269         Intel Core i7\n",
       "1270         Intel Core i7\n",
       "1271         Intel Core i7\n",
       "1272    Intel Celeron Dual\n",
       "1273         Intel Core i7\n",
       "Name: Cpu Name, Length: 1274, dtype: object"
      ]
     },
     "execution_count": 50,
     "metadata": {},
     "output_type": "execute_result"
    }
   ],
   "source": [
    "df['Cpu Name']"
   ]
  },
  {
   "cell_type": "code",
   "execution_count": 51,
   "metadata": {
    "id": "pNy5AYWs5ZT4"
   },
   "outputs": [],
   "source": [
    "def categorize_cpu(cpu_name):\n",
    "    if 'Intel Core i5' in cpu_name:\n",
    "        return 'Intel Core i5'\n",
    "    elif 'Intel Core i3' in cpu_name:\n",
    "        return 'Intel Core i3'\n",
    "    elif 'Intel Core i7' in cpu_name:\n",
    "        return 'Intel Core i7'\n",
    "    elif 'Intel' in cpu_name:\n",
    "        return 'Other Intel Processors'\n",
    "    elif 'AMD' in cpu_name:\n",
    "        return 'AMD Processors'\n",
    "    else:\n",
    "        return 'Other'\n"
   ]
  },
  {
   "cell_type": "code",
   "execution_count": 52,
   "metadata": {
    "colab": {
     "base_uri": "https://localhost:8080/",
     "height": 35
    },
    "id": "2q-GPazj6OfD",
    "outputId": "a6702003-5057-4ec7-93c9-6aac5c05d5d6"
   },
   "outputs": [
    {
     "data": {
      "text/plain": [
       "'Intel Core i7'"
      ]
     },
     "execution_count": 52,
     "metadata": {},
     "output_type": "execute_result"
    }
   ],
   "source": [
    "categorize_cpu(\"Intel Core i7\")"
   ]
  },
  {
   "cell_type": "code",
   "execution_count": 53,
   "metadata": {
    "colab": {
     "base_uri": "https://localhost:8080/"
    },
    "id": "m71-6ha75aa1",
    "outputId": "ee250e7d-752f-4999-ff27-30bd52e58b43"
   },
   "outputs": [
    {
     "name": "stderr",
     "output_type": "stream",
     "text": [
      "C:\\Users\\wasid\\AppData\\Local\\Temp\\ipykernel_3856\\2966882647.py:1: SettingWithCopyWarning: \n",
      "A value is trying to be set on a copy of a slice from a DataFrame.\n",
      "Try using .loc[row_indexer,col_indexer] = value instead\n",
      "\n",
      "See the caveats in the documentation: https://pandas.pydata.org/pandas-docs/stable/user_guide/indexing.html#returning-a-view-versus-a-copy\n",
      "  df['Cpu brand'] = df['Cpu Name'].apply(categorize_cpu)\n"
     ]
    }
   ],
   "source": [
    "df['Cpu brand'] = df['Cpu Name'].apply(categorize_cpu)"
   ]
  },
  {
   "cell_type": "code",
   "execution_count": 54,
   "metadata": {
    "colab": {
     "base_uri": "https://localhost:8080/",
     "height": 293
    },
    "id": "eDWs5NAf5de0",
    "outputId": "72e306a8-a92c-45b8-dd37-12d9acfe1943"
   },
   "outputs": [
    {
     "data": {
      "text/html": [
       "<div>\n",
       "<style scoped>\n",
       "    .dataframe tbody tr th:only-of-type {\n",
       "        vertical-align: middle;\n",
       "    }\n",
       "\n",
       "    .dataframe tbody tr th {\n",
       "        vertical-align: top;\n",
       "    }\n",
       "\n",
       "    .dataframe thead th {\n",
       "        text-align: right;\n",
       "    }\n",
       "</style>\n",
       "<table border=\"1\" class=\"dataframe\">\n",
       "  <thead>\n",
       "    <tr style=\"text-align: right;\">\n",
       "      <th></th>\n",
       "      <th>Company</th>\n",
       "      <th>TypeName</th>\n",
       "      <th>Cpu</th>\n",
       "      <th>Ram</th>\n",
       "      <th>Memory</th>\n",
       "      <th>Gpu</th>\n",
       "      <th>OpSys</th>\n",
       "      <th>Weight</th>\n",
       "      <th>Price</th>\n",
       "      <th>Touchscreen</th>\n",
       "      <th>IPSpanel</th>\n",
       "      <th>PPI</th>\n",
       "      <th>Cpu Name</th>\n",
       "      <th>Cpu brand</th>\n",
       "    </tr>\n",
       "  </thead>\n",
       "  <tbody>\n",
       "    <tr>\n",
       "      <th>259</th>\n",
       "      <td>Lenovo</td>\n",
       "      <td>2 in 1 Convertible</td>\n",
       "      <td>Intel Core i7 7700HQ 2.8GHz</td>\n",
       "      <td>8</td>\n",
       "      <td>512GB SSD</td>\n",
       "      <td>Nvidia GeForce GTX 1050M</td>\n",
       "      <td>Windows 10</td>\n",
       "      <td>2.00</td>\n",
       "      <td>90522</td>\n",
       "      <td>1</td>\n",
       "      <td>1</td>\n",
       "      <td>141.212006</td>\n",
       "      <td>Intel Core i7</td>\n",
       "      <td>Intel Core i7</td>\n",
       "    </tr>\n",
       "    <tr>\n",
       "      <th>172</th>\n",
       "      <td>Lenovo</td>\n",
       "      <td>Notebook</td>\n",
       "      <td>AMD A6-Series 9220 2.9GHz</td>\n",
       "      <td>4</td>\n",
       "      <td>500GB HDD</td>\n",
       "      <td>AMD Radeon R4 Graphics</td>\n",
       "      <td>No OS</td>\n",
       "      <td>2.20</td>\n",
       "      <td>16463</td>\n",
       "      <td>0</td>\n",
       "      <td>0</td>\n",
       "      <td>100.454666</td>\n",
       "      <td>AMD A6-Series 9220</td>\n",
       "      <td>AMD Processors</td>\n",
       "    </tr>\n",
       "    <tr>\n",
       "      <th>642</th>\n",
       "      <td>Lenovo</td>\n",
       "      <td>Ultrabook</td>\n",
       "      <td>Intel Core i7 7500U 2.7GHz</td>\n",
       "      <td>16</td>\n",
       "      <td>512GB SSD</td>\n",
       "      <td>Intel HD Graphics 620</td>\n",
       "      <td>Windows 10</td>\n",
       "      <td>1.14</td>\n",
       "      <td>130536</td>\n",
       "      <td>0</td>\n",
       "      <td>1</td>\n",
       "      <td>157.350510</td>\n",
       "      <td>Intel Core i7</td>\n",
       "      <td>Intel Core i7</td>\n",
       "    </tr>\n",
       "    <tr>\n",
       "      <th>495</th>\n",
       "      <td>Lenovo</td>\n",
       "      <td>Ultrabook</td>\n",
       "      <td>Intel Core i5 6200U 2.3GHz</td>\n",
       "      <td>8</td>\n",
       "      <td>180GB SSD</td>\n",
       "      <td>Intel HD Graphics 520</td>\n",
       "      <td>Windows 10</td>\n",
       "      <td>1.30</td>\n",
       "      <td>58554</td>\n",
       "      <td>0</td>\n",
       "      <td>1</td>\n",
       "      <td>125.367432</td>\n",
       "      <td>Intel Core i5</td>\n",
       "      <td>Intel Core i5</td>\n",
       "    </tr>\n",
       "    <tr>\n",
       "      <th>17</th>\n",
       "      <td>Apple</td>\n",
       "      <td>Ultrabook</td>\n",
       "      <td>Intel Core i7 2.9GHz</td>\n",
       "      <td>16</td>\n",
       "      <td>512GB SSD</td>\n",
       "      <td>AMD Radeon Pro 560</td>\n",
       "      <td>macOS</td>\n",
       "      <td>1.83</td>\n",
       "      <td>152274</td>\n",
       "      <td>0</td>\n",
       "      <td>1</td>\n",
       "      <td>220.534622</td>\n",
       "      <td>Intel Core i7</td>\n",
       "      <td>Intel Core i7</td>\n",
       "    </tr>\n",
       "  </tbody>\n",
       "</table>\n",
       "</div>"
      ],
      "text/plain": [
       "    Company            TypeName                          Cpu  Ram     Memory  \\\n",
       "259  Lenovo  2 in 1 Convertible  Intel Core i7 7700HQ 2.8GHz    8  512GB SSD   \n",
       "172  Lenovo            Notebook    AMD A6-Series 9220 2.9GHz    4  500GB HDD   \n",
       "642  Lenovo           Ultrabook   Intel Core i7 7500U 2.7GHz   16  512GB SSD   \n",
       "495  Lenovo           Ultrabook   Intel Core i5 6200U 2.3GHz    8  180GB SSD   \n",
       "17    Apple           Ultrabook         Intel Core i7 2.9GHz   16  512GB SSD   \n",
       "\n",
       "                          Gpu       OpSys  Weight   Price  Touchscreen  \\\n",
       "259  Nvidia GeForce GTX 1050M  Windows 10    2.00   90522            1   \n",
       "172    AMD Radeon R4 Graphics       No OS    2.20   16463            0   \n",
       "642     Intel HD Graphics 620  Windows 10    1.14  130536            0   \n",
       "495     Intel HD Graphics 520  Windows 10    1.30   58554            0   \n",
       "17         AMD Radeon Pro 560       macOS    1.83  152274            0   \n",
       "\n",
       "     IPSpanel         PPI            Cpu Name       Cpu brand  \n",
       "259         1  141.212006       Intel Core i7   Intel Core i7  \n",
       "172         0  100.454666  AMD A6-Series 9220  AMD Processors  \n",
       "642         1  157.350510       Intel Core i7   Intel Core i7  \n",
       "495         1  125.367432       Intel Core i5   Intel Core i5  \n",
       "17          1  220.534622       Intel Core i7   Intel Core i7  "
      ]
     },
     "execution_count": 54,
     "metadata": {},
     "output_type": "execute_result"
    }
   ],
   "source": [
    "df.sample(5)"
   ]
  },
  {
   "cell_type": "code",
   "execution_count": 55,
   "metadata": {
    "colab": {
     "base_uri": "https://localhost:8080/",
     "height": 588
    },
    "id": "LywfnNRs5l2W",
    "outputId": "13e3586d-842b-45bf-f98c-d0be324fd3a0"
   },
   "outputs": [
    {
     "data": {
      "image/png": "[encoded data removed]",
      "text/plain": [
       "<Figure size 640x480 with 1 Axes>"
      ]
     },
     "metadata": {},
     "output_type": "display_data"
    }
   ],
   "source": [
    "sns.barplot(x=df['Cpu brand'], y=df['Price'])\n",
    "plt.xticks(rotation=90)\n",
    "plt.show()"
   ]
  },
  {
   "cell_type": "code",
   "execution_count": 56,
   "metadata": {
    "colab": {
     "base_uri": "https://localhost:8080/"
    },
    "id": "SdOVrpkE7Kht",
    "outputId": "c98c212d-9ffc-49fa-9694-6de29246e2ad"
   },
   "outputs": [
    {
     "name": "stderr",
     "output_type": "stream",
     "text": [
      "C:\\Users\\wasid\\AppData\\Local\\Temp\\ipykernel_3856\\1237448664.py:2: SettingWithCopyWarning: \n",
      "A value is trying to be set on a copy of a slice from a DataFrame\n",
      "\n",
      "See the caveats in the documentation: https://pandas.pydata.org/pandas-docs/stable/user_guide/indexing.html#returning-a-view-versus-a-copy\n",
      "  df.drop(columns=['Cpu','Cpu Name'], inplace=True)\n"
     ]
    }
   ],
   "source": [
    "# drop unnecessary columns\n",
    "df.drop(columns=['Cpu','Cpu Name'], inplace=True)"
   ]
  },
  {
   "cell_type": "code",
   "execution_count": 57,
   "metadata": {
    "colab": {
     "base_uri": "https://localhost:8080/",
     "height": 453
    },
    "id": "WB57zcI08DKh",
    "outputId": "ebdf7e01-b322-4a81-d6fa-53cabb653e91"
   },
   "outputs": [
    {
     "data": {
      "image/png": "[encoded data removed]",
      "text/plain": [
       "<Figure size 640x480 with 1 Axes>"
      ]
     },
     "metadata": {},
     "output_type": "display_data"
    }
   ],
   "source": [
    "# lets have a look in Ram column\n",
    "\n",
    "sns.barplot(x=df['Ram'], y=df['Price'])\n",
    "plt.xticks(rotation=90)\n",
    "plt.show()"
   ]
  },
  {
   "cell_type": "code",
   "execution_count": 58,
   "metadata": {
    "colab": {
     "base_uri": "https://localhost:8080/",
     "height": 470
    },
    "id": "n4Geppgv9Day",
    "outputId": "0fe93345-ef07-4d62-bc00-4a01864197be"
   },
   "outputs": [
    {
     "data": {
      "text/plain": [
       "<Axes: xlabel='Ram'>"
      ]
     },
     "execution_count": 58,
     "metadata": {},
     "output_type": "execute_result"
    },
    {
     "data": {
      "image/png": "[encoded data removed]",
      "text/plain": [
       "<Figure size 640x480 with 1 Axes>"
      ]
     },
     "metadata": {},
     "output_type": "display_data"
    }
   ],
   "source": [
    "df['Ram'].value_counts().plot(kind='bar')\n",
    "# shows number os rams for each category"
   ]
  },
  {
   "cell_type": "code",
   "execution_count": 59,
   "metadata": {
    "colab": {
     "base_uri": "https://localhost:8080/",
     "height": 1000
    },
    "id": "M5RfBXMD8PsP",
    "outputId": "68a2ac72-4800-4f49-e5e5-1f76c912fbbd"
   },
   "outputs": [
    {
     "data": {
      "text/plain": [
       "Memory\n",
       "256GB SSD                        412\n",
       "1TB HDD                          215\n",
       "500GB HDD                        123\n",
       "512GB SSD                        114\n",
       "128GB SSD +  1TB HDD              94\n",
       "128GB SSD                         74\n",
       "256GB SSD +  1TB HDD              73\n",
       "32GB Flash Storage                36\n",
       "2TB HDD                           16\n",
       "512GB SSD +  1TB HDD              14\n",
       "1TB SSD                           14\n",
       "64GB Flash Storage                13\n",
       "256GB SSD +  2TB HDD              10\n",
       "256GB Flash Storage                8\n",
       "16GB Flash Storage                 7\n",
       "1.0TB Hybrid                       7\n",
       "32GB SSD                           6\n",
       "180GB SSD                          5\n",
       "128GB Flash Storage                4\n",
       "512GB SSD +  2TB HDD               3\n",
       "16GB SSD                           3\n",
       "512GB Flash Storage                2\n",
       "1TB SSD +  1TB HDD                 2\n",
       "256GB SSD +  500GB HDD             2\n",
       "128GB SSD +  2TB HDD               2\n",
       "256GB SSD +  256GB SSD             2\n",
       "512GB SSD +  256GB SSD             1\n",
       "512GB SSD +  512GB SSD             1\n",
       "64GB Flash Storage +  1TB HDD      1\n",
       "1TB HDD +  1TB HDD                 1\n",
       "32GB HDD                           1\n",
       "64GB SSD                           1\n",
       "128GB HDD                          1\n",
       "240GB SSD                          1\n",
       "8GB SSD                            1\n",
       "508GB Hybrid                       1\n",
       "1.0TB HDD                          1\n",
       "512GB SSD +  1.0TB Hybrid          1\n",
       "256GB SSD +  1.0TB Hybrid          1\n",
       "Name: count, dtype: int64"
      ]
     },
     "execution_count": 59,
     "metadata": {},
     "output_type": "execute_result"
    }
   ],
   "source": [
    "# Memory column\n",
    "# creating 4 new column from this MEmorty column\n",
    "#1 HDD\n",
    "#2 SDD\n",
    "#3 Flash storage\n",
    "#4 Hybrid\n",
    "df['Memory'].value_counts()"
   ]
  },
  {
   "cell_type": "code",
   "execution_count": 60,
   "metadata": {
    "colab": {
     "base_uri": "https://localhost:8080/"
    },
    "id": "3lKqDNPP8Pyk",
    "outputId": "c1d01a77-56d4-4526-e9d8-4e19a2b9939a"
   },
   "outputs": [
    {
     "name": "stderr",
     "output_type": "stream",
     "text": [
      "C:\\Users\\wasid\\AppData\\Local\\Temp\\ipykernel_3856\\4275859686.py:6: SettingWithCopyWarning: \n",
      "A value is trying to be set on a copy of a slice from a DataFrame.\n",
      "Try using .loc[row_indexer,col_indexer] = value instead\n",
      "\n",
      "See the caveats in the documentation: https://pandas.pydata.org/pandas-docs/stable/user_guide/indexing.html#returning-a-view-versus-a-copy\n",
      "  df['Memory'] = df['Memory'].astype(str).replace('\\.0', '', regex=True)\n",
      "C:\\Users\\wasid\\AppData\\Local\\Temp\\ipykernel_3856\\4275859686.py:7: SettingWithCopyWarning: \n",
      "A value is trying to be set on a copy of a slice from a DataFrame.\n",
      "Try using .loc[row_indexer,col_indexer] = value instead\n",
      "\n",
      "See the caveats in the documentation: https://pandas.pydata.org/pandas-docs/stable/user_guide/indexing.html#returning-a-view-versus-a-copy\n",
      "  df[\"Memory\"] = df[\"Memory\"].str.replace('GB', '')\n",
      "C:\\Users\\wasid\\AppData\\Local\\Temp\\ipykernel_3856\\4275859686.py:8: SettingWithCopyWarning: \n",
      "A value is trying to be set on a copy of a slice from a DataFrame.\n",
      "Try using .loc[row_indexer,col_indexer] = value instead\n",
      "\n",
      "See the caveats in the documentation: https://pandas.pydata.org/pandas-docs/stable/user_guide/indexing.html#returning-a-view-versus-a-copy\n",
      "  df[\"Memory\"] = df[\"Memory\"].str.replace('TB', '000')\n",
      "C:\\Users\\wasid\\AppData\\Local\\Temp\\ipykernel_3856\\4275859686.py:11: SettingWithCopyWarning: \n",
      "A value is trying to be set on a copy of a slice from a DataFrame.\n",
      "Try using .loc[row_indexer,col_indexer] = value instead\n",
      "\n",
      "See the caveats in the documentation: https://pandas.pydata.org/pandas-docs/stable/user_guide/indexing.html#returning-a-view-versus-a-copy\n",
      "  df[\"first\"]= new[0]\n",
      "C:\\Users\\wasid\\AppData\\Local\\Temp\\ipykernel_3856\\4275859686.py:12: SettingWithCopyWarning: \n",
      "A value is trying to be set on a copy of a slice from a DataFrame.\n",
      "Try using .loc[row_indexer,col_indexer] = value instead\n",
      "\n",
      "See the caveats in the documentation: https://pandas.pydata.org/pandas-docs/stable/user_guide/indexing.html#returning-a-view-versus-a-copy\n",
      "  df[\"first\"]=df[\"first\"].str.strip()\n",
      "C:\\Users\\wasid\\AppData\\Local\\Temp\\ipykernel_3856\\4275859686.py:14: SettingWithCopyWarning: \n",
      "A value is trying to be set on a copy of a slice from a DataFrame.\n",
      "Try using .loc[row_indexer,col_indexer] = value instead\n",
      "\n",
      "See the caveats in the documentation: https://pandas.pydata.org/pandas-docs/stable/user_guide/indexing.html#returning-a-view-versus-a-copy\n",
      "  df[\"second\"]= new[1]\n",
      "C:\\Users\\wasid\\AppData\\Local\\Temp\\ipykernel_3856\\4275859686.py:16: SettingWithCopyWarning: \n",
      "A value is trying to be set on a copy of a slice from a DataFrame.\n",
      "Try using .loc[row_indexer,col_indexer] = value instead\n",
      "\n",
      "See the caveats in the documentation: https://pandas.pydata.org/pandas-docs/stable/user_guide/indexing.html#returning-a-view-versus-a-copy\n",
      "  df[\"Layer1HDD\"] = df[\"first\"].apply(lambda x: x.split()[0] if \"HDD\" in x else 0)\n",
      "C:\\Users\\wasid\\AppData\\Local\\Temp\\ipykernel_3856\\4275859686.py:17: SettingWithCopyWarning: \n",
      "A value is trying to be set on a copy of a slice from a DataFrame.\n",
      "Try using .loc[row_indexer,col_indexer] = value instead\n",
      "\n",
      "See the caveats in the documentation: https://pandas.pydata.org/pandas-docs/stable/user_guide/indexing.html#returning-a-view-versus-a-copy\n",
      "  df[\"Layer1HDD\"] = df[\"Layer1HDD\"].astype(int)\n",
      "C:\\Users\\wasid\\AppData\\Local\\Temp\\ipykernel_3856\\4275859686.py:18: SettingWithCopyWarning: \n",
      "A value is trying to be set on a copy of a slice from a DataFrame.\n",
      "Try using .loc[row_indexer,col_indexer] = value instead\n",
      "\n",
      "See the caveats in the documentation: https://pandas.pydata.org/pandas-docs/stable/user_guide/indexing.html#returning-a-view-versus-a-copy\n",
      "  df[\"Layer1SSD\"] = df[\"first\"].apply(lambda x: x.split()[0] if \"SSD\" in x else 0)\n",
      "C:\\Users\\wasid\\AppData\\Local\\Temp\\ipykernel_3856\\4275859686.py:19: SettingWithCopyWarning: \n",
      "A value is trying to be set on a copy of a slice from a DataFrame.\n",
      "Try using .loc[row_indexer,col_indexer] = value instead\n",
      "\n",
      "See the caveats in the documentation: https://pandas.pydata.org/pandas-docs/stable/user_guide/indexing.html#returning-a-view-versus-a-copy\n",
      "  df[\"Layer1SSD\"] = df[\"Layer1SSD\"].astype(int)\n",
      "C:\\Users\\wasid\\AppData\\Local\\Temp\\ipykernel_3856\\4275859686.py:20: SettingWithCopyWarning: \n",
      "A value is trying to be set on a copy of a slice from a DataFrame.\n",
      "Try using .loc[row_indexer,col_indexer] = value instead\n",
      "\n",
      "See the caveats in the documentation: https://pandas.pydata.org/pandas-docs/stable/user_guide/indexing.html#returning-a-view-versus-a-copy\n",
      "  df[\"Layer1Hybrid\"] = df[\"first\"].apply(lambda x: x.split()[0] if \"Hybrid\" in x else 0)\n",
      "C:\\Users\\wasid\\AppData\\Local\\Temp\\ipykernel_3856\\4275859686.py:21: SettingWithCopyWarning: \n",
      "A value is trying to be set on a copy of a slice from a DataFrame.\n",
      "Try using .loc[row_indexer,col_indexer] = value instead\n",
      "\n",
      "See the caveats in the documentation: https://pandas.pydata.org/pandas-docs/stable/user_guide/indexing.html#returning-a-view-versus-a-copy\n",
      "  df[\"Layer1Hybrid\"] = df[\"Layer1Hybrid\"].astype(int)\n",
      "C:\\Users\\wasid\\AppData\\Local\\Temp\\ipykernel_3856\\4275859686.py:22: SettingWithCopyWarning: \n",
      "A value is trying to be set on a copy of a slice from a DataFrame.\n",
      "Try using .loc[row_indexer,col_indexer] = value instead\n",
      "\n",
      "See the caveats in the documentation: https://pandas.pydata.org/pandas-docs/stable/user_guide/indexing.html#returning-a-view-versus-a-copy\n",
      "  df[\"Layer1Flash_Storage\"] = df[\"first\"].apply(lambda x: x.split()[0] if \"Flash Storage\" in x else 0)\n",
      "C:\\Users\\wasid\\AppData\\Local\\Temp\\ipykernel_3856\\4275859686.py:23: SettingWithCopyWarning: \n",
      "A value is trying to be set on a copy of a slice from a DataFrame.\n",
      "Try using .loc[row_indexer,col_indexer] = value instead\n",
      "\n",
      "See the caveats in the documentation: https://pandas.pydata.org/pandas-docs/stable/user_guide/indexing.html#returning-a-view-versus-a-copy\n",
      "  df[\"Layer1Flash_Storage\"] = df[\"Layer1Flash_Storage\"].astype(int)\n",
      "C:\\Users\\wasid\\AppData\\Local\\Temp\\ipykernel_3856\\4275859686.py:25: SettingWithCopyWarning: \n",
      "A value is trying to be set on a copy of a slice from a DataFrame\n",
      "\n",
      "See the caveats in the documentation: https://pandas.pydata.org/pandas-docs/stable/user_guide/indexing.html#returning-a-view-versus-a-copy\n",
      "  df['second'].fillna(\"0\", inplace = True)\n",
      "C:\\Users\\wasid\\AppData\\Local\\Temp\\ipykernel_3856\\4275859686.py:27: SettingWithCopyWarning: \n",
      "A value is trying to be set on a copy of a slice from a DataFrame.\n",
      "Try using .loc[row_indexer,col_indexer] = value instead\n",
      "\n",
      "See the caveats in the documentation: https://pandas.pydata.org/pandas-docs/stable/user_guide/indexing.html#returning-a-view-versus-a-copy\n",
      "  df[\"Layer2HDD\"] = df[\"second\"].apply(lambda x: x.split()[0] if \"HDD\" in x else 0)\n",
      "C:\\Users\\wasid\\AppData\\Local\\Temp\\ipykernel_3856\\4275859686.py:28: SettingWithCopyWarning: \n",
      "A value is trying to be set on a copy of a slice from a DataFrame.\n",
      "Try using .loc[row_indexer,col_indexer] = value instead\n",
      "\n",
      "See the caveats in the documentation: https://pandas.pydata.org/pandas-docs/stable/user_guide/indexing.html#returning-a-view-versus-a-copy\n",
      "  df[\"Layer2HDD\"] = df[\"Layer2HDD\"].astype(int)\n",
      "C:\\Users\\wasid\\AppData\\Local\\Temp\\ipykernel_3856\\4275859686.py:29: SettingWithCopyWarning: \n",
      "A value is trying to be set on a copy of a slice from a DataFrame.\n",
      "Try using .loc[row_indexer,col_indexer] = value instead\n",
      "\n",
      "See the caveats in the documentation: https://pandas.pydata.org/pandas-docs/stable/user_guide/indexing.html#returning-a-view-versus-a-copy\n",
      "  df[\"Layer2SSD\"] = df[\"second\"].apply(lambda x: x.split()[0] if \"SSD\" in x else 0)\n",
      "C:\\Users\\wasid\\AppData\\Local\\Temp\\ipykernel_3856\\4275859686.py:30: SettingWithCopyWarning: \n",
      "A value is trying to be set on a copy of a slice from a DataFrame.\n",
      "Try using .loc[row_indexer,col_indexer] = value instead\n",
      "\n",
      "See the caveats in the documentation: https://pandas.pydata.org/pandas-docs/stable/user_guide/indexing.html#returning-a-view-versus-a-copy\n",
      "  df[\"Layer2SSD\"] = df[\"Layer2SSD\"].astype(int)\n",
      "C:\\Users\\wasid\\AppData\\Local\\Temp\\ipykernel_3856\\4275859686.py:31: SettingWithCopyWarning: \n",
      "A value is trying to be set on a copy of a slice from a DataFrame.\n",
      "Try using .loc[row_indexer,col_indexer] = value instead\n",
      "\n",
      "See the caveats in the documentation: https://pandas.pydata.org/pandas-docs/stable/user_guide/indexing.html#returning-a-view-versus-a-copy\n",
      "  df[\"Layer2Hybrid\"] = df[\"second\"].apply(lambda x: x.split()[0] if \"Hybrid\" in x else 0)\n",
      "C:\\Users\\wasid\\AppData\\Local\\Temp\\ipykernel_3856\\4275859686.py:32: SettingWithCopyWarning: \n",
      "A value is trying to be set on a copy of a slice from a DataFrame.\n",
      "Try using .loc[row_indexer,col_indexer] = value instead\n",
      "\n",
      "See the caveats in the documentation: https://pandas.pydata.org/pandas-docs/stable/user_guide/indexing.html#returning-a-view-versus-a-copy\n",
      "  df[\"Layer2Hybrid\"] = df[\"Layer2Hybrid\"].astype(int)\n",
      "C:\\Users\\wasid\\AppData\\Local\\Temp\\ipykernel_3856\\4275859686.py:33: SettingWithCopyWarning: \n",
      "A value is trying to be set on a copy of a slice from a DataFrame.\n",
      "Try using .loc[row_indexer,col_indexer] = value instead\n",
      "\n",
      "See the caveats in the documentation: https://pandas.pydata.org/pandas-docs/stable/user_guide/indexing.html#returning-a-view-versus-a-copy\n",
      "  df[\"Layer2Flash_Storage\"] = df[\"second\"].apply(lambda x: x.split()[0] if \"Flash Storage\" in x else 0)\n",
      "C:\\Users\\wasid\\AppData\\Local\\Temp\\ipykernel_3856\\4275859686.py:34: SettingWithCopyWarning: \n",
      "A value is trying to be set on a copy of a slice from a DataFrame.\n",
      "Try using .loc[row_indexer,col_indexer] = value instead\n",
      "\n",
      "See the caveats in the documentation: https://pandas.pydata.org/pandas-docs/stable/user_guide/indexing.html#returning-a-view-versus-a-copy\n",
      "  df[\"Layer2Flash_Storage\"] = df[\"Layer2Flash_Storage\"].astype(int)\n",
      "C:\\Users\\wasid\\AppData\\Local\\Temp\\ipykernel_3856\\4275859686.py:36: SettingWithCopyWarning: \n",
      "A value is trying to be set on a copy of a slice from a DataFrame.\n",
      "Try using .loc[row_indexer,col_indexer] = value instead\n",
      "\n",
      "See the caveats in the documentation: https://pandas.pydata.org/pandas-docs/stable/user_guide/indexing.html#returning-a-view-versus-a-copy\n",
      "  df[\"HDD\"]=(df[\"Layer1HDD\"]+df[\"Layer2HDD\"])\n",
      "C:\\Users\\wasid\\AppData\\Local\\Temp\\ipykernel_3856\\4275859686.py:37: SettingWithCopyWarning: \n",
      "A value is trying to be set on a copy of a slice from a DataFrame.\n",
      "Try using .loc[row_indexer,col_indexer] = value instead\n",
      "\n",
      "See the caveats in the documentation: https://pandas.pydata.org/pandas-docs/stable/user_guide/indexing.html#returning-a-view-versus-a-copy\n",
      "  df[\"SSD\"]=(df[\"Layer1SSD\"]+df[\"Layer2SSD\"])\n",
      "C:\\Users\\wasid\\AppData\\Local\\Temp\\ipykernel_3856\\4275859686.py:38: SettingWithCopyWarning: \n",
      "A value is trying to be set on a copy of a slice from a DataFrame.\n",
      "Try using .loc[row_indexer,col_indexer] = value instead\n",
      "\n",
      "See the caveats in the documentation: https://pandas.pydata.org/pandas-docs/stable/user_guide/indexing.html#returning-a-view-versus-a-copy\n",
      "  df[\"Hybrid\"]=(df[\"Layer1Hybrid\"]+df[\"Layer2Hybrid\"])\n",
      "C:\\Users\\wasid\\AppData\\Local\\Temp\\ipykernel_3856\\4275859686.py:39: SettingWithCopyWarning: \n",
      "A value is trying to be set on a copy of a slice from a DataFrame.\n",
      "Try using .loc[row_indexer,col_indexer] = value instead\n",
      "\n",
      "See the caveats in the documentation: https://pandas.pydata.org/pandas-docs/stable/user_guide/indexing.html#returning-a-view-versus-a-copy\n",
      "  df[\"Flash_Storage\"]=(df[\"Layer1Flash_Storage\"]+df[\"Layer2Flash_Storage\"])\n",
      "C:\\Users\\wasid\\AppData\\Local\\Temp\\ipykernel_3856\\4275859686.py:41: SettingWithCopyWarning: \n",
      "A value is trying to be set on a copy of a slice from a DataFrame\n",
      "\n",
      "See the caveats in the documentation: https://pandas.pydata.org/pandas-docs/stable/user_guide/indexing.html#returning-a-view-versus-a-copy\n",
      "  df.drop(columns=['first', 'second', 'Layer1HDD', 'Layer1SSD', 'Layer1Hybrid',\n"
     ]
    }
   ],
   "source": [
    "# #1 HDD\n",
    "# #2 SDD\n",
    "# #3 Flash storage\n",
    "# #4 Hybrid\n",
    "\n",
    "df['Memory'] = df['Memory'].astype(str).replace('\\.0', '', regex=True)\n",
    "df[\"Memory\"] = df[\"Memory\"].str.replace('GB', '')\n",
    "df[\"Memory\"] = df[\"Memory\"].str.replace('TB', '000')\n",
    "new = df[\"Memory\"].str.split(\"+\", n = 1, expand = True)\n",
    "\n",
    "df[\"first\"]= new[0]\n",
    "df[\"first\"]=df[\"first\"].str.strip()\n",
    "\n",
    "df[\"second\"]= new[1]\n",
    "\n",
    "df[\"Layer1HDD\"] = df[\"first\"].apply(lambda x: x.split()[0] if \"HDD\" in x else 0)\n",
    "df[\"Layer1HDD\"] = df[\"Layer1HDD\"].astype(int)\n",
    "df[\"Layer1SSD\"] = df[\"first\"].apply(lambda x: x.split()[0] if \"SSD\" in x else 0)\n",
    "df[\"Layer1SSD\"] = df[\"Layer1SSD\"].astype(int)\n",
    "df[\"Layer1Hybrid\"] = df[\"first\"].apply(lambda x: x.split()[0] if \"Hybrid\" in x else 0)\n",
    "df[\"Layer1Hybrid\"] = df[\"Layer1Hybrid\"].astype(int)\n",
    "df[\"Layer1Flash_Storage\"] = df[\"first\"].apply(lambda x: x.split()[0] if \"Flash Storage\" in x else 0)\n",
    "df[\"Layer1Flash_Storage\"] = df[\"Layer1Flash_Storage\"].astype(int)\n",
    "\n",
    "df['second'].fillna(\"0\", inplace = True)\n",
    "\n",
    "df[\"Layer2HDD\"] = df[\"second\"].apply(lambda x: x.split()[0] if \"HDD\" in x else 0)\n",
    "df[\"Layer2HDD\"] = df[\"Layer2HDD\"].astype(int)\n",
    "df[\"Layer2SSD\"] = df[\"second\"].apply(lambda x: x.split()[0] if \"SSD\" in x else 0)\n",
    "df[\"Layer2SSD\"] = df[\"Layer2SSD\"].astype(int)\n",
    "df[\"Layer2Hybrid\"] = df[\"second\"].apply(lambda x: x.split()[0] if \"Hybrid\" in x else 0)\n",
    "df[\"Layer2Hybrid\"] = df[\"Layer2Hybrid\"].astype(int)\n",
    "df[\"Layer2Flash_Storage\"] = df[\"second\"].apply(lambda x: x.split()[0] if \"Flash Storage\" in x else 0)\n",
    "df[\"Layer2Flash_Storage\"] = df[\"Layer2Flash_Storage\"].astype(int)\n",
    "\n",
    "df[\"HDD\"]=(df[\"Layer1HDD\"]+df[\"Layer2HDD\"])\n",
    "df[\"SSD\"]=(df[\"Layer1SSD\"]+df[\"Layer2SSD\"])\n",
    "df[\"Hybrid\"]=(df[\"Layer1Hybrid\"]+df[\"Layer2Hybrid\"])\n",
    "df[\"Flash_Storage\"]=(df[\"Layer1Flash_Storage\"]+df[\"Layer2Flash_Storage\"])\n",
    "\n",
    "df.drop(columns=['first', 'second', 'Layer1HDD', 'Layer1SSD', 'Layer1Hybrid',\n",
    "       'Layer1Flash_Storage', 'Layer2HDD', 'Layer2SSD', 'Layer2Hybrid',\n",
    "       'Layer2Flash_Storage'],inplace=True)"
   ]
  },
  {
   "cell_type": "code",
   "execution_count": 61,
   "metadata": {
    "colab": {
     "base_uri": "https://localhost:8080/",
     "height": 206
    },
    "id": "mUc_n1Pg_Say",
    "outputId": "a239eb9a-717b-4d82-ddc4-1ac8253f766d"
   },
   "outputs": [
    {
     "data": {
      "text/html": [
       "<div>\n",
       "<style scoped>\n",
       "    .dataframe tbody tr th:only-of-type {\n",
       "        vertical-align: middle;\n",
       "    }\n",
       "\n",
       "    .dataframe tbody tr th {\n",
       "        vertical-align: top;\n",
       "    }\n",
       "\n",
       "    .dataframe thead th {\n",
       "        text-align: right;\n",
       "    }\n",
       "</style>\n",
       "<table border=\"1\" class=\"dataframe\">\n",
       "  <thead>\n",
       "    <tr style=\"text-align: right;\">\n",
       "      <th></th>\n",
       "      <th>Company</th>\n",
       "      <th>TypeName</th>\n",
       "      <th>Ram</th>\n",
       "      <th>Memory</th>\n",
       "      <th>Gpu</th>\n",
       "      <th>OpSys</th>\n",
       "      <th>Weight</th>\n",
       "      <th>Price</th>\n",
       "      <th>Touchscreen</th>\n",
       "      <th>IPSpanel</th>\n",
       "      <th>PPI</th>\n",
       "      <th>Cpu brand</th>\n",
       "      <th>HDD</th>\n",
       "      <th>SSD</th>\n",
       "      <th>Hybrid</th>\n",
       "      <th>Flash_Storage</th>\n",
       "    </tr>\n",
       "  </thead>\n",
       "  <tbody>\n",
       "    <tr>\n",
       "      <th>207</th>\n",
       "      <td>Dell</td>\n",
       "      <td>Ultrabook</td>\n",
       "      <td>8</td>\n",
       "      <td>256 SSD</td>\n",
       "      <td>Intel UHD Graphics 620</td>\n",
       "      <td>Windows 10</td>\n",
       "      <td>1.21</td>\n",
       "      <td>103842</td>\n",
       "      <td>1</td>\n",
       "      <td>1</td>\n",
       "      <td>331.264221</td>\n",
       "      <td>Intel Core i7</td>\n",
       "      <td>0</td>\n",
       "      <td>256</td>\n",
       "      <td>0</td>\n",
       "      <td>0</td>\n",
       "    </tr>\n",
       "    <tr>\n",
       "      <th>303</th>\n",
       "      <td>Lenovo</td>\n",
       "      <td>Notebook</td>\n",
       "      <td>8</td>\n",
       "      <td>2000 HDD</td>\n",
       "      <td>Nvidia GeForce 940MX</td>\n",
       "      <td>No OS</td>\n",
       "      <td>2.20</td>\n",
       "      <td>29250</td>\n",
       "      <td>0</td>\n",
       "      <td>0</td>\n",
       "      <td>100.454666</td>\n",
       "      <td>Intel Core i5</td>\n",
       "      <td>2000</td>\n",
       "      <td>0</td>\n",
       "      <td>0</td>\n",
       "      <td>0</td>\n",
       "    </tr>\n",
       "    <tr>\n",
       "      <th>909</th>\n",
       "      <td>LG</td>\n",
       "      <td>Ultrabook</td>\n",
       "      <td>8</td>\n",
       "      <td>512 SSD</td>\n",
       "      <td>Intel HD Graphics 620</td>\n",
       "      <td>Windows 10</td>\n",
       "      <td>0.98</td>\n",
       "      <td>101178</td>\n",
       "      <td>1</td>\n",
       "      <td>1</td>\n",
       "      <td>157.350510</td>\n",
       "      <td>Intel Core i7</td>\n",
       "      <td>0</td>\n",
       "      <td>512</td>\n",
       "      <td>0</td>\n",
       "      <td>0</td>\n",
       "    </tr>\n",
       "    <tr>\n",
       "      <th>659</th>\n",
       "      <td>Dell</td>\n",
       "      <td>Gaming</td>\n",
       "      <td>32</td>\n",
       "      <td>512 SSD +  1000 HDD</td>\n",
       "      <td>Nvidia GeForce GTX 1070</td>\n",
       "      <td>Windows 10</td>\n",
       "      <td>4.42</td>\n",
       "      <td>167691</td>\n",
       "      <td>0</td>\n",
       "      <td>1</td>\n",
       "      <td>254.671356</td>\n",
       "      <td>Intel Core i7</td>\n",
       "      <td>1000</td>\n",
       "      <td>512</td>\n",
       "      <td>0</td>\n",
       "      <td>0</td>\n",
       "    </tr>\n",
       "    <tr>\n",
       "      <th>35</th>\n",
       "      <td>Lenovo</td>\n",
       "      <td>Notebook</td>\n",
       "      <td>4</td>\n",
       "      <td>64 Flash Storage</td>\n",
       "      <td>Intel HD Graphics 500</td>\n",
       "      <td>Windows 10</td>\n",
       "      <td>1.44</td>\n",
       "      <td>13266</td>\n",
       "      <td>0</td>\n",
       "      <td>0</td>\n",
       "      <td>111.935204</td>\n",
       "      <td>Other Intel Processors</td>\n",
       "      <td>0</td>\n",
       "      <td>0</td>\n",
       "      <td>0</td>\n",
       "      <td>64</td>\n",
       "    </tr>\n",
       "  </tbody>\n",
       "</table>\n",
       "</div>"
      ],
      "text/plain": [
       "    Company   TypeName  Ram               Memory                      Gpu  \\\n",
       "207    Dell  Ultrabook    8              256 SSD   Intel UHD Graphics 620   \n",
       "303  Lenovo   Notebook    8             2000 HDD     Nvidia GeForce 940MX   \n",
       "909      LG  Ultrabook    8              512 SSD    Intel HD Graphics 620   \n",
       "659    Dell     Gaming   32  512 SSD +  1000 HDD  Nvidia GeForce GTX 1070   \n",
       "35   Lenovo   Notebook    4     64 Flash Storage    Intel HD Graphics 500   \n",
       "\n",
       "          OpSys  Weight   Price  Touchscreen  IPSpanel         PPI  \\\n",
       "207  Windows 10    1.21  103842            1         1  331.264221   \n",
       "303       No OS    2.20   29250            0         0  100.454666   \n",
       "909  Windows 10    0.98  101178            1         1  157.350510   \n",
       "659  Windows 10    4.42  167691            0         1  254.671356   \n",
       "35   Windows 10    1.44   13266            0         0  111.935204   \n",
       "\n",
       "                  Cpu brand   HDD  SSD  Hybrid  Flash_Storage  \n",
       "207           Intel Core i7     0  256       0              0  \n",
       "303           Intel Core i5  2000    0       0              0  \n",
       "909           Intel Core i7     0  512       0              0  \n",
       "659           Intel Core i7  1000  512       0              0  \n",
       "35   Other Intel Processors     0    0       0             64  "
      ]
     },
     "execution_count": 61,
     "metadata": {},
     "output_type": "execute_result"
    }
   ],
   "source": [
    "df.sample(5)"
   ]
  },
  {
   "cell_type": "code",
   "execution_count": 62,
   "metadata": {
    "colab": {
     "base_uri": "https://localhost:8080/"
    },
    "id": "jFHrao_A_XUw",
    "outputId": "48d5bd9f-97d0-4d81-a2e3-e2ccbd1bec62"
   },
   "outputs": [
    {
     "name": "stderr",
     "output_type": "stream",
     "text": [
      "C:\\Users\\wasid\\AppData\\Local\\Temp\\ipykernel_3856\\1690194173.py:2: SettingWithCopyWarning: \n",
      "A value is trying to be set on a copy of a slice from a DataFrame\n",
      "\n",
      "See the caveats in the documentation: https://pandas.pydata.org/pandas-docs/stable/user_guide/indexing.html#returning-a-view-versus-a-copy\n",
      "  df.drop(columns=['Memory'], inplace=True)\n"
     ]
    }
   ],
   "source": [
    "# drop Memory column\n",
    "df.drop(columns=['Memory'], inplace=True)"
   ]
  },
  {
   "cell_type": "code",
   "execution_count": 63,
   "metadata": {
    "colab": {
     "base_uri": "https://localhost:8080/",
     "height": 398
    },
    "id": "mEVL0BI2Dzuv",
    "outputId": "972175a7-663c-4986-facb-22d453208086"
   },
   "outputs": [
    {
     "data": {
      "text/plain": [
       "Ram              0.740106\n",
       "Weight           0.212192\n",
       "Price            1.000000\n",
       "Touchscreen      0.188630\n",
       "IPSpanel         0.250357\n",
       "PPI              0.469538\n",
       "HDD             -0.098012\n",
       "SSD              0.669957\n",
       "Hybrid           0.022533\n",
       "Flash_Storage   -0.037175\n",
       "Name: Price, dtype: float64"
      ]
     },
     "execution_count": 63,
     "metadata": {},
     "output_type": "execute_result"
    }
   ],
   "source": [
    "# correlation with price\n",
    "\n",
    "df.corr(numeric_only=True)['Price']"
   ]
  },
  {
   "cell_type": "code",
   "execution_count": 64,
   "metadata": {
    "colab": {
     "base_uri": "https://localhost:8080/"
    },
    "id": "ay_CJ23ZKCVb",
    "outputId": "d605b602-fc78-44fa-9b5e-dc0c2951f481"
   },
   "outputs": [
    {
     "name": "stderr",
     "output_type": "stream",
     "text": [
      "C:\\Users\\wasid\\AppData\\Local\\Temp\\ipykernel_3856\\51412827.py:3: SettingWithCopyWarning: \n",
      "A value is trying to be set on a copy of a slice from a DataFrame\n",
      "\n",
      "See the caveats in the documentation: https://pandas.pydata.org/pandas-docs/stable/user_guide/indexing.html#returning-a-view-versus-a-copy\n",
      "  df.drop(columns=['Flash_Storage','Hybrid'], inplace=True)\n"
     ]
    }
   ],
   "source": [
    "# here we colclude that i dont need  Hybrid and Flash_storage cols\n",
    "# drop unnecessary columns\n",
    "df.drop(columns=['Flash_Storage','Hybrid'], inplace=True)"
   ]
  },
  {
   "cell_type": "code",
   "execution_count": 65,
   "metadata": {
    "colab": {
     "base_uri": "https://localhost:8080/",
     "height": 206
    },
    "id": "04Eeo0bHKwVu",
    "outputId": "2f0ea8ef-827a-44e1-b1cd-2b2dd830b15e"
   },
   "outputs": [
    {
     "data": {
      "text/html": [
       "<div>\n",
       "<style scoped>\n",
       "    .dataframe tbody tr th:only-of-type {\n",
       "        vertical-align: middle;\n",
       "    }\n",
       "\n",
       "    .dataframe tbody tr th {\n",
       "        vertical-align: top;\n",
       "    }\n",
       "\n",
       "    .dataframe thead th {\n",
       "        text-align: right;\n",
       "    }\n",
       "</style>\n",
       "<table border=\"1\" class=\"dataframe\">\n",
       "  <thead>\n",
       "    <tr style=\"text-align: right;\">\n",
       "      <th></th>\n",
       "      <th>Company</th>\n",
       "      <th>TypeName</th>\n",
       "      <th>Ram</th>\n",
       "      <th>Gpu</th>\n",
       "      <th>OpSys</th>\n",
       "      <th>Weight</th>\n",
       "      <th>Price</th>\n",
       "      <th>Touchscreen</th>\n",
       "      <th>IPSpanel</th>\n",
       "      <th>PPI</th>\n",
       "      <th>Cpu brand</th>\n",
       "      <th>HDD</th>\n",
       "      <th>SSD</th>\n",
       "    </tr>\n",
       "  </thead>\n",
       "  <tbody>\n",
       "    <tr>\n",
       "      <th>0</th>\n",
       "      <td>Apple</td>\n",
       "      <td>Ultrabook</td>\n",
       "      <td>8</td>\n",
       "      <td>Intel Iris Plus Graphics 640</td>\n",
       "      <td>macOS</td>\n",
       "      <td>1.37</td>\n",
       "      <td>71378</td>\n",
       "      <td>0</td>\n",
       "      <td>1</td>\n",
       "      <td>226.983002</td>\n",
       "      <td>Intel Core i5</td>\n",
       "      <td>0</td>\n",
       "      <td>128</td>\n",
       "    </tr>\n",
       "    <tr>\n",
       "      <th>1</th>\n",
       "      <td>Apple</td>\n",
       "      <td>Ultrabook</td>\n",
       "      <td>8</td>\n",
       "      <td>Intel HD Graphics 6000</td>\n",
       "      <td>macOS</td>\n",
       "      <td>1.34</td>\n",
       "      <td>47895</td>\n",
       "      <td>0</td>\n",
       "      <td>0</td>\n",
       "      <td>127.677940</td>\n",
       "      <td>Intel Core i5</td>\n",
       "      <td>0</td>\n",
       "      <td>0</td>\n",
       "    </tr>\n",
       "    <tr>\n",
       "      <th>2</th>\n",
       "      <td>HP</td>\n",
       "      <td>Notebook</td>\n",
       "      <td>8</td>\n",
       "      <td>Intel HD Graphics 620</td>\n",
       "      <td>No OS</td>\n",
       "      <td>1.86</td>\n",
       "      <td>30636</td>\n",
       "      <td>0</td>\n",
       "      <td>0</td>\n",
       "      <td>141.212006</td>\n",
       "      <td>Intel Core i5</td>\n",
       "      <td>0</td>\n",
       "      <td>256</td>\n",
       "    </tr>\n",
       "    <tr>\n",
       "      <th>3</th>\n",
       "      <td>Apple</td>\n",
       "      <td>Ultrabook</td>\n",
       "      <td>16</td>\n",
       "      <td>AMD Radeon Pro 455</td>\n",
       "      <td>macOS</td>\n",
       "      <td>1.83</td>\n",
       "      <td>135195</td>\n",
       "      <td>0</td>\n",
       "      <td>1</td>\n",
       "      <td>220.534622</td>\n",
       "      <td>Intel Core i7</td>\n",
       "      <td>0</td>\n",
       "      <td>512</td>\n",
       "    </tr>\n",
       "    <tr>\n",
       "      <th>4</th>\n",
       "      <td>Apple</td>\n",
       "      <td>Ultrabook</td>\n",
       "      <td>8</td>\n",
       "      <td>Intel Iris Plus Graphics 650</td>\n",
       "      <td>macOS</td>\n",
       "      <td>1.37</td>\n",
       "      <td>96095</td>\n",
       "      <td>0</td>\n",
       "      <td>1</td>\n",
       "      <td>226.983002</td>\n",
       "      <td>Intel Core i5</td>\n",
       "      <td>0</td>\n",
       "      <td>256</td>\n",
       "    </tr>\n",
       "  </tbody>\n",
       "</table>\n",
       "</div>"
      ],
      "text/plain": [
       "  Company   TypeName  Ram                           Gpu  OpSys  Weight  \\\n",
       "0   Apple  Ultrabook    8  Intel Iris Plus Graphics 640  macOS    1.37   \n",
       "1   Apple  Ultrabook    8        Intel HD Graphics 6000  macOS    1.34   \n",
       "2      HP   Notebook    8         Intel HD Graphics 620  No OS    1.86   \n",
       "3   Apple  Ultrabook   16            AMD Radeon Pro 455  macOS    1.83   \n",
       "4   Apple  Ultrabook    8  Intel Iris Plus Graphics 650  macOS    1.37   \n",
       "\n",
       "    Price  Touchscreen  IPSpanel         PPI      Cpu brand  HDD  SSD  \n",
       "0   71378            0         1  226.983002  Intel Core i5    0  128  \n",
       "1   47895            0         0  127.677940  Intel Core i5    0    0  \n",
       "2   30636            0         0  141.212006  Intel Core i5    0  256  \n",
       "3  135195            0         1  220.534622  Intel Core i7    0  512  \n",
       "4   96095            0         1  226.983002  Intel Core i5    0  256  "
      ]
     },
     "execution_count": 65,
     "metadata": {},
     "output_type": "execute_result"
    }
   ],
   "source": [
    "df.head()"
   ]
  },
  {
   "cell_type": "code",
   "execution_count": 66,
   "metadata": {
    "colab": {
     "base_uri": "https://localhost:8080/",
     "height": 563
    },
    "id": "twdm-5C5MdFe",
    "outputId": "028267e4-a2ad-4c35-9b22-490db8b03756"
   },
   "outputs": [
    {
     "name": "stderr",
     "output_type": "stream",
     "text": [
      "C:\\Users\\wasid\\AppData\\Local\\Temp\\ipykernel_3856\\3339469389.py:3: SettingWithCopyWarning: \n",
      "A value is trying to be set on a copy of a slice from a DataFrame.\n",
      "Try using .loc[row_indexer,col_indexer] = value instead\n",
      "\n",
      "See the caveats in the documentation: https://pandas.pydata.org/pandas-docs/stable/user_guide/indexing.html#returning-a-view-versus-a-copy\n",
      "  df['Gpu brand']=df['Gpu'].apply(lambda x:x.split()[0] )\n"
     ]
    },
    {
     "data": {
      "text/plain": [
       "0        Intel\n",
       "1        Intel\n",
       "2        Intel\n",
       "3          AMD\n",
       "4        Intel\n",
       "         ...  \n",
       "1269    Nvidia\n",
       "1270     Intel\n",
       "1271     Intel\n",
       "1272     Intel\n",
       "1273       AMD\n",
       "Name: Gpu brand, Length: 1274, dtype: object"
      ]
     },
     "execution_count": 66,
     "metadata": {},
     "output_type": "execute_result"
    }
   ],
   "source": [
    "# working with Gpu col, need to extract brand name\n",
    "\n",
    "df['Gpu brand']=df['Gpu'].apply(lambda x:x.split()[0] )\n",
    "df['Gpu brand']"
   ]
  },
  {
   "cell_type": "code",
   "execution_count": 67,
   "metadata": {
    "colab": {
     "base_uri": "https://localhost:8080/"
    },
    "id": "Nbu_g1lgOGm8",
    "outputId": "b216c441-ab70-4c20-94bb-0492838e6ba6"
   },
   "outputs": [
    {
     "name": "stderr",
     "output_type": "stream",
     "text": [
      "C:\\Users\\wasid\\AppData\\Local\\Temp\\ipykernel_3856\\3949037655.py:1: SettingWithCopyWarning: \n",
      "A value is trying to be set on a copy of a slice from a DataFrame\n",
      "\n",
      "See the caveats in the documentation: https://pandas.pydata.org/pandas-docs/stable/user_guide/indexing.html#returning-a-view-versus-a-copy\n",
      "  df.drop(columns=['Gpu'], inplace=True)\n"
     ]
    }
   ],
   "source": [
    "df.drop(columns=['Gpu'], inplace=True)"
   ]
  },
  {
   "cell_type": "code",
   "execution_count": 68,
   "metadata": {
    "colab": {
     "base_uri": "https://localhost:8080/",
     "height": 206
    },
    "id": "FLx0j6uXN0YL",
    "outputId": "0b494559-4250-481b-f6c1-fa4b417677a1"
   },
   "outputs": [
    {
     "data": {
      "text/html": [
       "<div>\n",
       "<style scoped>\n",
       "    .dataframe tbody tr th:only-of-type {\n",
       "        vertical-align: middle;\n",
       "    }\n",
       "\n",
       "    .dataframe tbody tr th {\n",
       "        vertical-align: top;\n",
       "    }\n",
       "\n",
       "    .dataframe thead th {\n",
       "        text-align: right;\n",
       "    }\n",
       "</style>\n",
       "<table border=\"1\" class=\"dataframe\">\n",
       "  <thead>\n",
       "    <tr style=\"text-align: right;\">\n",
       "      <th></th>\n",
       "      <th>Company</th>\n",
       "      <th>TypeName</th>\n",
       "      <th>Ram</th>\n",
       "      <th>OpSys</th>\n",
       "      <th>Weight</th>\n",
       "      <th>Price</th>\n",
       "      <th>Touchscreen</th>\n",
       "      <th>IPSpanel</th>\n",
       "      <th>PPI</th>\n",
       "      <th>Cpu brand</th>\n",
       "      <th>HDD</th>\n",
       "      <th>SSD</th>\n",
       "      <th>Gpu brand</th>\n",
       "    </tr>\n",
       "  </thead>\n",
       "  <tbody>\n",
       "    <tr>\n",
       "      <th>0</th>\n",
       "      <td>Apple</td>\n",
       "      <td>Ultrabook</td>\n",
       "      <td>8</td>\n",
       "      <td>macOS</td>\n",
       "      <td>1.37</td>\n",
       "      <td>71378</td>\n",
       "      <td>0</td>\n",
       "      <td>1</td>\n",
       "      <td>226.983002</td>\n",
       "      <td>Intel Core i5</td>\n",
       "      <td>0</td>\n",
       "      <td>128</td>\n",
       "      <td>Intel</td>\n",
       "    </tr>\n",
       "    <tr>\n",
       "      <th>1</th>\n",
       "      <td>Apple</td>\n",
       "      <td>Ultrabook</td>\n",
       "      <td>8</td>\n",
       "      <td>macOS</td>\n",
       "      <td>1.34</td>\n",
       "      <td>47895</td>\n",
       "      <td>0</td>\n",
       "      <td>0</td>\n",
       "      <td>127.677940</td>\n",
       "      <td>Intel Core i5</td>\n",
       "      <td>0</td>\n",
       "      <td>0</td>\n",
       "      <td>Intel</td>\n",
       "    </tr>\n",
       "    <tr>\n",
       "      <th>2</th>\n",
       "      <td>HP</td>\n",
       "      <td>Notebook</td>\n",
       "      <td>8</td>\n",
       "      <td>No OS</td>\n",
       "      <td>1.86</td>\n",
       "      <td>30636</td>\n",
       "      <td>0</td>\n",
       "      <td>0</td>\n",
       "      <td>141.212006</td>\n",
       "      <td>Intel Core i5</td>\n",
       "      <td>0</td>\n",
       "      <td>256</td>\n",
       "      <td>Intel</td>\n",
       "    </tr>\n",
       "    <tr>\n",
       "      <th>3</th>\n",
       "      <td>Apple</td>\n",
       "      <td>Ultrabook</td>\n",
       "      <td>16</td>\n",
       "      <td>macOS</td>\n",
       "      <td>1.83</td>\n",
       "      <td>135195</td>\n",
       "      <td>0</td>\n",
       "      <td>1</td>\n",
       "      <td>220.534622</td>\n",
       "      <td>Intel Core i7</td>\n",
       "      <td>0</td>\n",
       "      <td>512</td>\n",
       "      <td>AMD</td>\n",
       "    </tr>\n",
       "    <tr>\n",
       "      <th>4</th>\n",
       "      <td>Apple</td>\n",
       "      <td>Ultrabook</td>\n",
       "      <td>8</td>\n",
       "      <td>macOS</td>\n",
       "      <td>1.37</td>\n",
       "      <td>96095</td>\n",
       "      <td>0</td>\n",
       "      <td>1</td>\n",
       "      <td>226.983002</td>\n",
       "      <td>Intel Core i5</td>\n",
       "      <td>0</td>\n",
       "      <td>256</td>\n",
       "      <td>Intel</td>\n",
       "    </tr>\n",
       "  </tbody>\n",
       "</table>\n",
       "</div>"
      ],
      "text/plain": [
       "  Company   TypeName  Ram  OpSys  Weight   Price  Touchscreen  IPSpanel  \\\n",
       "0   Apple  Ultrabook    8  macOS    1.37   71378            0         1   \n",
       "1   Apple  Ultrabook    8  macOS    1.34   47895            0         0   \n",
       "2      HP   Notebook    8  No OS    1.86   30636            0         0   \n",
       "3   Apple  Ultrabook   16  macOS    1.83  135195            0         1   \n",
       "4   Apple  Ultrabook    8  macOS    1.37   96095            0         1   \n",
       "\n",
       "          PPI      Cpu brand  HDD  SSD Gpu brand  \n",
       "0  226.983002  Intel Core i5    0  128     Intel  \n",
       "1  127.677940  Intel Core i5    0    0     Intel  \n",
       "2  141.212006  Intel Core i5    0  256     Intel  \n",
       "3  220.534622  Intel Core i7    0  512       AMD  \n",
       "4  226.983002  Intel Core i5    0  256     Intel  "
      ]
     },
     "execution_count": 68,
     "metadata": {},
     "output_type": "execute_result"
    }
   ],
   "source": [
    "df.head()"
   ]
  },
  {
   "cell_type": "code",
   "execution_count": 69,
   "metadata": {
    "colab": {
     "base_uri": "https://localhost:8080/",
     "height": 241
    },
    "id": "Cs3r7gQXOBA4",
    "outputId": "ade7fb32-8112-4606-d4a5-e500fba0a2ee"
   },
   "outputs": [
    {
     "data": {
      "text/plain": [
       "Gpu brand\n",
       "Intel     703\n",
       "Nvidia    396\n",
       "AMD       174\n",
       "ARM         1\n",
       "Name: count, dtype: int64"
      ]
     },
     "execution_count": 69,
     "metadata": {},
     "output_type": "execute_result"
    }
   ],
   "source": [
    "df['Gpu brand'].value_counts()"
   ]
  },
  {
   "cell_type": "code",
   "execution_count": 70,
   "metadata": {
    "id": "4STY0RI4Oge7"
   },
   "outputs": [],
   "source": [
    "# Removing ARM brand\n",
    "df=df[df['Gpu brand']!=\"ARM\"]"
   ]
  },
  {
   "cell_type": "code",
   "execution_count": 71,
   "metadata": {
    "colab": {
     "base_uri": "https://localhost:8080/",
     "height": 496
    },
    "id": "EZYZdeogO6H_",
    "outputId": "98c948a6-ba67-4383-d2dc-09053dd5893a"
   },
   "outputs": [
    {
     "data": {
      "text/plain": [
       "<Axes: xlabel='Gpu brand'>"
      ]
     },
     "execution_count": 71,
     "metadata": {},
     "output_type": "execute_result"
    },
    {
     "data": {
      "image/png": "[encoded data removed]",
      "text/plain": [
       "<Figure size 640x480 with 1 Axes>"
      ]
     },
     "metadata": {},
     "output_type": "display_data"
    }
   ],
   "source": [
    "df['Gpu brand'].value_counts().plot(kind=\"bar\")"
   ]
  },
  {
   "cell_type": "code",
   "execution_count": 72,
   "metadata": {
    "colab": {
     "base_uri": "https://localhost:8080/",
     "height": 466
    },
    "id": "YBISTdlIPGjn",
    "outputId": "39a6dda7-186f-41bd-a1ff-ff079da1548f"
   },
   "outputs": [
    {
     "data": {
      "text/plain": [
       "<Axes: xlabel='Gpu brand', ylabel='Price'>"
      ]
     },
     "execution_count": 72,
     "metadata": {},
     "output_type": "execute_result"
    },
    {
     "data": {
      "image/png": "[encoded data removed]",
      "text/plain": [
       "<Figure size 640x480 with 1 Axes>"
      ]
     },
     "metadata": {},
     "output_type": "display_data"
    }
   ],
   "source": [
    "sns.barplot(x=df['Gpu brand'], y=df['Price'])"
   ]
  },
  {
   "cell_type": "code",
   "execution_count": 73,
   "metadata": {
    "colab": {
     "base_uri": "https://localhost:8080/",
     "height": 550
    },
    "id": "M0smuxJmPcXH",
    "outputId": "87b4c771-cc3a-4571-d23e-d7a0d5b34357"
   },
   "outputs": [
    {
     "data": {
      "text/plain": [
       "<Axes: xlabel='OpSys'>"
      ]
     },
     "execution_count": 73,
     "metadata": {},
     "output_type": "execute_result"
    },
    {
     "data": {
      "image/png": "[encoded data removed]",
      "text/plain": [
       "<Figure size 640x480 with 1 Axes>"
      ]
     },
     "metadata": {},
     "output_type": "display_data"
    }
   ],
   "source": [
    "# dealing with Opsystem column\n",
    "\n",
    "df['OpSys'].value_counts().plot(kind=\"bar\")"
   ]
  },
  {
   "cell_type": "code",
   "execution_count": 74,
   "metadata": {
    "colab": {
     "base_uri": "https://localhost:8080/",
     "height": 533
    },
    "id": "lFbZRIG2QIHW",
    "outputId": "47fdc817-1d73-4757-cd77-26f05c21285c"
   },
   "outputs": [
    {
     "data": {
      "image/png": "[encoded data removed]",
      "text/plain": [
       "<Figure size 640x480 with 1 Axes>"
      ]
     },
     "metadata": {},
     "output_type": "display_data"
    }
   ],
   "source": [
    "sns.barplot(x=df['OpSys'], y=df['Price'])\n",
    "plt.xticks(rotation=80)\n",
    "plt.show()"
   ]
  },
  {
   "cell_type": "code",
   "execution_count": 75,
   "metadata": {
    "colab": {
     "base_uri": "https://localhost:8080/",
     "height": 398
    },
    "id": "pcVEAjalQXax",
    "outputId": "5a58091e-eb2c-43cd-8419-3f12f0192af7"
   },
   "outputs": [
    {
     "data": {
      "text/plain": [
       "OpSys\n",
       "Windows 10      1047\n",
       "No OS             66\n",
       "Linux             58\n",
       "Windows 7         45\n",
       "Chrome OS         26\n",
       "macOS             13\n",
       "Mac OS X           8\n",
       "Windows 10 S       8\n",
       "Android            2\n",
       "Name: count, dtype: int64"
      ]
     },
     "execution_count": 75,
     "metadata": {},
     "output_type": "execute_result"
    }
   ],
   "source": [
    "df['OpSys'].value_counts()"
   ]
  },
  {
   "cell_type": "code",
   "execution_count": 76,
   "metadata": {
    "id": "h4UfL8OsRA60"
   },
   "outputs": [],
   "source": [
    "def opsys_categ(input):\n",
    "  if input == \"Windows 10\" or input==\"Windows 7\" or input==\"Windows 10 S\":\n",
    "    return \"Windows_OS\"\n",
    "  elif input==\"macOS\" or input==\"Mac OS X\":\n",
    "    return \"Mac_OS\"\n",
    "  else:\n",
    "    return \"other/Android/Linux/Chrome\""
   ]
  },
  {
   "cell_type": "code",
   "execution_count": 77,
   "metadata": {
    "colab": {
     "base_uri": "https://localhost:8080/",
     "height": 35
    },
    "id": "W9dHUujNSr__",
    "outputId": "1e9a711c-e162-42f7-abf4-e1f66f2f3b7a"
   },
   "outputs": [
    {
     "data": {
      "text/plain": [
       "'Windows_OS'"
      ]
     },
     "execution_count": 77,
     "metadata": {},
     "output_type": "execute_result"
    }
   ],
   "source": [
    "opsys_categ(\"Windows 10 S\")"
   ]
  },
  {
   "cell_type": "code",
   "execution_count": 78,
   "metadata": {
    "colab": {
     "base_uri": "https://localhost:8080/"
    },
    "id": "uQkwLfHySvIa",
    "outputId": "22754890-f71b-46ed-ed4f-b54ab11cfb64"
   },
   "outputs": [
    {
     "name": "stderr",
     "output_type": "stream",
     "text": [
      "C:\\Users\\wasid\\AppData\\Local\\Temp\\ipykernel_3856\\4126062590.py:1: SettingWithCopyWarning: \n",
      "A value is trying to be set on a copy of a slice from a DataFrame.\n",
      "Try using .loc[row_indexer,col_indexer] = value instead\n",
      "\n",
      "See the caveats in the documentation: https://pandas.pydata.org/pandas-docs/stable/user_guide/indexing.html#returning-a-view-versus-a-copy\n",
      "  df['Os']=df['OpSys'].apply(opsys_categ)\n"
     ]
    }
   ],
   "source": [
    "df['Os']=df['OpSys'].apply(opsys_categ)"
   ]
  },
  {
   "cell_type": "code",
   "execution_count": 79,
   "metadata": {
    "colab": {
     "base_uri": "https://localhost:8080/"
    },
    "id": "6A2_vDiLT8IN",
    "outputId": "9effc71b-706d-4260-bb3d-a419df73518c"
   },
   "outputs": [
    {
     "name": "stderr",
     "output_type": "stream",
     "text": [
      "C:\\Users\\wasid\\AppData\\Local\\Temp\\ipykernel_3856\\1441298461.py:1: SettingWithCopyWarning: \n",
      "A value is trying to be set on a copy of a slice from a DataFrame\n",
      "\n",
      "See the caveats in the documentation: https://pandas.pydata.org/pandas-docs/stable/user_guide/indexing.html#returning-a-view-versus-a-copy\n",
      "  df.drop(columns=['OpSys'] , inplace=True )\n"
     ]
    }
   ],
   "source": [
    "df.drop(columns=['OpSys'] , inplace=True )"
   ]
  },
  {
   "cell_type": "code",
   "execution_count": 80,
   "metadata": {
    "colab": {
     "base_uri": "https://localhost:8080/",
     "height": 206
    },
    "id": "XDmoVCn5TxVr",
    "outputId": "46f1f65d-a167-4d8d-e205-adf6031c32d4"
   },
   "outputs": [
    {
     "data": {
      "text/html": [
       "<div>\n",
       "<style scoped>\n",
       "    .dataframe tbody tr th:only-of-type {\n",
       "        vertical-align: middle;\n",
       "    }\n",
       "\n",
       "    .dataframe tbody tr th {\n",
       "        vertical-align: top;\n",
       "    }\n",
       "\n",
       "    .dataframe thead th {\n",
       "        text-align: right;\n",
       "    }\n",
       "</style>\n",
       "<table border=\"1\" class=\"dataframe\">\n",
       "  <thead>\n",
       "    <tr style=\"text-align: right;\">\n",
       "      <th></th>\n",
       "      <th>Company</th>\n",
       "      <th>TypeName</th>\n",
       "      <th>Ram</th>\n",
       "      <th>Weight</th>\n",
       "      <th>Price</th>\n",
       "      <th>Touchscreen</th>\n",
       "      <th>IPSpanel</th>\n",
       "      <th>PPI</th>\n",
       "      <th>Cpu brand</th>\n",
       "      <th>HDD</th>\n",
       "      <th>SSD</th>\n",
       "      <th>Gpu brand</th>\n",
       "      <th>Os</th>\n",
       "    </tr>\n",
       "  </thead>\n",
       "  <tbody>\n",
       "    <tr>\n",
       "      <th>877</th>\n",
       "      <td>Xiaomi</td>\n",
       "      <td>Ultrabook</td>\n",
       "      <td>8</td>\n",
       "      <td>1.28</td>\n",
       "      <td>49816</td>\n",
       "      <td>0</td>\n",
       "      <td>1</td>\n",
       "      <td>165.632111</td>\n",
       "      <td>Intel Core i5</td>\n",
       "      <td>0</td>\n",
       "      <td>256</td>\n",
       "      <td>Nvidia</td>\n",
       "      <td>Windows_OS</td>\n",
       "    </tr>\n",
       "    <tr>\n",
       "      <th>196</th>\n",
       "      <td>Razer</td>\n",
       "      <td>Gaming</td>\n",
       "      <td>32</td>\n",
       "      <td>3.49</td>\n",
       "      <td>324954</td>\n",
       "      <td>1</td>\n",
       "      <td>0</td>\n",
       "      <td>254.671356</td>\n",
       "      <td>Intel Core i7</td>\n",
       "      <td>0</td>\n",
       "      <td>1000</td>\n",
       "      <td>Nvidia</td>\n",
       "      <td>Windows_OS</td>\n",
       "    </tr>\n",
       "    <tr>\n",
       "      <th>370</th>\n",
       "      <td>Asus</td>\n",
       "      <td>2 in 1 Convertible</td>\n",
       "      <td>12</td>\n",
       "      <td>2.26</td>\n",
       "      <td>58554</td>\n",
       "      <td>1</td>\n",
       "      <td>0</td>\n",
       "      <td>141.212006</td>\n",
       "      <td>Intel Core i7</td>\n",
       "      <td>2000</td>\n",
       "      <td>512</td>\n",
       "      <td>Nvidia</td>\n",
       "      <td>Windows_OS</td>\n",
       "    </tr>\n",
       "    <tr>\n",
       "      <th>262</th>\n",
       "      <td>HP</td>\n",
       "      <td>Notebook</td>\n",
       "      <td>4</td>\n",
       "      <td>2.10</td>\n",
       "      <td>38468</td>\n",
       "      <td>0</td>\n",
       "      <td>1</td>\n",
       "      <td>141.212006</td>\n",
       "      <td>Intel Core i5</td>\n",
       "      <td>500</td>\n",
       "      <td>0</td>\n",
       "      <td>Intel</td>\n",
       "      <td>Windows_OS</td>\n",
       "    </tr>\n",
       "    <tr>\n",
       "      <th>1116</th>\n",
       "      <td>Lenovo</td>\n",
       "      <td>Gaming</td>\n",
       "      <td>16</td>\n",
       "      <td>4.60</td>\n",
       "      <td>146519</td>\n",
       "      <td>0</td>\n",
       "      <td>1</td>\n",
       "      <td>127.335678</td>\n",
       "      <td>Intel Core i7</td>\n",
       "      <td>0</td>\n",
       "      <td>256</td>\n",
       "      <td>Nvidia</td>\n",
       "      <td>Windows_OS</td>\n",
       "    </tr>\n",
       "  </tbody>\n",
       "</table>\n",
       "</div>"
      ],
      "text/plain": [
       "     Company            TypeName  Ram  Weight   Price  Touchscreen  IPSpanel  \\\n",
       "877   Xiaomi           Ultrabook    8    1.28   49816            0         1   \n",
       "196    Razer              Gaming   32    3.49  324954            1         0   \n",
       "370     Asus  2 in 1 Convertible   12    2.26   58554            1         0   \n",
       "262       HP            Notebook    4    2.10   38468            0         1   \n",
       "1116  Lenovo              Gaming   16    4.60  146519            0         1   \n",
       "\n",
       "             PPI      Cpu brand   HDD   SSD Gpu brand          Os  \n",
       "877   165.632111  Intel Core i5     0   256    Nvidia  Windows_OS  \n",
       "196   254.671356  Intel Core i7     0  1000    Nvidia  Windows_OS  \n",
       "370   141.212006  Intel Core i7  2000   512    Nvidia  Windows_OS  \n",
       "262   141.212006  Intel Core i5   500     0     Intel  Windows_OS  \n",
       "1116  127.335678  Intel Core i7     0   256    Nvidia  Windows_OS  "
      ]
     },
     "execution_count": 80,
     "metadata": {},
     "output_type": "execute_result"
    }
   ],
   "source": [
    "df.sample(5)"
   ]
  },
  {
   "cell_type": "code",
   "execution_count": 81,
   "metadata": {
    "colab": {
     "base_uri": "https://localhost:8080/",
     "height": 466
    },
    "id": "uBcHvlguTzU5",
    "outputId": "b3f6d99e-36e4-4c7e-c4e4-ae317bd65ca5"
   },
   "outputs": [
    {
     "data": {
      "text/plain": [
       "<Axes: xlabel='Weight', ylabel='Price'>"
      ]
     },
     "execution_count": 81,
     "metadata": {},
     "output_type": "execute_result"
    },
    {
     "data": {
      "image/png": "[encoded data removed]",
      "text/plain": [
       "<Figure size 640x480 with 1 Axes>"
      ]
     },
     "metadata": {},
     "output_type": "display_data"
    }
   ],
   "source": [
    "# weight column\n",
    "\n",
    "sns.scatterplot(y=df['Price'], x=df['Weight'])"
   ]
  },
  {
   "cell_type": "code",
   "execution_count": 82,
   "metadata": {
    "colab": {
     "base_uri": "https://localhost:8080/",
     "height": 657
    },
    "id": "h44ZCj8eU_mZ",
    "outputId": "8cc46c48-6ba0-4d71-c580-21207d0a47e8"
   },
   "outputs": [
    {
     "name": "stderr",
     "output_type": "stream",
     "text": [
      "C:\\Users\\wasid\\AppData\\Local\\Temp\\ipykernel_3856\\2192964063.py:1: UserWarning: \n",
      "\n",
      "`distplot` is a deprecated function and will be removed in seaborn v0.14.0.\n",
      "\n",
      "Please adapt your code to use either `displot` (a figure-level function with\n",
      "similar flexibility) or `histplot` (an axes-level function for histograms).\n",
      "\n",
      "For a guide to updating your code to use the new functions, please see\n",
      "https://gist.github.com/mwaskom/de44147ed2974457ad6372750bbe5751\n",
      "\n",
      "  sns.distplot(df['Weight'], kde=True)\n"
     ]
    },
    {
     "data": {
      "text/plain": [
       "<Axes: xlabel='Weight', ylabel='Density'>"
      ]
     },
     "execution_count": 82,
     "metadata": {},
     "output_type": "execute_result"
    },
    {
     "data": {
      "image/png": "[encoded data removed]",
      "text/plain": [
       "<Figure size 640x480 with 1 Axes>"
      ]
     },
     "metadata": {},
     "output_type": "display_data"
    }
   ],
   "source": [
    "sns.distplot(df['Weight'], kde=True)"
   ]
  },
  {
   "cell_type": "code",
   "execution_count": 83,
   "metadata": {
    "colab": {
     "base_uri": "https://localhost:8080/",
     "height": 335
    },
    "id": "POQ5zkHPVzrv",
    "outputId": "604ce4c6-bae1-40f4-9252-aeaa52037a7d"
   },
   "outputs": [
    {
     "data": {
      "text/plain": [
       "Ram            0.739996\n",
       "Weight         0.211667\n",
       "Price          1.000000\n",
       "Touchscreen    0.190382\n",
       "IPSpanel       0.251514\n",
       "PPI            0.471481\n",
       "HDD           -0.098481\n",
       "SSD            0.669808\n",
       "Name: Price, dtype: float64"
      ]
     },
     "execution_count": 83,
     "metadata": {},
     "output_type": "execute_result"
    }
   ],
   "source": [
    "df.corr(numeric_only=True)['Price']"
   ]
  },
  {
   "cell_type": "code",
   "execution_count": 84,
   "metadata": {
    "colab": {
     "base_uri": "https://localhost:8080/",
     "height": 466
    },
    "id": "TPzegRF8WJU1",
    "outputId": "1f8a8aef-8c25-4a48-c986-ad734c874e13"
   },
   "outputs": [
    {
     "data": {
      "text/plain": [
       "<Axes: xlabel='Price', ylabel='Count'>"
      ]
     },
     "execution_count": 84,
     "metadata": {},
     "output_type": "execute_result"
    },
    {
     "data": {
      "image/png": "[encoded data removed]",
      "text/plain": [
       "<Figure size 640x480 with 1 Axes>"
      ]
     },
     "metadata": {},
     "output_type": "display_data"
    }
   ],
   "source": [
    "# target variable\n",
    "\n",
    "sns.histplot(df['Price'], kde=True) # it is right skewed"
   ]
  },
  {
   "cell_type": "code",
   "execution_count": 85,
   "metadata": {
    "colab": {
     "base_uri": "https://localhost:8080/"
    },
    "id": "aLs8H0W4XQsv",
    "outputId": "444bda4d-4a40-4329-97ab-ef3d5fb3bdeb"
   },
   "outputs": [
    {
     "name": "stderr",
     "output_type": "stream",
     "text": [
      "C:\\Users\\wasid\\AppData\\Local\\Temp\\ipykernel_3856\\2429332350.py:1: SettingWithCopyWarning: \n",
      "A value is trying to be set on a copy of a slice from a DataFrame.\n",
      "Try using .loc[row_indexer,col_indexer] = value instead\n",
      "\n",
      "See the caveats in the documentation: https://pandas.pydata.org/pandas-docs/stable/user_guide/indexing.html#returning-a-view-versus-a-copy\n",
      "  df['Price']=np.log(df['Price'])\n"
     ]
    }
   ],
   "source": [
    "df['Price']=np.log(df['Price'])"
   ]
  },
  {
   "cell_type": "code",
   "execution_count": 86,
   "metadata": {
    "colab": {
     "base_uri": "https://localhost:8080/",
     "height": 467
    },
    "id": "vqttYVckXmeT",
    "outputId": "409de5fb-6f43-4ce1-ab15-91b04f9d3ef7"
   },
   "outputs": [
    {
     "data": {
      "text/plain": [
       "<Axes: xlabel='Price', ylabel='Count'>"
      ]
     },
     "execution_count": 86,
     "metadata": {},
     "output_type": "execute_result"
    },
    {
     "data": {
      "image/png": "[encoded data removed]",
      "text/plain": [
       "<Figure size 640x480 with 1 Axes>"
      ]
     },
     "metadata": {},
     "output_type": "display_data"
    }
   ],
   "source": [
    "# After log transformation\n",
    "sns.histplot(df['Price'], kde=True)"
   ]
  },
  {
   "cell_type": "code",
   "execution_count": 87,
   "metadata": {
    "colab": {
     "base_uri": "https://localhost:8080/",
     "height": 300
    },
    "id": "fxWSXKWIjFNG",
    "outputId": "70e32ce9-e8e1-4b75-d5f2-f57ac799a360"
   },
   "outputs": [
    {
     "data": {
      "text/html": [
       "<div>\n",
       "<style scoped>\n",
       "    .dataframe tbody tr th:only-of-type {\n",
       "        vertical-align: middle;\n",
       "    }\n",
       "\n",
       "    .dataframe tbody tr th {\n",
       "        vertical-align: top;\n",
       "    }\n",
       "\n",
       "    .dataframe thead th {\n",
       "        text-align: right;\n",
       "    }\n",
       "</style>\n",
       "<table border=\"1\" class=\"dataframe\">\n",
       "  <thead>\n",
       "    <tr style=\"text-align: right;\">\n",
       "      <th></th>\n",
       "      <th>Ram</th>\n",
       "      <th>Weight</th>\n",
       "      <th>Price</th>\n",
       "      <th>Touchscreen</th>\n",
       "      <th>IPSpanel</th>\n",
       "      <th>PPI</th>\n",
       "      <th>HDD</th>\n",
       "      <th>SSD</th>\n",
       "    </tr>\n",
       "  </thead>\n",
       "  <tbody>\n",
       "    <tr>\n",
       "      <th>count</th>\n",
       "      <td>1273.000000</td>\n",
       "      <td>1273.000000</td>\n",
       "      <td>1273.000000</td>\n",
       "      <td>1273.000000</td>\n",
       "      <td>1273.000000</td>\n",
       "      <td>1273.000000</td>\n",
       "      <td>1273.000000</td>\n",
       "      <td>1273.000000</td>\n",
       "    </tr>\n",
       "    <tr>\n",
       "      <th>mean</th>\n",
       "      <td>8.447761</td>\n",
       "      <td>2.041100</td>\n",
       "      <td>10.828206</td>\n",
       "      <td>0.146897</td>\n",
       "      <td>0.279654</td>\n",
       "      <td>146.950836</td>\n",
       "      <td>413.715632</td>\n",
       "      <td>186.252946</td>\n",
       "    </tr>\n",
       "    <tr>\n",
       "      <th>std</th>\n",
       "      <td>5.098771</td>\n",
       "      <td>0.669241</td>\n",
       "      <td>0.619573</td>\n",
       "      <td>0.354142</td>\n",
       "      <td>0.449006</td>\n",
       "      <td>42.926723</td>\n",
       "      <td>518.054486</td>\n",
       "      <td>186.531571</td>\n",
       "    </tr>\n",
       "    <tr>\n",
       "      <th>min</th>\n",
       "      <td>2.000000</td>\n",
       "      <td>0.690000</td>\n",
       "      <td>9.134539</td>\n",
       "      <td>0.000000</td>\n",
       "      <td>0.000000</td>\n",
       "      <td>90.583405</td>\n",
       "      <td>0.000000</td>\n",
       "      <td>0.000000</td>\n",
       "    </tr>\n",
       "    <tr>\n",
       "      <th>25%</th>\n",
       "      <td>4.000000</td>\n",
       "      <td>1.500000</td>\n",
       "      <td>10.387363</td>\n",
       "      <td>0.000000</td>\n",
       "      <td>0.000000</td>\n",
       "      <td>127.335678</td>\n",
       "      <td>0.000000</td>\n",
       "      <td>0.000000</td>\n",
       "    </tr>\n",
       "    <tr>\n",
       "      <th>50%</th>\n",
       "      <td>8.000000</td>\n",
       "      <td>2.040000</td>\n",
       "      <td>10.872238</td>\n",
       "      <td>0.000000</td>\n",
       "      <td>0.000000</td>\n",
       "      <td>141.212006</td>\n",
       "      <td>0.000000</td>\n",
       "      <td>256.000000</td>\n",
       "    </tr>\n",
       "    <tr>\n",
       "      <th>75%</th>\n",
       "      <td>8.000000</td>\n",
       "      <td>2.310000</td>\n",
       "      <td>11.287442</td>\n",
       "      <td>0.000000</td>\n",
       "      <td>1.000000</td>\n",
       "      <td>157.350510</td>\n",
       "      <td>1000.000000</td>\n",
       "      <td>256.000000</td>\n",
       "    </tr>\n",
       "    <tr>\n",
       "      <th>max</th>\n",
       "      <td>64.000000</td>\n",
       "      <td>4.700000</td>\n",
       "      <td>12.691439</td>\n",
       "      <td>1.000000</td>\n",
       "      <td>1.000000</td>\n",
       "      <td>352.465149</td>\n",
       "      <td>2000.000000</td>\n",
       "      <td>1024.000000</td>\n",
       "    </tr>\n",
       "  </tbody>\n",
       "</table>\n",
       "</div>"
      ],
      "text/plain": [
       "               Ram       Weight        Price  Touchscreen     IPSpanel  \\\n",
       "count  1273.000000  1273.000000  1273.000000  1273.000000  1273.000000   \n",
       "mean      8.447761     2.041100    10.828206     0.146897     0.279654   \n",
       "std       5.098771     0.669241     0.619573     0.354142     0.449006   \n",
       "min       2.000000     0.690000     9.134539     0.000000     0.000000   \n",
       "25%       4.000000     1.500000    10.387363     0.000000     0.000000   \n",
       "50%       8.000000     2.040000    10.872238     0.000000     0.000000   \n",
       "75%       8.000000     2.310000    11.287442     0.000000     1.000000   \n",
       "max      64.000000     4.700000    12.691439     1.000000     1.000000   \n",
       "\n",
       "               PPI          HDD          SSD  \n",
       "count  1273.000000  1273.000000  1273.000000  \n",
       "mean    146.950836   413.715632   186.252946  \n",
       "std      42.926723   518.054486   186.531571  \n",
       "min      90.583405     0.000000     0.000000  \n",
       "25%     127.335678     0.000000     0.000000  \n",
       "50%     141.212006     0.000000   256.000000  \n",
       "75%     157.350510  1000.000000   256.000000  \n",
       "max     352.465149  2000.000000  1024.000000  "
      ]
     },
     "execution_count": 87,
     "metadata": {},
     "output_type": "execute_result"
    }
   ],
   "source": [
    "df.describe()"
   ]
  },
  {
   "cell_type": "code",
   "execution_count": 88,
   "metadata": {
    "id": "KWPXDHGfYMNg"
   },
   "outputs": [],
   "source": [
    "X=df.drop(columns=['Price'])\n",
    "y=df['Price']"
   ]
  },
  {
   "cell_type": "code",
   "execution_count": 89,
   "metadata": {
    "colab": {
     "base_uri": "https://localhost:8080/",
     "height": 424
    },
    "id": "dVzozkxLYdEv",
    "outputId": "9ab2e74f-b493-4c16-fd2e-b51c908112af"
   },
   "outputs": [
    {
     "data": {
      "text/html": [
       "<div>\n",
       "<style scoped>\n",
       "    .dataframe tbody tr th:only-of-type {\n",
       "        vertical-align: middle;\n",
       "    }\n",
       "\n",
       "    .dataframe tbody tr th {\n",
       "        vertical-align: top;\n",
       "    }\n",
       "\n",
       "    .dataframe thead th {\n",
       "        text-align: right;\n",
       "    }\n",
       "</style>\n",
       "<table border=\"1\" class=\"dataframe\">\n",
       "  <thead>\n",
       "    <tr style=\"text-align: right;\">\n",
       "      <th></th>\n",
       "      <th>Company</th>\n",
       "      <th>TypeName</th>\n",
       "      <th>Ram</th>\n",
       "      <th>Weight</th>\n",
       "      <th>Touchscreen</th>\n",
       "      <th>IPSpanel</th>\n",
       "      <th>PPI</th>\n",
       "      <th>Cpu brand</th>\n",
       "      <th>HDD</th>\n",
       "      <th>SSD</th>\n",
       "      <th>Gpu brand</th>\n",
       "      <th>Os</th>\n",
       "    </tr>\n",
       "  </thead>\n",
       "  <tbody>\n",
       "    <tr>\n",
       "      <th>0</th>\n",
       "      <td>Apple</td>\n",
       "      <td>Ultrabook</td>\n",
       "      <td>8</td>\n",
       "      <td>1.37</td>\n",
       "      <td>0</td>\n",
       "      <td>1</td>\n",
       "      <td>226.983002</td>\n",
       "      <td>Intel Core i5</td>\n",
       "      <td>0</td>\n",
       "      <td>128</td>\n",
       "      <td>Intel</td>\n",
       "      <td>Mac_OS</td>\n",
       "    </tr>\n",
       "    <tr>\n",
       "      <th>1</th>\n",
       "      <td>Apple</td>\n",
       "      <td>Ultrabook</td>\n",
       "      <td>8</td>\n",
       "      <td>1.34</td>\n",
       "      <td>0</td>\n",
       "      <td>0</td>\n",
       "      <td>127.677940</td>\n",
       "      <td>Intel Core i5</td>\n",
       "      <td>0</td>\n",
       "      <td>0</td>\n",
       "      <td>Intel</td>\n",
       "      <td>Mac_OS</td>\n",
       "    </tr>\n",
       "    <tr>\n",
       "      <th>2</th>\n",
       "      <td>HP</td>\n",
       "      <td>Notebook</td>\n",
       "      <td>8</td>\n",
       "      <td>1.86</td>\n",
       "      <td>0</td>\n",
       "      <td>0</td>\n",
       "      <td>141.212006</td>\n",
       "      <td>Intel Core i5</td>\n",
       "      <td>0</td>\n",
       "      <td>256</td>\n",
       "      <td>Intel</td>\n",
       "      <td>other/Android/Linux/Chrome</td>\n",
       "    </tr>\n",
       "    <tr>\n",
       "      <th>3</th>\n",
       "      <td>Apple</td>\n",
       "      <td>Ultrabook</td>\n",
       "      <td>16</td>\n",
       "      <td>1.83</td>\n",
       "      <td>0</td>\n",
       "      <td>1</td>\n",
       "      <td>220.534622</td>\n",
       "      <td>Intel Core i7</td>\n",
       "      <td>0</td>\n",
       "      <td>512</td>\n",
       "      <td>AMD</td>\n",
       "      <td>Mac_OS</td>\n",
       "    </tr>\n",
       "    <tr>\n",
       "      <th>4</th>\n",
       "      <td>Apple</td>\n",
       "      <td>Ultrabook</td>\n",
       "      <td>8</td>\n",
       "      <td>1.37</td>\n",
       "      <td>0</td>\n",
       "      <td>1</td>\n",
       "      <td>226.983002</td>\n",
       "      <td>Intel Core i5</td>\n",
       "      <td>0</td>\n",
       "      <td>256</td>\n",
       "      <td>Intel</td>\n",
       "      <td>Mac_OS</td>\n",
       "    </tr>\n",
       "    <tr>\n",
       "      <th>...</th>\n",
       "      <td>...</td>\n",
       "      <td>...</td>\n",
       "      <td>...</td>\n",
       "      <td>...</td>\n",
       "      <td>...</td>\n",
       "      <td>...</td>\n",
       "      <td>...</td>\n",
       "      <td>...</td>\n",
       "      <td>...</td>\n",
       "      <td>...</td>\n",
       "      <td>...</td>\n",
       "      <td>...</td>\n",
       "    </tr>\n",
       "    <tr>\n",
       "      <th>1269</th>\n",
       "      <td>Asus</td>\n",
       "      <td>Notebook</td>\n",
       "      <td>4</td>\n",
       "      <td>2.20</td>\n",
       "      <td>0</td>\n",
       "      <td>0</td>\n",
       "      <td>100.454666</td>\n",
       "      <td>Intel Core i7</td>\n",
       "      <td>500</td>\n",
       "      <td>0</td>\n",
       "      <td>Nvidia</td>\n",
       "      <td>Windows_OS</td>\n",
       "    </tr>\n",
       "    <tr>\n",
       "      <th>1270</th>\n",
       "      <td>Lenovo</td>\n",
       "      <td>2 in 1 Convertible</td>\n",
       "      <td>4</td>\n",
       "      <td>1.80</td>\n",
       "      <td>1</td>\n",
       "      <td>1</td>\n",
       "      <td>157.350510</td>\n",
       "      <td>Intel Core i7</td>\n",
       "      <td>0</td>\n",
       "      <td>128</td>\n",
       "      <td>Intel</td>\n",
       "      <td>Windows_OS</td>\n",
       "    </tr>\n",
       "    <tr>\n",
       "      <th>1271</th>\n",
       "      <td>Lenovo</td>\n",
       "      <td>2 in 1 Convertible</td>\n",
       "      <td>16</td>\n",
       "      <td>1.30</td>\n",
       "      <td>1</td>\n",
       "      <td>1</td>\n",
       "      <td>276.053528</td>\n",
       "      <td>Intel Core i7</td>\n",
       "      <td>0</td>\n",
       "      <td>512</td>\n",
       "      <td>Intel</td>\n",
       "      <td>Windows_OS</td>\n",
       "    </tr>\n",
       "    <tr>\n",
       "      <th>1272</th>\n",
       "      <td>Lenovo</td>\n",
       "      <td>Notebook</td>\n",
       "      <td>2</td>\n",
       "      <td>1.50</td>\n",
       "      <td>0</td>\n",
       "      <td>0</td>\n",
       "      <td>111.935204</td>\n",
       "      <td>Other Intel Processors</td>\n",
       "      <td>0</td>\n",
       "      <td>0</td>\n",
       "      <td>Intel</td>\n",
       "      <td>Windows_OS</td>\n",
       "    </tr>\n",
       "    <tr>\n",
       "      <th>1273</th>\n",
       "      <td>HP</td>\n",
       "      <td>Notebook</td>\n",
       "      <td>6</td>\n",
       "      <td>2.19</td>\n",
       "      <td>0</td>\n",
       "      <td>0</td>\n",
       "      <td>100.454666</td>\n",
       "      <td>Intel Core i7</td>\n",
       "      <td>1000</td>\n",
       "      <td>0</td>\n",
       "      <td>AMD</td>\n",
       "      <td>Windows_OS</td>\n",
       "    </tr>\n",
       "  </tbody>\n",
       "</table>\n",
       "<p>1273 rows × 12 columns</p>\n",
       "</div>"
      ],
      "text/plain": [
       "     Company            TypeName  Ram  Weight  Touchscreen  IPSpanel  \\\n",
       "0      Apple           Ultrabook    8    1.37            0         1   \n",
       "1      Apple           Ultrabook    8    1.34            0         0   \n",
       "2         HP            Notebook    8    1.86            0         0   \n",
       "3      Apple           Ultrabook   16    1.83            0         1   \n",
       "4      Apple           Ultrabook    8    1.37            0         1   \n",
       "...      ...                 ...  ...     ...          ...       ...   \n",
       "1269    Asus            Notebook    4    2.20            0         0   \n",
       "1270  Lenovo  2 in 1 Convertible    4    1.80            1         1   \n",
       "1271  Lenovo  2 in 1 Convertible   16    1.30            1         1   \n",
       "1272  Lenovo            Notebook    2    1.50            0         0   \n",
       "1273      HP            Notebook    6    2.19            0         0   \n",
       "\n",
       "             PPI               Cpu brand   HDD  SSD Gpu brand  \\\n",
       "0     226.983002           Intel Core i5     0  128     Intel   \n",
       "1     127.677940           Intel Core i5     0    0     Intel   \n",
       "2     141.212006           Intel Core i5     0  256     Intel   \n",
       "3     220.534622           Intel Core i7     0  512       AMD   \n",
       "4     226.983002           Intel Core i5     0  256     Intel   \n",
       "...          ...                     ...   ...  ...       ...   \n",
       "1269  100.454666           Intel Core i7   500    0    Nvidia   \n",
       "1270  157.350510           Intel Core i7     0  128     Intel   \n",
       "1271  276.053528           Intel Core i7     0  512     Intel   \n",
       "1272  111.935204  Other Intel Processors     0    0     Intel   \n",
       "1273  100.454666           Intel Core i7  1000    0       AMD   \n",
       "\n",
       "                              Os  \n",
       "0                         Mac_OS  \n",
       "1                         Mac_OS  \n",
       "2     other/Android/Linux/Chrome  \n",
       "3                         Mac_OS  \n",
       "4                         Mac_OS  \n",
       "...                          ...  \n",
       "1269                  Windows_OS  \n",
       "1270                  Windows_OS  \n",
       "1271                  Windows_OS  \n",
       "1272                  Windows_OS  \n",
       "1273                  Windows_OS  \n",
       "\n",
       "[1273 rows x 12 columns]"
      ]
     },
     "execution_count": 89,
     "metadata": {},
     "output_type": "execute_result"
    }
   ],
   "source": [
    "X"
   ]
  },
  {
   "cell_type": "code",
   "execution_count": 90,
   "metadata": {
    "colab": {
     "base_uri": "https://localhost:8080/",
     "height": 458
    },
    "id": "wTQVf0mUYd1y",
    "outputId": "3558190a-8bf0-4f93-ccda-0b0d46b315bb"
   },
   "outputs": [
    {
     "data": {
      "text/plain": [
       "0       11.175745\n",
       "1       10.776766\n",
       "2       10.329931\n",
       "3       11.814473\n",
       "4       11.473093\n",
       "          ...    \n",
       "1269    10.555240\n",
       "1270    10.433880\n",
       "1271    11.288106\n",
       "1272     9.409273\n",
       "1273    10.614106\n",
       "Name: Price, Length: 1273, dtype: float64"
      ]
     },
     "execution_count": 90,
     "metadata": {},
     "output_type": "execute_result"
    }
   ],
   "source": [
    "y"
   ]
  },
  {
   "cell_type": "code",
   "execution_count": null,
   "metadata": {
    "id": "I5Wl4GfqYbd0"
   },
   "outputs": [],
   "source": []
  },
  {
   "cell_type": "markdown",
   "metadata": {
    "id": "AUogDoc5gj9m"
   },
   "source": [
    "# Model Building"
   ]
  },
  {
   "cell_type": "code",
   "execution_count": 91,
   "metadata": {
    "id": "S6W38_PFYemQ"
   },
   "outputs": [],
   "source": [
    "from sklearn.model_selection import train_test_split\n",
    "from sklearn.linear_model import LinearRegression, Ridge, Lasso\n",
    "from sklearn.svm import SVR\n",
    "from sklearn.ensemble import GradientBoostingRegressor, AdaBoostRegressor, RandomForestRegressor\n",
    "from sklearn.tree import DecisionTreeRegressor\n",
    "from sklearn.neighbors import KNeighborsRegressor\n",
    "from xgboost import XGBRegressor\n",
    "from sklearn.metrics import r2_score\n"
   ]
  },
  {
   "cell_type": "code",
   "execution_count": 92,
   "metadata": {
    "id": "0udT1dI1h4-T"
   },
   "outputs": [],
   "source": [
    "X_train, X_test, y_train, y_test =train_test_split(X,y, test_size=0.1 , random_state=4)"
   ]
  },
  {
   "cell_type": "code",
   "execution_count": 93,
   "metadata": {
    "id": "dEfvX8ijiQ9o"
   },
   "outputs": [],
   "source": [
    "# handling with categorical columns\n",
    "\n",
    "from sklearn.compose import  ColumnTransformer\n",
    "from sklearn.pipeline import Pipeline\n",
    "from sklearn.preprocessing import OneHotEncoder\n"
   ]
  },
  {
   "cell_type": "code",
   "execution_count": null,
   "metadata": {
    "id": "J3OQeavHynid"
   },
   "outputs": [],
   "source": []
  },
  {
   "cell_type": "markdown",
   "metadata": {
    "id": "StWGoPWSyo0F"
   },
   "source": [
    "# LinearRegression"
   ]
  },
  {
   "cell_type": "code",
   "execution_count": 94,
   "metadata": {
    "id": "Xvlr1LtNiUXE"
   },
   "outputs": [],
   "source": [
    "# step 1\n",
    "\n",
    "col_tran=ColumnTransformer( transformers=[\n",
    "    (\"col_transorming\",OneHotEncoder(drop='first',handle_unknown='ignore'),[0,1,7,10,11])\n",
    "], remainder=\"passthrough\" )"
   ]
  },
  {
   "cell_type": "code",
   "execution_count": 95,
   "metadata": {
    "colab": {
     "base_uri": "https://localhost:8080/",
     "height": 149
    },
    "id": "LyR93MTWiUdD",
    "outputId": "dc87fd37-a508-46a2-8904-75ef0b2fe7ed"
   },
   "outputs": [
    {
     "data": {
      "text/html": [
       "<style>#sk-container-id-1 {color: black;}#sk-container-id-1 pre{padding: 0;}#sk-container-id-1 div.sk-toggleable {background-color: white;}#sk-container-id-1 label.sk-toggleable__label {cursor: pointer;display: block;width: 100%;margin-bottom: 0;padding: 0.3em;box-sizing: border-box;text-align: center;}#sk-container-id-1 label.sk-toggleable__label-arrow:before {content: \"▸\";float: left;margin-right: 0.25em;color: #696969;}#sk-container-id-1 label.sk-toggleable__label-arrow:hover:before {color: black;}#sk-container-id-1 div.sk-estimator:hover label.sk-toggleable__label-arrow:before {color: black;}#sk-container-id-1 div.sk-toggleable__content {max-height: 0;max-width: 0;overflow: hidden;text-align: left;background-color: #f0f8ff;}#sk-container-id-1 div.sk-toggleable__content pre {margin: 0.2em;color: black;border-radius: 0.25em;background-color: #f0f8ff;}#sk-container-id-1 input.sk-toggleable__control:checked~div.sk-toggleable__content {max-height: 200px;max-width: 100%;overflow: auto;}#sk-container-id-1 input.sk-toggleable__control:checked~label.sk-toggleable__label-arrow:before {content: \"▾\";}#sk-container-id-1 div.sk-estimator input.sk-toggleable__control:checked~label.sk-toggleable__label {background-color: #d4ebff;}#sk-container-id-1 div.sk-label input.sk-toggleable__control:checked~label.sk-toggleable__label {background-color: #d4ebff;}#sk-container-id-1 input.sk-hidden--visually {border: 0;clip: rect(1px 1px 1px 1px);clip: rect(1px, 1px, 1px, 1px);height: 1px;margin: -1px;overflow: hidden;padding: 0;position: absolute;width: 1px;}#sk-container-id-1 div.sk-estimator {font-family: monospace;background-color: #f0f8ff;border: 1px dotted black;border-radius: 0.25em;box-sizing: border-box;margin-bottom: 0.5em;}#sk-container-id-1 div.sk-estimator:hover {background-color: #d4ebff;}#sk-container-id-1 div.sk-parallel-item::after {content: \"\";width: 100%;border-bottom: 1px solid gray;flex-grow: 1;}#sk-container-id-1 div.sk-label:hover label.sk-toggleable__label {background-color: #d4ebff;}#sk-container-id-1 div.sk-serial::before {content: \"\";position: absolute;border-left: 1px solid gray;box-sizing: border-box;top: 0;bottom: 0;left: 50%;z-index: 0;}#sk-container-id-1 div.sk-serial {display: flex;flex-direction: column;align-items: center;background-color: white;padding-right: 0.2em;padding-left: 0.2em;position: relative;}#sk-container-id-1 div.sk-item {position: relative;z-index: 1;}#sk-container-id-1 div.sk-parallel {display: flex;align-items: stretch;justify-content: center;background-color: white;position: relative;}#sk-container-id-1 div.sk-item::before, #sk-container-id-1 div.sk-parallel-item::before {content: \"\";position: absolute;border-left: 1px solid gray;box-sizing: border-box;top: 0;bottom: 0;left: 50%;z-index: -1;}#sk-container-id-1 div.sk-parallel-item {display: flex;flex-direction: column;z-index: 1;position: relative;background-color: white;}#sk-container-id-1 div.sk-parallel-item:first-child::after {align-self: flex-end;width: 50%;}#sk-container-id-1 div.sk-parallel-item:last-child::after {align-self: flex-start;width: 50%;}#sk-container-id-1 div.sk-parallel-item:only-child::after {width: 0;}#sk-container-id-1 div.sk-dashed-wrapped {border: 1px dashed gray;margin: 0 0.4em 0.5em 0.4em;box-sizing: border-box;padding-bottom: 0.4em;background-color: white;}#sk-container-id-1 div.sk-label label {font-family: monospace;font-weight: bold;display: inline-block;line-height: 1.2em;}#sk-container-id-1 div.sk-label-container {text-align: center;}#sk-container-id-1 div.sk-container {/* jupyter's `normalize.less` sets `[hidden] { display: none; }` but bootstrap.min.css set `[hidden] { display: none !important; }` so we also need the `!important` here to be able to override the default hidden behavior on the sphinx rendered scikit-learn.org. See: https://github.com/scikit-learn/scikit-learn/issues/21755 */display: inline-block !important;position: relative;}#sk-container-id-1 div.sk-text-repr-fallback {display: none;}</style><div id=\"sk-container-id-1\" class=\"sk-top-container\"><div class=\"sk-text-repr-fallback\"><pre>ColumnTransformer(remainder=&#x27;passthrough&#x27;,\n",
       "                  transformers=[(&#x27;col_transorming&#x27;,\n",
       "                                 OneHotEncoder(drop=&#x27;first&#x27;,\n",
       "                                               handle_unknown=&#x27;ignore&#x27;),\n",
       "                                 [0, 1, 7, 10, 11])])</pre><b>In a Jupyter environment, please rerun this cell to show the HTML representation or trust the notebook. <br />On GitHub, the HTML representation is unable to render, please try loading this page with nbviewer.org.</b></div><div class=\"sk-container\" hidden><div class=\"sk-item sk-dashed-wrapped\"><div class=\"sk-label-container\"><div class=\"sk-label sk-toggleable\"><input class=\"sk-toggleable__control sk-hidden--visually\" id=\"sk-estimator-id-1\" type=\"checkbox\" ><label for=\"sk-estimator-id-1\" class=\"sk-toggleable__label sk-toggleable__label-arrow\">ColumnTransformer</label><div class=\"sk-toggleable__content\"><pre>ColumnTransformer(remainder=&#x27;passthrough&#x27;,\n",
       "                  transformers=[(&#x27;col_transorming&#x27;,\n",
       "                                 OneHotEncoder(drop=&#x27;first&#x27;,\n",
       "                                               handle_unknown=&#x27;ignore&#x27;),\n",
       "                                 [0, 1, 7, 10, 11])])</pre></div></div></div><div class=\"sk-parallel\"><div class=\"sk-parallel-item\"><div class=\"sk-item\"><div class=\"sk-label-container\"><div class=\"sk-label sk-toggleable\"><input class=\"sk-toggleable__control sk-hidden--visually\" id=\"sk-estimator-id-2\" type=\"checkbox\" ><label for=\"sk-estimator-id-2\" class=\"sk-toggleable__label sk-toggleable__label-arrow\">col_transorming</label><div class=\"sk-toggleable__content\"><pre>[0, 1, 7, 10, 11]</pre></div></div></div><div class=\"sk-serial\"><div class=\"sk-item\"><div class=\"sk-estimator sk-toggleable\"><input class=\"sk-toggleable__control sk-hidden--visually\" id=\"sk-estimator-id-3\" type=\"checkbox\" ><label for=\"sk-estimator-id-3\" class=\"sk-toggleable__label sk-toggleable__label-arrow\">OneHotEncoder</label><div class=\"sk-toggleable__content\"><pre>OneHotEncoder(drop=&#x27;first&#x27;, handle_unknown=&#x27;ignore&#x27;)</pre></div></div></div></div></div></div><div class=\"sk-parallel-item\"><div class=\"sk-item\"><div class=\"sk-label-container\"><div class=\"sk-label sk-toggleable\"><input class=\"sk-toggleable__control sk-hidden--visually\" id=\"sk-estimator-id-4\" type=\"checkbox\" ><label for=\"sk-estimator-id-4\" class=\"sk-toggleable__label sk-toggleable__label-arrow\">remainder</label><div class=\"sk-toggleable__content\"><pre></pre></div></div></div><div class=\"sk-serial\"><div class=\"sk-item\"><div class=\"sk-estimator sk-toggleable\"><input class=\"sk-toggleable__control sk-hidden--visually\" id=\"sk-estimator-id-5\" type=\"checkbox\" ><label for=\"sk-estimator-id-5\" class=\"sk-toggleable__label sk-toggleable__label-arrow\">passthrough</label><div class=\"sk-toggleable__content\"><pre>passthrough</pre></div></div></div></div></div></div></div></div></div></div>"
      ],
      "text/plain": [
       "ColumnTransformer(remainder='passthrough',\n",
       "                  transformers=[('col_transorming',\n",
       "                                 OneHotEncoder(drop='first',\n",
       "                                               handle_unknown='ignore'),\n",
       "                                 [0, 1, 7, 10, 11])])"
      ]
     },
     "execution_count": 95,
     "metadata": {},
     "output_type": "execute_result"
    }
   ],
   "source": [
    "col_tran"
   ]
  },
  {
   "cell_type": "code",
   "execution_count": 96,
   "metadata": {
    "id": "r-mtPfr0iUfI"
   },
   "outputs": [],
   "source": [
    "# step2\n",
    "lr=LinearRegression()\n"
   ]
  },
  {
   "cell_type": "code",
   "execution_count": 97,
   "metadata": {
    "id": "bjUmFta7nNnT"
   },
   "outputs": [],
   "source": [
    "#step3\n",
    "model=Pipeline([\n",
    "    ('transformer',col_tran),\n",
    "    ('LinearReg',lr)\n",
    "]\n",
    ")"
   ]
  },
  {
   "cell_type": "code",
   "execution_count": 98,
   "metadata": {
    "colab": {
     "base_uri": "https://localhost:8080/",
     "height": 249
    },
    "id": "AUa-Ln7-nw_v",
    "outputId": "331b6acd-55e8-43f7-9952-bb08bc98731d"
   },
   "outputs": [
    {
     "data": {
      "text/html": [
       "<style>#sk-container-id-2 {color: black;}#sk-container-id-2 pre{padding: 0;}#sk-container-id-2 div.sk-toggleable {background-color: white;}#sk-container-id-2 label.sk-toggleable__label {cursor: pointer;display: block;width: 100%;margin-bottom: 0;padding: 0.3em;box-sizing: border-box;text-align: center;}#sk-container-id-2 label.sk-toggleable__label-arrow:before {content: \"▸\";float: left;margin-right: 0.25em;color: #696969;}#sk-container-id-2 label.sk-toggleable__label-arrow:hover:before {color: black;}#sk-container-id-2 div.sk-estimator:hover label.sk-toggleable__label-arrow:before {color: black;}#sk-container-id-2 div.sk-toggleable__content {max-height: 0;max-width: 0;overflow: hidden;text-align: left;background-color: #f0f8ff;}#sk-container-id-2 div.sk-toggleable__content pre {margin: 0.2em;color: black;border-radius: 0.25em;background-color: #f0f8ff;}#sk-container-id-2 input.sk-toggleable__control:checked~div.sk-toggleable__content {max-height: 200px;max-width: 100%;overflow: auto;}#sk-container-id-2 input.sk-toggleable__control:checked~label.sk-toggleable__label-arrow:before {content: \"▾\";}#sk-container-id-2 div.sk-estimator input.sk-toggleable__control:checked~label.sk-toggleable__label {background-color: #d4ebff;}#sk-container-id-2 div.sk-label input.sk-toggleable__control:checked~label.sk-toggleable__label {background-color: #d4ebff;}#sk-container-id-2 input.sk-hidden--visually {border: 0;clip: rect(1px 1px 1px 1px);clip: rect(1px, 1px, 1px, 1px);height: 1px;margin: -1px;overflow: hidden;padding: 0;position: absolute;width: 1px;}#sk-container-id-2 div.sk-estimator {font-family: monospace;background-color: #f0f8ff;border: 1px dotted black;border-radius: 0.25em;box-sizing: border-box;margin-bottom: 0.5em;}#sk-container-id-2 div.sk-estimator:hover {background-color: #d4ebff;}#sk-container-id-2 div.sk-parallel-item::after {content: \"\";width: 100%;border-bottom: 1px solid gray;flex-grow: 1;}#sk-container-id-2 div.sk-label:hover label.sk-toggleable__label {background-color: #d4ebff;}#sk-container-id-2 div.sk-serial::before {content: \"\";position: absolute;border-left: 1px solid gray;box-sizing: border-box;top: 0;bottom: 0;left: 50%;z-index: 0;}#sk-container-id-2 div.sk-serial {display: flex;flex-direction: column;align-items: center;background-color: white;padding-right: 0.2em;padding-left: 0.2em;position: relative;}#sk-container-id-2 div.sk-item {position: relative;z-index: 1;}#sk-container-id-2 div.sk-parallel {display: flex;align-items: stretch;justify-content: center;background-color: white;position: relative;}#sk-container-id-2 div.sk-item::before, #sk-container-id-2 div.sk-parallel-item::before {content: \"\";position: absolute;border-left: 1px solid gray;box-sizing: border-box;top: 0;bottom: 0;left: 50%;z-index: -1;}#sk-container-id-2 div.sk-parallel-item {display: flex;flex-direction: column;z-index: 1;position: relative;background-color: white;}#sk-container-id-2 div.sk-parallel-item:first-child::after {align-self: flex-end;width: 50%;}#sk-container-id-2 div.sk-parallel-item:last-child::after {align-self: flex-start;width: 50%;}#sk-container-id-2 div.sk-parallel-item:only-child::after {width: 0;}#sk-container-id-2 div.sk-dashed-wrapped {border: 1px dashed gray;margin: 0 0.4em 0.5em 0.4em;box-sizing: border-box;padding-bottom: 0.4em;background-color: white;}#sk-container-id-2 div.sk-label label {font-family: monospace;font-weight: bold;display: inline-block;line-height: 1.2em;}#sk-container-id-2 div.sk-label-container {text-align: center;}#sk-container-id-2 div.sk-container {/* jupyter's `normalize.less` sets `[hidden] { display: none; }` but bootstrap.min.css set `[hidden] { display: none !important; }` so we also need the `!important` here to be able to override the default hidden behavior on the sphinx rendered scikit-learn.org. See: https://github.com/scikit-learn/scikit-learn/issues/21755 */display: inline-block !important;position: relative;}#sk-container-id-2 div.sk-text-repr-fallback {display: none;}</style><div id=\"sk-container-id-2\" class=\"sk-top-container\"><div class=\"sk-text-repr-fallback\"><pre>Pipeline(steps=[(&#x27;transformer&#x27;,\n",
       "                 ColumnTransformer(remainder=&#x27;passthrough&#x27;,\n",
       "                                   transformers=[(&#x27;col_transorming&#x27;,\n",
       "                                                  OneHotEncoder(drop=&#x27;first&#x27;,\n",
       "                                                                handle_unknown=&#x27;ignore&#x27;),\n",
       "                                                  [0, 1, 7, 10, 11])])),\n",
       "                (&#x27;LinearReg&#x27;, LinearRegression())])</pre><b>In a Jupyter environment, please rerun this cell to show the HTML representation or trust the notebook. <br />On GitHub, the HTML representation is unable to render, please try loading this page with nbviewer.org.</b></div><div class=\"sk-container\" hidden><div class=\"sk-item sk-dashed-wrapped\"><div class=\"sk-label-container\"><div class=\"sk-label sk-toggleable\"><input class=\"sk-toggleable__control sk-hidden--visually\" id=\"sk-estimator-id-6\" type=\"checkbox\" ><label for=\"sk-estimator-id-6\" class=\"sk-toggleable__label sk-toggleable__label-arrow\">Pipeline</label><div class=\"sk-toggleable__content\"><pre>Pipeline(steps=[(&#x27;transformer&#x27;,\n",
       "                 ColumnTransformer(remainder=&#x27;passthrough&#x27;,\n",
       "                                   transformers=[(&#x27;col_transorming&#x27;,\n",
       "                                                  OneHotEncoder(drop=&#x27;first&#x27;,\n",
       "                                                                handle_unknown=&#x27;ignore&#x27;),\n",
       "                                                  [0, 1, 7, 10, 11])])),\n",
       "                (&#x27;LinearReg&#x27;, LinearRegression())])</pre></div></div></div><div class=\"sk-serial\"><div class=\"sk-item sk-dashed-wrapped\"><div class=\"sk-label-container\"><div class=\"sk-label sk-toggleable\"><input class=\"sk-toggleable__control sk-hidden--visually\" id=\"sk-estimator-id-7\" type=\"checkbox\" ><label for=\"sk-estimator-id-7\" class=\"sk-toggleable__label sk-toggleable__label-arrow\">transformer: ColumnTransformer</label><div class=\"sk-toggleable__content\"><pre>ColumnTransformer(remainder=&#x27;passthrough&#x27;,\n",
       "                  transformers=[(&#x27;col_transorming&#x27;,\n",
       "                                 OneHotEncoder(drop=&#x27;first&#x27;,\n",
       "                                               handle_unknown=&#x27;ignore&#x27;),\n",
       "                                 [0, 1, 7, 10, 11])])</pre></div></div></div><div class=\"sk-parallel\"><div class=\"sk-parallel-item\"><div class=\"sk-item\"><div class=\"sk-label-container\"><div class=\"sk-label sk-toggleable\"><input class=\"sk-toggleable__control sk-hidden--visually\" id=\"sk-estimator-id-8\" type=\"checkbox\" ><label for=\"sk-estimator-id-8\" class=\"sk-toggleable__label sk-toggleable__label-arrow\">col_transorming</label><div class=\"sk-toggleable__content\"><pre>[0, 1, 7, 10, 11]</pre></div></div></div><div class=\"sk-serial\"><div class=\"sk-item\"><div class=\"sk-estimator sk-toggleable\"><input class=\"sk-toggleable__control sk-hidden--visually\" id=\"sk-estimator-id-9\" type=\"checkbox\" ><label for=\"sk-estimator-id-9\" class=\"sk-toggleable__label sk-toggleable__label-arrow\">OneHotEncoder</label><div class=\"sk-toggleable__content\"><pre>OneHotEncoder(drop=&#x27;first&#x27;, handle_unknown=&#x27;ignore&#x27;)</pre></div></div></div></div></div></div><div class=\"sk-parallel-item\"><div class=\"sk-item\"><div class=\"sk-label-container\"><div class=\"sk-label sk-toggleable\"><input class=\"sk-toggleable__control sk-hidden--visually\" id=\"sk-estimator-id-10\" type=\"checkbox\" ><label for=\"sk-estimator-id-10\" class=\"sk-toggleable__label sk-toggleable__label-arrow\">remainder</label><div class=\"sk-toggleable__content\"><pre>[&#x27;Ram&#x27;, &#x27;Weight&#x27;, &#x27;Touchscreen&#x27;, &#x27;IPSpanel&#x27;, &#x27;PPI&#x27;, &#x27;HDD&#x27;, &#x27;SSD&#x27;]</pre></div></div></div><div class=\"sk-serial\"><div class=\"sk-item\"><div class=\"sk-estimator sk-toggleable\"><input class=\"sk-toggleable__control sk-hidden--visually\" id=\"sk-estimator-id-11\" type=\"checkbox\" ><label for=\"sk-estimator-id-11\" class=\"sk-toggleable__label sk-toggleable__label-arrow\">passthrough</label><div class=\"sk-toggleable__content\"><pre>passthrough</pre></div></div></div></div></div></div></div></div><div class=\"sk-item\"><div class=\"sk-estimator sk-toggleable\"><input class=\"sk-toggleable__control sk-hidden--visually\" id=\"sk-estimator-id-12\" type=\"checkbox\" ><label for=\"sk-estimator-id-12\" class=\"sk-toggleable__label sk-toggleable__label-arrow\">LinearRegression</label><div class=\"sk-toggleable__content\"><pre>LinearRegression()</pre></div></div></div></div></div></div></div>"
      ],
      "text/plain": [
       "Pipeline(steps=[('transformer',\n",
       "                 ColumnTransformer(remainder='passthrough',\n",
       "                                   transformers=[('col_transorming',\n",
       "                                                  OneHotEncoder(drop='first',\n",
       "                                                                handle_unknown='ignore'),\n",
       "                                                  [0, 1, 7, 10, 11])])),\n",
       "                ('LinearReg', LinearRegression())])"
      ]
     },
     "execution_count": 98,
     "metadata": {},
     "output_type": "execute_result"
    }
   ],
   "source": [
    "model.fit(X_train,y_train)"
   ]
  },
  {
   "cell_type": "code",
   "execution_count": 99,
   "metadata": {
    "colab": {
     "base_uri": "https://localhost:8080/"
    },
    "id": "YkFObdHrnxD5",
    "outputId": "7f15661b-907c-46ff-fee5-8a7c4ce1cbca"
   },
   "outputs": [
    {
     "data": {
      "text/plain": [
       "array([11.17284232, 11.33193378, 10.13615511,  9.82280289, 11.10504003,\n",
       "       10.52448838, 10.87317676, 10.40464315, 10.36820982, 10.95147782,\n",
       "       11.31000473, 10.13245237, 10.70944005, 10.93073339, 11.15269615,\n",
       "       11.08388717, 11.18413316, 11.94951936, 10.72498819, 10.81100446,\n",
       "       10.59023887, 10.38216185, 11.07776425, 11.35990585, 11.02228621,\n",
       "       10.72866046, 10.73189627, 11.45731125, 10.33620094, 11.10485274,\n",
       "        9.77931604, 11.93021369, 10.42448164, 10.74833254, 11.24786898,\n",
       "       11.12699853, 12.65094157, 10.54874582, 10.69275396, 10.07550007,\n",
       "       11.40481418, 10.25436369, 11.18191438, 10.12562676, 10.9785695 ,\n",
       "       11.31436882, 11.22705705, 10.77015416, 10.91160302, 11.0012639 ,\n",
       "        9.61903395, 10.79980777, 10.09686829, 10.91071448, 11.48186494,\n",
       "       12.09957269, 10.04037881, 11.74991475, 10.99711414, 10.81376431,\n",
       "       10.4365697 , 10.56593153, 10.29838768, 10.65827348, 10.66777328,\n",
       "       11.72157416, 11.00349205, 10.23849551, 10.66097079, 11.10680965,\n",
       "       10.16858084, 10.75574635, 10.44109014, 11.12034525, 11.30096083,\n",
       "       10.73400147, 11.969923  , 10.98305158, 11.27801001, 10.63610005,\n",
       "        9.99989914, 10.59596189, 11.12153623, 10.84406641, 11.47108394,\n",
       "       10.02199483, 10.80812034, 10.20638484, 10.94811827, 11.44991745,\n",
       "       11.62067115, 11.07352767,  9.36961651, 10.87583808, 10.65408869,\n",
       "       10.9957373 , 11.45079446, 11.10680965, 11.16791062, 11.79546502,\n",
       "       11.50648322, 10.80311311, 11.44225114, 10.81785743, 11.57464642,\n",
       "       10.2308196 , 10.8192541 , 10.34255068,  9.94947298, 10.67411074,\n",
       "       10.05289372, 10.45593091, 10.54874582, 10.03771389,  9.89551304,\n",
       "       11.18608654,  9.71239587, 10.08347573, 10.79281779, 11.46807024,\n",
       "       10.4735764 , 11.40106467, 11.03742784, 10.61105282, 11.16208655,\n",
       "       10.94345877, 11.71398698, 10.63844181])"
      ]
     },
     "execution_count": 99,
     "metadata": {},
     "output_type": "execute_result"
    }
   ],
   "source": [
    "\n",
    "y_pred = model.predict(X_test)\n",
    "y_pred"
   ]
  },
  {
   "cell_type": "code",
   "execution_count": 100,
   "metadata": {
    "colab": {
     "base_uri": "https://localhost:8080/"
    },
    "id": "J5jNhh0cnxHW",
    "outputId": "364b2949-f8ca-4845-e152-3689306a213d"
   },
   "outputs": [
    {
     "name": "stdout",
     "output_type": "stream",
     "text": [
      "LinearReg_MOdel_score:0.80\n"
     ]
    }
   ],
   "source": [
    "# Linear Regression r2_Score\n",
    "lr_score=r2_score(y_test,y_pred)\n",
    "\n",
    "print(f\"LinearReg_MOdel_score:{lr_score:.2f}\")"
   ]
  },
  {
   "cell_type": "code",
   "execution_count": 101,
   "metadata": {
    "colab": {
     "base_uri": "https://localhost:8080/",
     "height": 424
    },
    "id": "FnahiJyWpMpC",
    "outputId": "e00412b6-674c-47bc-ab38-c773c089ebf5"
   },
   "outputs": [
    {
     "data": {
      "text/html": [
       "<div>\n",
       "<style scoped>\n",
       "    .dataframe tbody tr th:only-of-type {\n",
       "        vertical-align: middle;\n",
       "    }\n",
       "\n",
       "    .dataframe tbody tr th {\n",
       "        vertical-align: top;\n",
       "    }\n",
       "\n",
       "    .dataframe thead th {\n",
       "        text-align: right;\n",
       "    }\n",
       "</style>\n",
       "<table border=\"1\" class=\"dataframe\">\n",
       "  <thead>\n",
       "    <tr style=\"text-align: right;\">\n",
       "      <th></th>\n",
       "      <th>y_test</th>\n",
       "      <th>y_pred</th>\n",
       "    </tr>\n",
       "  </thead>\n",
       "  <tbody>\n",
       "    <tr>\n",
       "      <th>1032</th>\n",
       "      <td>11.058779</td>\n",
       "      <td>11.172842</td>\n",
       "    </tr>\n",
       "    <tr>\n",
       "      <th>918</th>\n",
       "      <td>11.182670</td>\n",
       "      <td>11.331934</td>\n",
       "    </tr>\n",
       "    <tr>\n",
       "      <th>559</th>\n",
       "      <td>10.401866</td>\n",
       "      <td>10.136155</td>\n",
       "    </tr>\n",
       "    <tr>\n",
       "      <th>584</th>\n",
       "      <td>9.662498</td>\n",
       "      <td>9.822803</td>\n",
       "    </tr>\n",
       "    <tr>\n",
       "      <th>786</th>\n",
       "      <td>10.968560</td>\n",
       "      <td>11.105040</td>\n",
       "    </tr>\n",
       "    <tr>\n",
       "      <th>...</th>\n",
       "      <td>...</td>\n",
       "      <td>...</td>\n",
       "    </tr>\n",
       "    <tr>\n",
       "      <th>581</th>\n",
       "      <td>10.891783</td>\n",
       "      <td>10.611053</td>\n",
       "    </tr>\n",
       "    <tr>\n",
       "      <th>1160</th>\n",
       "      <td>11.288106</td>\n",
       "      <td>11.162087</td>\n",
       "    </tr>\n",
       "    <tr>\n",
       "      <th>1033</th>\n",
       "      <td>11.061453</td>\n",
       "      <td>10.943459</td>\n",
       "    </tr>\n",
       "    <tr>\n",
       "      <th>353</th>\n",
       "      <td>11.436206</td>\n",
       "      <td>11.713987</td>\n",
       "    </tr>\n",
       "    <tr>\n",
       "      <th>735</th>\n",
       "      <td>10.633569</td>\n",
       "      <td>10.638442</td>\n",
       "    </tr>\n",
       "  </tbody>\n",
       "</table>\n",
       "<p>128 rows × 2 columns</p>\n",
       "</div>"
      ],
      "text/plain": [
       "         y_test     y_pred\n",
       "1032  11.058779  11.172842\n",
       "918   11.182670  11.331934\n",
       "559   10.401866  10.136155\n",
       "584    9.662498   9.822803\n",
       "786   10.968560  11.105040\n",
       "...         ...        ...\n",
       "581   10.891783  10.611053\n",
       "1160  11.288106  11.162087\n",
       "1033  11.061453  10.943459\n",
       "353   11.436206  11.713987\n",
       "735   10.633569  10.638442\n",
       "\n",
       "[128 rows x 2 columns]"
      ]
     },
     "execution_count": 101,
     "metadata": {},
     "output_type": "execute_result"
    }
   ],
   "source": [
    "prediction_df=pd.DataFrame({\"y_test\":y_test,\"y_pred\":y_pred})\n",
    "prediction_df"
   ]
  },
  {
   "cell_type": "code",
   "execution_count": 102,
   "metadata": {
    "colab": {
     "base_uri": "https://localhost:8080/",
     "height": 424
    },
    "id": "rlK_-Us1quzd",
    "outputId": "52e57db2-0b7d-4705-ff0f-6a1f502aabe0"
   },
   "outputs": [
    {
     "data": {
      "text/html": [
       "<div>\n",
       "<style scoped>\n",
       "    .dataframe tbody tr th:only-of-type {\n",
       "        vertical-align: middle;\n",
       "    }\n",
       "\n",
       "    .dataframe tbody tr th {\n",
       "        vertical-align: top;\n",
       "    }\n",
       "\n",
       "    .dataframe thead th {\n",
       "        text-align: right;\n",
       "    }\n",
       "</style>\n",
       "<table border=\"1\" class=\"dataframe\">\n",
       "  <thead>\n",
       "    <tr style=\"text-align: right;\">\n",
       "      <th></th>\n",
       "      <th>Company</th>\n",
       "      <th>TypeName</th>\n",
       "      <th>Ram</th>\n",
       "      <th>Weight</th>\n",
       "      <th>Price</th>\n",
       "      <th>Touchscreen</th>\n",
       "      <th>IPSpanel</th>\n",
       "      <th>PPI</th>\n",
       "      <th>Cpu brand</th>\n",
       "      <th>HDD</th>\n",
       "      <th>SSD</th>\n",
       "      <th>Gpu brand</th>\n",
       "      <th>Os</th>\n",
       "    </tr>\n",
       "  </thead>\n",
       "  <tbody>\n",
       "    <tr>\n",
       "      <th>0</th>\n",
       "      <td>Apple</td>\n",
       "      <td>Ultrabook</td>\n",
       "      <td>8</td>\n",
       "      <td>1.37</td>\n",
       "      <td>11.175745</td>\n",
       "      <td>0</td>\n",
       "      <td>1</td>\n",
       "      <td>226.983002</td>\n",
       "      <td>Intel Core i5</td>\n",
       "      <td>0</td>\n",
       "      <td>128</td>\n",
       "      <td>Intel</td>\n",
       "      <td>Mac_OS</td>\n",
       "    </tr>\n",
       "    <tr>\n",
       "      <th>1</th>\n",
       "      <td>Apple</td>\n",
       "      <td>Ultrabook</td>\n",
       "      <td>8</td>\n",
       "      <td>1.34</td>\n",
       "      <td>10.776766</td>\n",
       "      <td>0</td>\n",
       "      <td>0</td>\n",
       "      <td>127.677940</td>\n",
       "      <td>Intel Core i5</td>\n",
       "      <td>0</td>\n",
       "      <td>0</td>\n",
       "      <td>Intel</td>\n",
       "      <td>Mac_OS</td>\n",
       "    </tr>\n",
       "    <tr>\n",
       "      <th>2</th>\n",
       "      <td>HP</td>\n",
       "      <td>Notebook</td>\n",
       "      <td>8</td>\n",
       "      <td>1.86</td>\n",
       "      <td>10.329931</td>\n",
       "      <td>0</td>\n",
       "      <td>0</td>\n",
       "      <td>141.212006</td>\n",
       "      <td>Intel Core i5</td>\n",
       "      <td>0</td>\n",
       "      <td>256</td>\n",
       "      <td>Intel</td>\n",
       "      <td>other/Android/Linux/Chrome</td>\n",
       "    </tr>\n",
       "    <tr>\n",
       "      <th>3</th>\n",
       "      <td>Apple</td>\n",
       "      <td>Ultrabook</td>\n",
       "      <td>16</td>\n",
       "      <td>1.83</td>\n",
       "      <td>11.814473</td>\n",
       "      <td>0</td>\n",
       "      <td>1</td>\n",
       "      <td>220.534622</td>\n",
       "      <td>Intel Core i7</td>\n",
       "      <td>0</td>\n",
       "      <td>512</td>\n",
       "      <td>AMD</td>\n",
       "      <td>Mac_OS</td>\n",
       "    </tr>\n",
       "    <tr>\n",
       "      <th>4</th>\n",
       "      <td>Apple</td>\n",
       "      <td>Ultrabook</td>\n",
       "      <td>8</td>\n",
       "      <td>1.37</td>\n",
       "      <td>11.473093</td>\n",
       "      <td>0</td>\n",
       "      <td>1</td>\n",
       "      <td>226.983002</td>\n",
       "      <td>Intel Core i5</td>\n",
       "      <td>0</td>\n",
       "      <td>256</td>\n",
       "      <td>Intel</td>\n",
       "      <td>Mac_OS</td>\n",
       "    </tr>\n",
       "    <tr>\n",
       "      <th>...</th>\n",
       "      <td>...</td>\n",
       "      <td>...</td>\n",
       "      <td>...</td>\n",
       "      <td>...</td>\n",
       "      <td>...</td>\n",
       "      <td>...</td>\n",
       "      <td>...</td>\n",
       "      <td>...</td>\n",
       "      <td>...</td>\n",
       "      <td>...</td>\n",
       "      <td>...</td>\n",
       "      <td>...</td>\n",
       "      <td>...</td>\n",
       "    </tr>\n",
       "    <tr>\n",
       "      <th>1269</th>\n",
       "      <td>Asus</td>\n",
       "      <td>Notebook</td>\n",
       "      <td>4</td>\n",
       "      <td>2.20</td>\n",
       "      <td>10.555240</td>\n",
       "      <td>0</td>\n",
       "      <td>0</td>\n",
       "      <td>100.454666</td>\n",
       "      <td>Intel Core i7</td>\n",
       "      <td>500</td>\n",
       "      <td>0</td>\n",
       "      <td>Nvidia</td>\n",
       "      <td>Windows_OS</td>\n",
       "    </tr>\n",
       "    <tr>\n",
       "      <th>1270</th>\n",
       "      <td>Lenovo</td>\n",
       "      <td>2 in 1 Convertible</td>\n",
       "      <td>4</td>\n",
       "      <td>1.80</td>\n",
       "      <td>10.433880</td>\n",
       "      <td>1</td>\n",
       "      <td>1</td>\n",
       "      <td>157.350510</td>\n",
       "      <td>Intel Core i7</td>\n",
       "      <td>0</td>\n",
       "      <td>128</td>\n",
       "      <td>Intel</td>\n",
       "      <td>Windows_OS</td>\n",
       "    </tr>\n",
       "    <tr>\n",
       "      <th>1271</th>\n",
       "      <td>Lenovo</td>\n",
       "      <td>2 in 1 Convertible</td>\n",
       "      <td>16</td>\n",
       "      <td>1.30</td>\n",
       "      <td>11.288106</td>\n",
       "      <td>1</td>\n",
       "      <td>1</td>\n",
       "      <td>276.053528</td>\n",
       "      <td>Intel Core i7</td>\n",
       "      <td>0</td>\n",
       "      <td>512</td>\n",
       "      <td>Intel</td>\n",
       "      <td>Windows_OS</td>\n",
       "    </tr>\n",
       "    <tr>\n",
       "      <th>1272</th>\n",
       "      <td>Lenovo</td>\n",
       "      <td>Notebook</td>\n",
       "      <td>2</td>\n",
       "      <td>1.50</td>\n",
       "      <td>9.409273</td>\n",
       "      <td>0</td>\n",
       "      <td>0</td>\n",
       "      <td>111.935204</td>\n",
       "      <td>Other Intel Processors</td>\n",
       "      <td>0</td>\n",
       "      <td>0</td>\n",
       "      <td>Intel</td>\n",
       "      <td>Windows_OS</td>\n",
       "    </tr>\n",
       "    <tr>\n",
       "      <th>1273</th>\n",
       "      <td>HP</td>\n",
       "      <td>Notebook</td>\n",
       "      <td>6</td>\n",
       "      <td>2.19</td>\n",
       "      <td>10.614106</td>\n",
       "      <td>0</td>\n",
       "      <td>0</td>\n",
       "      <td>100.454666</td>\n",
       "      <td>Intel Core i7</td>\n",
       "      <td>1000</td>\n",
       "      <td>0</td>\n",
       "      <td>AMD</td>\n",
       "      <td>Windows_OS</td>\n",
       "    </tr>\n",
       "  </tbody>\n",
       "</table>\n",
       "<p>1273 rows × 13 columns</p>\n",
       "</div>"
      ],
      "text/plain": [
       "     Company            TypeName  Ram  Weight      Price  Touchscreen  \\\n",
       "0      Apple           Ultrabook    8    1.37  11.175745            0   \n",
       "1      Apple           Ultrabook    8    1.34  10.776766            0   \n",
       "2         HP            Notebook    8    1.86  10.329931            0   \n",
       "3      Apple           Ultrabook   16    1.83  11.814473            0   \n",
       "4      Apple           Ultrabook    8    1.37  11.473093            0   \n",
       "...      ...                 ...  ...     ...        ...          ...   \n",
       "1269    Asus            Notebook    4    2.20  10.555240            0   \n",
       "1270  Lenovo  2 in 1 Convertible    4    1.80  10.433880            1   \n",
       "1271  Lenovo  2 in 1 Convertible   16    1.30  11.288106            1   \n",
       "1272  Lenovo            Notebook    2    1.50   9.409273            0   \n",
       "1273      HP            Notebook    6    2.19  10.614106            0   \n",
       "\n",
       "      IPSpanel         PPI               Cpu brand   HDD  SSD Gpu brand  \\\n",
       "0            1  226.983002           Intel Core i5     0  128     Intel   \n",
       "1            0  127.677940           Intel Core i5     0    0     Intel   \n",
       "2            0  141.212006           Intel Core i5     0  256     Intel   \n",
       "3            1  220.534622           Intel Core i7     0  512       AMD   \n",
       "4            1  226.983002           Intel Core i5     0  256     Intel   \n",
       "...        ...         ...                     ...   ...  ...       ...   \n",
       "1269         0  100.454666           Intel Core i7   500    0    Nvidia   \n",
       "1270         1  157.350510           Intel Core i7     0  128     Intel   \n",
       "1271         1  276.053528           Intel Core i7     0  512     Intel   \n",
       "1272         0  111.935204  Other Intel Processors     0    0     Intel   \n",
       "1273         0  100.454666           Intel Core i7  1000    0       AMD   \n",
       "\n",
       "                              Os  \n",
       "0                         Mac_OS  \n",
       "1                         Mac_OS  \n",
       "2     other/Android/Linux/Chrome  \n",
       "3                         Mac_OS  \n",
       "4                         Mac_OS  \n",
       "...                          ...  \n",
       "1269                  Windows_OS  \n",
       "1270                  Windows_OS  \n",
       "1271                  Windows_OS  \n",
       "1272                  Windows_OS  \n",
       "1273                  Windows_OS  \n",
       "\n",
       "[1273 rows x 13 columns]"
      ]
     },
     "execution_count": 102,
     "metadata": {},
     "output_type": "execute_result"
    }
   ],
   "source": [
    "df"
   ]
  },
  {
   "cell_type": "code",
   "execution_count": 103,
   "metadata": {
    "colab": {
     "base_uri": "https://localhost:8080/"
    },
    "id": "lUVoDvtPqc5X",
    "outputId": "004f785b-7a3f-46c0-c18d-ac452ef6fb5f"
   },
   "outputs": [
    {
     "name": "stderr",
     "output_type": "stream",
     "text": [
      "c:\\Users\\wasid\\anaconda3\\Lib\\site-packages\\sklearn\\preprocessing\\_encoders.py:227: UserWarning: Found unknown categories in columns [0] during transform. These unknown categories will be encoded as all zeros\n",
      "  warnings.warn(\n"
     ]
    },
    {
     "data": {
      "text/plain": [
       "array([11.01595706])"
      ]
     },
     "execution_count": 103,
     "metadata": {},
     "output_type": "execute_result"
    }
   ],
   "source": [
    "# user prompt for prediction\n",
    "querry=np.array([\"Hp\",\"Ultrabook\",4, 1.37,\t0,\t1,\t230.983002,\t\"Intel Core i5\",\t128,\t128,\t\"Intel\",\t\"Mac_OS\"])\n",
    "\n",
    "# need to convert into\n",
    "querry_df=pd.DataFrame([querry], columns=X_train.columns)\n",
    "\n",
    "# user's prediction\n",
    "result=model.predict(querry_df)\n",
    "result"
   ]
  },
  {
   "cell_type": "code",
   "execution_count": 104,
   "metadata": {},
   "outputs": [
    {
     "data": {
      "text/plain": [
       "array([60837.22065751])"
      ]
     },
     "execution_count": 104,
     "metadata": {},
     "output_type": "execute_result"
    }
   ],
   "source": [
    "# converting back to normal price\n",
    "np.exp(result)"
   ]
  },
  {
   "cell_type": "code",
   "execution_count": null,
   "metadata": {
    "id": "fKNRBUSwrSyk"
   },
   "outputs": [],
   "source": []
  },
  {
   "cell_type": "markdown",
   "metadata": {
    "id": "ZqwMrRa10jyu"
   },
   "source": [
    "# Ridge Regression"
   ]
  },
  {
   "cell_type": "code",
   "execution_count": 105,
   "metadata": {
    "colab": {
     "base_uri": "https://localhost:8080/"
    },
    "id": "faHReAFNrWUZ",
    "outputId": "df546f7f-d8b4-4c5b-fd99-0802d0d73ea0"
   },
   "outputs": [
    {
     "name": "stdout",
     "output_type": "stream",
     "text": [
      "Ridge_MOdel_score:0.80\n"
     ]
    }
   ],
   "source": [
    "# step 1\n",
    "\n",
    "col_tran=ColumnTransformer( transformers=[\n",
    "    (\"col_transorming\",OneHotEncoder(drop='first',handle_unknown='ignore'),[0,1,7,10,11])\n",
    "], remainder=\"passthrough\" )\n",
    "\n",
    "#step2\n",
    "rr=Ridge(alpha=1)\n",
    "\n",
    "# step3\n",
    "model=Pipeline([\n",
    "    ('transformer',col_tran),\n",
    "    ('Ridge',rr)\n",
    "])\n",
    "\n",
    "model.fit(X_train,y_train)\n",
    "\n",
    "yrr_pred = model.predict(X_test)\n",
    "\n",
    "# Linear Regression r2_Score\n",
    "rr_score=r2_score(y_test,yrr_pred)\n",
    "\n",
    "print(f\"Ridge_MOdel_score:{rr_score:.2f}\")"
   ]
  },
  {
   "cell_type": "markdown",
   "metadata": {
    "id": "VjsHLFU33AFO"
   },
   "source": [
    "# Lasso Regression"
   ]
  },
  {
   "cell_type": "code",
   "execution_count": 106,
   "metadata": {
    "colab": {
     "base_uri": "https://localhost:8080/"
    },
    "id": "Mm_tRs5V1xMz",
    "outputId": "8b7a6ce5-5c97-4d61-fcdb-e31e2541b300"
   },
   "outputs": [
    {
     "name": "stdout",
     "output_type": "stream",
     "text": [
      "Lasso_MOdel_score:0.80\n"
     ]
    }
   ],
   "source": [
    "# step 1\n",
    "col_tran=ColumnTransformer( transformers=[\n",
    "    (\"col_transorming\",OneHotEncoder(drop='first',handle_unknown='ignore'),[0,1,7,10,11])\n",
    "], remainder=\"passthrough\" )\n",
    "\n",
    "#step2\n",
    "lso=Lasso(alpha=0.001)\n",
    "\n",
    "# step3\n",
    "model=Pipeline([\n",
    "    ('transformer',col_tran),\n",
    "    ('lasso',lso)\n",
    "])\n",
    "\n",
    "model.fit(X_train,y_train)\n",
    "\n",
    "ylso_pred = model.predict(X_test)\n",
    "\n",
    "# Linear Regression r2_Score\n",
    "lso_score=r2_score(y_test,ylso_pred)\n",
    "\n",
    "print(f\"Lasso_MOdel_score:{lso_score:.2f}\")"
   ]
  },
  {
   "cell_type": "markdown",
   "metadata": {
    "id": "5CYGJmAu3n4K"
   },
   "source": [
    "# KNN"
   ]
  },
  {
   "cell_type": "code",
   "execution_count": 107,
   "metadata": {
    "colab": {
     "base_uri": "https://localhost:8080/"
    },
    "id": "sSIU9U7Y3fPI",
    "outputId": "6a61b366-cf6d-45c1-aaa3-419036eea1f9"
   },
   "outputs": [
    {
     "name": "stdout",
     "output_type": "stream",
     "text": [
      "KNN_MOdel_score:0.84\n"
     ]
    }
   ],
   "source": [
    "# step 1\n",
    "col_tran=ColumnTransformer( transformers=[\n",
    "    (\"col_transorming\",OneHotEncoder(drop='first',handle_unknown='ignore'),[0,1,7,10,11])\n",
    "], remainder=\"passthrough\" )\n",
    "\n",
    "#step2\n",
    "knn=KNeighborsRegressor(weights=\"distance\", n_neighbors=5)\n",
    "\n",
    "# step3\n",
    "model=Pipeline([\n",
    "    ('transformer',col_tran),\n",
    "    ('knn',knn)\n",
    "])\n",
    "\n",
    "model.fit(X_train,y_train)\n",
    "\n",
    "yknn_pred = model.predict(X_test)\n",
    "\n",
    "# Linear Regression r2_Score\n",
    "knn_score=r2_score(y_test,yknn_pred)\n",
    "\n",
    "print(f\"KNN_MOdel_score:{knn_score:.2f}\")"
   ]
  },
  {
   "cell_type": "markdown",
   "metadata": {
    "id": "y7cGfG0u4nJU"
   },
   "source": [
    "# Decission Tree"
   ]
  },
  {
   "cell_type": "code",
   "execution_count": 108,
   "metadata": {
    "colab": {
     "base_uri": "https://localhost:8080/"
    },
    "id": "IMEoRj8r4FF6",
    "outputId": "193765c2-333f-4006-b677-9c5ab295af19"
   },
   "outputs": [
    {
     "name": "stdout",
     "output_type": "stream",
     "text": [
      "Decission Tree_MOdel_score:0.84\n"
     ]
    }
   ],
   "source": [
    "# step 1\n",
    "col_tran=ColumnTransformer( transformers=[\n",
    "    (\"col_transorming\",OneHotEncoder(drop='first',handle_unknown='ignore'),[0,1,7,10,11])\n",
    "], remainder=\"passthrough\" )\n",
    "\n",
    "#step2\n",
    "dt=DecisionTreeRegressor(max_depth=5 ,random_state= 100)\n",
    "\n",
    "# step3\n",
    "model=Pipeline([\n",
    "    ('transformer',col_tran),\n",
    "    ('Dt',dt)\n",
    "])\n",
    "\n",
    "model.fit(X_train,y_train)\n",
    "\n",
    "ydt_pred = model.predict(X_test)\n",
    "\n",
    "# Linear Regression r2_Score\n",
    "dt_score=r2_score(y_test,yknn_pred)\n",
    "\n",
    "print(f\"Decission Tree_MOdel_score:{dt_score:.2f}\")"
   ]
  },
  {
   "cell_type": "markdown",
   "metadata": {
    "id": "OYTvm7q6_NJE"
   },
   "source": [
    "# Random Forest"
   ]
  },
  {
   "cell_type": "code",
   "execution_count": 109,
   "metadata": {
    "id": "0h8X3i6e6Voc"
   },
   "outputs": [
    {
     "name": "stdout",
     "output_type": "stream",
     "text": [
      "Random Forest_MOdel_score:0.87\n"
     ]
    }
   ],
   "source": [
    "# step 1\n",
    "col_tran=ColumnTransformer( transformers=[\n",
    "    (\"col_transorming\",OneHotEncoder(drop='first',handle_unknown='ignore'),[0,1,7,10,11])\n",
    "], remainder=\"passthrough\" )\n",
    "\n",
    "#step2\n",
    "rf = RandomForestRegressor(n_estimators=100, max_samples=.7, max_depth=12, max_features=.7 )\n",
    "\n",
    "# step3\n",
    "rf_model=Pipeline([\n",
    "    ('transformer',col_tran),\n",
    "    ('Random Forest',rf)\n",
    "])\n",
    "\n",
    "rf_model.fit(X_train,y_train)\n",
    "\n",
    "yrf_pred = rf_model.predict(X_test)\n",
    "\n",
    "# Linear Regression r2_Score\n",
    "rf_score=r2_score(y_test,yrf_pred)\n",
    "\n",
    "print(f\"Random Forest_MOdel_score:{rf_score:.2f}\")\n"
   ]
  },
  {
   "cell_type": "markdown",
   "metadata": {
    "id": "PuBPzGpnCa-n"
   },
   "source": [
    "# GradientBoost"
   ]
  },
  {
   "cell_type": "code",
   "execution_count": 110,
   "metadata": {
    "id": "t4BUoSne__nd"
   },
   "outputs": [
    {
     "name": "stdout",
     "output_type": "stream",
     "text": [
      "Gradient Boosting_MOdel_score:0.86\n"
     ]
    }
   ],
   "source": [
    "# step 1\n",
    "col_tran=ColumnTransformer( transformers=[\n",
    "    (\"col_transorming\",OneHotEncoder(drop='first',handle_unknown='ignore'),[0,1,7,10,11])\n",
    "], remainder=\"passthrough\" )\n",
    "\n",
    "#step2\n",
    "gb = GradientBoostingRegressor(n_estimators=100)\n",
    "\n",
    "# step3\n",
    "model=Pipeline([\n",
    "    ('transformer',col_tran),\n",
    "    ('GB',gb)\n",
    "])\n",
    "\n",
    "model.fit(X_train,y_train)\n",
    "\n",
    "ygb_pred = model.predict(X_test)\n",
    "\n",
    "# Linear Regression r2_Score\n",
    "gb_score=r2_score(y_test,ygb_pred)\n",
    "\n",
    "print(f\"Gradient Boosting_MOdel_score:{gb_score:.2f}\")"
   ]
  },
  {
   "cell_type": "markdown",
   "metadata": {
    "id": "Of6u5fVkC8Qk"
   },
   "source": [
    "# XGBoost"
   ]
  },
  {
   "cell_type": "code",
   "execution_count": 111,
   "metadata": {
    "id": "AHT1aFjUC5ew"
   },
   "outputs": [
    {
     "name": "stdout",
     "output_type": "stream",
     "text": [
      "XGBoost_MOdel_score:0.87\n"
     ]
    },
    {
     "name": "stderr",
     "output_type": "stream",
     "text": [
      "c:\\Users\\wasid\\anaconda3\\Lib\\site-packages\\xgboost\\core.py:158: UserWarning: [19:29:28] WARNING: C:\\buildkite-agent\\builds\\buildkite-windows-cpu-autoscaling-group-i-0c55ff5f71b100e98-1\\xgboost\\xgboost-ci-windows\\src\\learner.cc:740: \n",
      "Parameters: { \"max_samples\" } are not used.\n",
      "\n",
      "  warnings.warn(smsg, UserWarning)\n"
     ]
    }
   ],
   "source": [
    "# step 1\n",
    "col_tran=ColumnTransformer( transformers=[\n",
    "    (\"col_transorming\",OneHotEncoder(drop='first',handle_unknown='ignore'),[0,1,7,10,11])\n",
    "], remainder=\"passthrough\" )\n",
    "\n",
    "#step2\n",
    "xgb =XGBRegressor(n_estimators=100, max_samples=.3)\n",
    "\n",
    "# step3\n",
    "model=Pipeline([\n",
    "    ('transformer',col_tran),\n",
    "    ('xGB',xgb)\n",
    "])\n",
    "\n",
    "model.fit(X_train,y_train)\n",
    "\n",
    "yxgb_pred = model.predict(X_test)\n",
    "\n",
    "# Linear Regression r2_Score\n",
    "xgb_score=r2_score(y_test,yxgb_pred)\n",
    "\n",
    "print(f\"XGBoost_MOdel_score:{xgb_score:.2f}\")"
   ]
  },
  {
   "cell_type": "code",
   "execution_count": 112,
   "metadata": {
    "id": "ZqB6zEJCC5jF"
   },
   "outputs": [
    {
     "data": {
      "text/html": [
       "<div>\n",
       "<style scoped>\n",
       "    .dataframe tbody tr th:only-of-type {\n",
       "        vertical-align: middle;\n",
       "    }\n",
       "\n",
       "    .dataframe tbody tr th {\n",
       "        vertical-align: top;\n",
       "    }\n",
       "\n",
       "    .dataframe thead th {\n",
       "        text-align: right;\n",
       "    }\n",
       "</style>\n",
       "<table border=\"1\" class=\"dataframe\">\n",
       "  <thead>\n",
       "    <tr style=\"text-align: right;\">\n",
       "      <th></th>\n",
       "      <th>Company</th>\n",
       "      <th>TypeName</th>\n",
       "      <th>Ram</th>\n",
       "      <th>Weight</th>\n",
       "      <th>Price</th>\n",
       "      <th>Touchscreen</th>\n",
       "      <th>IPSpanel</th>\n",
       "      <th>PPI</th>\n",
       "      <th>Cpu brand</th>\n",
       "      <th>HDD</th>\n",
       "      <th>SSD</th>\n",
       "      <th>Gpu brand</th>\n",
       "      <th>Os</th>\n",
       "    </tr>\n",
       "  </thead>\n",
       "  <tbody>\n",
       "    <tr>\n",
       "      <th>0</th>\n",
       "      <td>Apple</td>\n",
       "      <td>Ultrabook</td>\n",
       "      <td>8</td>\n",
       "      <td>1.37</td>\n",
       "      <td>11.175745</td>\n",
       "      <td>0</td>\n",
       "      <td>1</td>\n",
       "      <td>226.983002</td>\n",
       "      <td>Intel Core i5</td>\n",
       "      <td>0</td>\n",
       "      <td>128</td>\n",
       "      <td>Intel</td>\n",
       "      <td>Mac_OS</td>\n",
       "    </tr>\n",
       "    <tr>\n",
       "      <th>1</th>\n",
       "      <td>Apple</td>\n",
       "      <td>Ultrabook</td>\n",
       "      <td>8</td>\n",
       "      <td>1.34</td>\n",
       "      <td>10.776766</td>\n",
       "      <td>0</td>\n",
       "      <td>0</td>\n",
       "      <td>127.677940</td>\n",
       "      <td>Intel Core i5</td>\n",
       "      <td>0</td>\n",
       "      <td>0</td>\n",
       "      <td>Intel</td>\n",
       "      <td>Mac_OS</td>\n",
       "    </tr>\n",
       "  </tbody>\n",
       "</table>\n",
       "</div>"
      ],
      "text/plain": [
       "  Company   TypeName  Ram  Weight      Price  Touchscreen  IPSpanel  \\\n",
       "0   Apple  Ultrabook    8    1.37  11.175745            0         1   \n",
       "1   Apple  Ultrabook    8    1.34  10.776766            0         0   \n",
       "\n",
       "          PPI      Cpu brand  HDD  SSD Gpu brand      Os  \n",
       "0  226.983002  Intel Core i5    0  128     Intel  Mac_OS  \n",
       "1  127.677940  Intel Core i5    0    0     Intel  Mac_OS  "
      ]
     },
     "execution_count": 112,
     "metadata": {},
     "output_type": "execute_result"
    }
   ],
   "source": [
    "df.head(2)"
   ]
  },
  {
   "cell_type": "code",
   "execution_count": 113,
   "metadata": {
    "id": "oqZWVoK2C5nc"
   },
   "outputs": [],
   "source": [
    "# We will choose and use RandomForest Regressor ensemble learning algoritm, which is performing best."
   ]
  },
  {
   "cell_type": "code",
   "execution_count": 114,
   "metadata": {},
   "outputs": [],
   "source": [
    "import pickle"
   ]
  },
  {
   "cell_type": "code",
   "execution_count": 115,
   "metadata": {},
   "outputs": [],
   "source": [
    "pickle.dump(df,open(\"df.pkl\",'wb'))\n",
    "pickle.dump(rf_model,open(\"pipeline.pkl\",'wb'))"
   ]
  },
  {
   "cell_type": "code",
   "execution_count": null,
   "metadata": {},
   "outputs": [],
   "source": []
  },
  {
   "cell_type": "code",
   "execution_count": null,
   "metadata": {},
   "outputs": [],
   "source": []
  }
 ],
 "metadata": {
  "colab": {
   "provenance": []
  },
  "kernelspec": {
   "display_name": "base",
   "language": "python",
   "name": "python3"
  },
  "language_info": {
   "codemirror_mode": {
    "name": "ipython",
    "version": 3
   },
   "file_extension": ".py",
   "mimetype": "text/x-python",
   "name": "python",
   "nbconvert_exporter": "python",
   "pygments_lexer": "ipython3",
   "version": "3.11.5"
  }
 },
 "nbformat": 4,
 "nbformat_minor": 1
}
